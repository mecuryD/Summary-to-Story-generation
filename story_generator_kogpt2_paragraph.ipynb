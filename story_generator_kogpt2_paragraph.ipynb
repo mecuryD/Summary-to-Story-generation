{
  "nbformat": 4,
  "nbformat_minor": 0,
  "metadata": {
    "colab": {
      "name": "story-generator-kogpt2-paragraph.ipynb",
      "provenance": [],
      "collapsed_sections": [],
      "authorship_tag": "ABX9TyO9hMck4JRhWsqHYwdihZ72",
      "include_colab_link": true
    },
    "kernelspec": {
      "name": "python3",
      "display_name": "Python 3"
    },
    "language_info": {
      "name": "python"
    },
    "accelerator": "GPU",
    "gpuClass": "standard",
    "widgets": {
      "application/vnd.jupyter.widget-state+json": {
        "a12363675b7c46ceb862cc9c9c576452": {
          "model_module": "@jupyter-widgets/controls",
          "model_name": "HBoxModel",
          "model_module_version": "1.5.0",
          "state": {
            "_dom_classes": [],
            "_model_module": "@jupyter-widgets/controls",
            "_model_module_version": "1.5.0",
            "_model_name": "HBoxModel",
            "_view_count": null,
            "_view_module": "@jupyter-widgets/controls",
            "_view_module_version": "1.5.0",
            "_view_name": "HBoxView",
            "box_style": "",
            "children": [
              "IPY_MODEL_7391d08edb6242ac9e30dff81f14489f",
              "IPY_MODEL_82e5f351e25447a9bbd4e0c582cf3430",
              "IPY_MODEL_df4675f8fb754b0daf3a701eb68005ce"
            ],
            "layout": "IPY_MODEL_7f25b2bc1e9f4ca082924589d5936e8d"
          }
        },
        "7391d08edb6242ac9e30dff81f14489f": {
          "model_module": "@jupyter-widgets/controls",
          "model_name": "HTMLModel",
          "model_module_version": "1.5.0",
          "state": {
            "_dom_classes": [],
            "_model_module": "@jupyter-widgets/controls",
            "_model_module_version": "1.5.0",
            "_model_name": "HTMLModel",
            "_view_count": null,
            "_view_module": "@jupyter-widgets/controls",
            "_view_module_version": "1.5.0",
            "_view_name": "HTMLView",
            "description": "",
            "description_tooltip": null,
            "layout": "IPY_MODEL_40cbc0b6fa0c48a5ac23bcf7adc41527",
            "placeholder": "​",
            "style": "IPY_MODEL_97351512bccf428ab000c1e50f74536b",
            "value": "Epoch 2: 100%"
          }
        },
        "82e5f351e25447a9bbd4e0c582cf3430": {
          "model_module": "@jupyter-widgets/controls",
          "model_name": "FloatProgressModel",
          "model_module_version": "1.5.0",
          "state": {
            "_dom_classes": [],
            "_model_module": "@jupyter-widgets/controls",
            "_model_module_version": "1.5.0",
            "_model_name": "FloatProgressModel",
            "_view_count": null,
            "_view_module": "@jupyter-widgets/controls",
            "_view_module_version": "1.5.0",
            "_view_name": "ProgressView",
            "bar_style": "success",
            "description": "",
            "description_tooltip": null,
            "layout": "IPY_MODEL_e54b0f5d0db64c54b824a574c5cc6066",
            "max": 366,
            "min": 0,
            "orientation": "horizontal",
            "style": "IPY_MODEL_207a4b677112422b9751456266e60f9f",
            "value": 366
          }
        },
        "df4675f8fb754b0daf3a701eb68005ce": {
          "model_module": "@jupyter-widgets/controls",
          "model_name": "HTMLModel",
          "model_module_version": "1.5.0",
          "state": {
            "_dom_classes": [],
            "_model_module": "@jupyter-widgets/controls",
            "_model_module_version": "1.5.0",
            "_model_name": "HTMLModel",
            "_view_count": null,
            "_view_module": "@jupyter-widgets/controls",
            "_view_module_version": "1.5.0",
            "_view_name": "HTMLView",
            "description": "",
            "description_tooltip": null,
            "layout": "IPY_MODEL_8fcea1f0474c4ec7a65a2020a92dfa84",
            "placeholder": "​",
            "style": "IPY_MODEL_f4170b5fbb9a4f74b22103454b1803d6",
            "value": " 366/366 [02:57&lt;00:00,  2.06it/s, loss=3.56, v_num=2, val_loss=3.970]"
          }
        },
        "7f25b2bc1e9f4ca082924589d5936e8d": {
          "model_module": "@jupyter-widgets/base",
          "model_name": "LayoutModel",
          "model_module_version": "1.2.0",
          "state": {
            "_model_module": "@jupyter-widgets/base",
            "_model_module_version": "1.2.0",
            "_model_name": "LayoutModel",
            "_view_count": null,
            "_view_module": "@jupyter-widgets/base",
            "_view_module_version": "1.2.0",
            "_view_name": "LayoutView",
            "align_content": null,
            "align_items": null,
            "align_self": null,
            "border": null,
            "bottom": null,
            "display": "inline-flex",
            "flex": null,
            "flex_flow": "row wrap",
            "grid_area": null,
            "grid_auto_columns": null,
            "grid_auto_flow": null,
            "grid_auto_rows": null,
            "grid_column": null,
            "grid_gap": null,
            "grid_row": null,
            "grid_template_areas": null,
            "grid_template_columns": null,
            "grid_template_rows": null,
            "height": null,
            "justify_content": null,
            "justify_items": null,
            "left": null,
            "margin": null,
            "max_height": null,
            "max_width": null,
            "min_height": null,
            "min_width": null,
            "object_fit": null,
            "object_position": null,
            "order": null,
            "overflow": null,
            "overflow_x": null,
            "overflow_y": null,
            "padding": null,
            "right": null,
            "top": null,
            "visibility": null,
            "width": "100%"
          }
        },
        "40cbc0b6fa0c48a5ac23bcf7adc41527": {
          "model_module": "@jupyter-widgets/base",
          "model_name": "LayoutModel",
          "model_module_version": "1.2.0",
          "state": {
            "_model_module": "@jupyter-widgets/base",
            "_model_module_version": "1.2.0",
            "_model_name": "LayoutModel",
            "_view_count": null,
            "_view_module": "@jupyter-widgets/base",
            "_view_module_version": "1.2.0",
            "_view_name": "LayoutView",
            "align_content": null,
            "align_items": null,
            "align_self": null,
            "border": null,
            "bottom": null,
            "display": null,
            "flex": null,
            "flex_flow": null,
            "grid_area": null,
            "grid_auto_columns": null,
            "grid_auto_flow": null,
            "grid_auto_rows": null,
            "grid_column": null,
            "grid_gap": null,
            "grid_row": null,
            "grid_template_areas": null,
            "grid_template_columns": null,
            "grid_template_rows": null,
            "height": null,
            "justify_content": null,
            "justify_items": null,
            "left": null,
            "margin": null,
            "max_height": null,
            "max_width": null,
            "min_height": null,
            "min_width": null,
            "object_fit": null,
            "object_position": null,
            "order": null,
            "overflow": null,
            "overflow_x": null,
            "overflow_y": null,
            "padding": null,
            "right": null,
            "top": null,
            "visibility": null,
            "width": null
          }
        },
        "97351512bccf428ab000c1e50f74536b": {
          "model_module": "@jupyter-widgets/controls",
          "model_name": "DescriptionStyleModel",
          "model_module_version": "1.5.0",
          "state": {
            "_model_module": "@jupyter-widgets/controls",
            "_model_module_version": "1.5.0",
            "_model_name": "DescriptionStyleModel",
            "_view_count": null,
            "_view_module": "@jupyter-widgets/base",
            "_view_module_version": "1.2.0",
            "_view_name": "StyleView",
            "description_width": ""
          }
        },
        "e54b0f5d0db64c54b824a574c5cc6066": {
          "model_module": "@jupyter-widgets/base",
          "model_name": "LayoutModel",
          "model_module_version": "1.2.0",
          "state": {
            "_model_module": "@jupyter-widgets/base",
            "_model_module_version": "1.2.0",
            "_model_name": "LayoutModel",
            "_view_count": null,
            "_view_module": "@jupyter-widgets/base",
            "_view_module_version": "1.2.0",
            "_view_name": "LayoutView",
            "align_content": null,
            "align_items": null,
            "align_self": null,
            "border": null,
            "bottom": null,
            "display": null,
            "flex": "2",
            "flex_flow": null,
            "grid_area": null,
            "grid_auto_columns": null,
            "grid_auto_flow": null,
            "grid_auto_rows": null,
            "grid_column": null,
            "grid_gap": null,
            "grid_row": null,
            "grid_template_areas": null,
            "grid_template_columns": null,
            "grid_template_rows": null,
            "height": null,
            "justify_content": null,
            "justify_items": null,
            "left": null,
            "margin": null,
            "max_height": null,
            "max_width": null,
            "min_height": null,
            "min_width": null,
            "object_fit": null,
            "object_position": null,
            "order": null,
            "overflow": null,
            "overflow_x": null,
            "overflow_y": null,
            "padding": null,
            "right": null,
            "top": null,
            "visibility": null,
            "width": null
          }
        },
        "207a4b677112422b9751456266e60f9f": {
          "model_module": "@jupyter-widgets/controls",
          "model_name": "ProgressStyleModel",
          "model_module_version": "1.5.0",
          "state": {
            "_model_module": "@jupyter-widgets/controls",
            "_model_module_version": "1.5.0",
            "_model_name": "ProgressStyleModel",
            "_view_count": null,
            "_view_module": "@jupyter-widgets/base",
            "_view_module_version": "1.2.0",
            "_view_name": "StyleView",
            "bar_color": null,
            "description_width": ""
          }
        },
        "8fcea1f0474c4ec7a65a2020a92dfa84": {
          "model_module": "@jupyter-widgets/base",
          "model_name": "LayoutModel",
          "model_module_version": "1.2.0",
          "state": {
            "_model_module": "@jupyter-widgets/base",
            "_model_module_version": "1.2.0",
            "_model_name": "LayoutModel",
            "_view_count": null,
            "_view_module": "@jupyter-widgets/base",
            "_view_module_version": "1.2.0",
            "_view_name": "LayoutView",
            "align_content": null,
            "align_items": null,
            "align_self": null,
            "border": null,
            "bottom": null,
            "display": null,
            "flex": null,
            "flex_flow": null,
            "grid_area": null,
            "grid_auto_columns": null,
            "grid_auto_flow": null,
            "grid_auto_rows": null,
            "grid_column": null,
            "grid_gap": null,
            "grid_row": null,
            "grid_template_areas": null,
            "grid_template_columns": null,
            "grid_template_rows": null,
            "height": null,
            "justify_content": null,
            "justify_items": null,
            "left": null,
            "margin": null,
            "max_height": null,
            "max_width": null,
            "min_height": null,
            "min_width": null,
            "object_fit": null,
            "object_position": null,
            "order": null,
            "overflow": null,
            "overflow_x": null,
            "overflow_y": null,
            "padding": null,
            "right": null,
            "top": null,
            "visibility": null,
            "width": null
          }
        },
        "f4170b5fbb9a4f74b22103454b1803d6": {
          "model_module": "@jupyter-widgets/controls",
          "model_name": "DescriptionStyleModel",
          "model_module_version": "1.5.0",
          "state": {
            "_model_module": "@jupyter-widgets/controls",
            "_model_module_version": "1.5.0",
            "_model_name": "DescriptionStyleModel",
            "_view_count": null,
            "_view_module": "@jupyter-widgets/base",
            "_view_module_version": "1.2.0",
            "_view_name": "StyleView",
            "description_width": ""
          }
        },
        "88d45b7fed544e9a88f3c9b0856718c9": {
          "model_module": "@jupyter-widgets/controls",
          "model_name": "HBoxModel",
          "model_module_version": "1.5.0",
          "state": {
            "_dom_classes": [],
            "_model_module": "@jupyter-widgets/controls",
            "_model_module_version": "1.5.0",
            "_model_name": "HBoxModel",
            "_view_count": null,
            "_view_module": "@jupyter-widgets/controls",
            "_view_module_version": "1.5.0",
            "_view_name": "HBoxView",
            "box_style": "",
            "children": [
              "IPY_MODEL_7ac235dd1d8642d89e5a019544070ee4",
              "IPY_MODEL_dc390dbf6429414f9760e795516062e1",
              "IPY_MODEL_1e9f69597c634271946077114d8233d2"
            ],
            "layout": "IPY_MODEL_776b8335264949c680adaf5898af5aaf"
          }
        },
        "7ac235dd1d8642d89e5a019544070ee4": {
          "model_module": "@jupyter-widgets/controls",
          "model_name": "HTMLModel",
          "model_module_version": "1.5.0",
          "state": {
            "_dom_classes": [],
            "_model_module": "@jupyter-widgets/controls",
            "_model_module_version": "1.5.0",
            "_model_name": "HTMLModel",
            "_view_count": null,
            "_view_module": "@jupyter-widgets/controls",
            "_view_module_version": "1.5.0",
            "_view_name": "HTMLView",
            "description": "",
            "description_tooltip": null,
            "layout": "IPY_MODEL_e6d19445ba0a45a4b1246e924919fc3d",
            "placeholder": "​",
            "style": "IPY_MODEL_864cfc6f1dcc4f0d8972b7197f126567",
            "value": "Validation DataLoader 0: 100%"
          }
        },
        "dc390dbf6429414f9760e795516062e1": {
          "model_module": "@jupyter-widgets/controls",
          "model_name": "FloatProgressModel",
          "model_module_version": "1.5.0",
          "state": {
            "_dom_classes": [],
            "_model_module": "@jupyter-widgets/controls",
            "_model_module_version": "1.5.0",
            "_model_name": "FloatProgressModel",
            "_view_count": null,
            "_view_module": "@jupyter-widgets/controls",
            "_view_module_version": "1.5.0",
            "_view_name": "ProgressView",
            "bar_style": "",
            "description": "",
            "description_tooltip": null,
            "layout": "IPY_MODEL_480e012bd5894926ae7ba9c6ede23d46",
            "max": 36,
            "min": 0,
            "orientation": "horizontal",
            "style": "IPY_MODEL_a27b6f6164da4f259894af15383f4f74",
            "value": 36
          }
        },
        "1e9f69597c634271946077114d8233d2": {
          "model_module": "@jupyter-widgets/controls",
          "model_name": "HTMLModel",
          "model_module_version": "1.5.0",
          "state": {
            "_dom_classes": [],
            "_model_module": "@jupyter-widgets/controls",
            "_model_module_version": "1.5.0",
            "_model_name": "HTMLModel",
            "_view_count": null,
            "_view_module": "@jupyter-widgets/controls",
            "_view_module_version": "1.5.0",
            "_view_name": "HTMLView",
            "description": "",
            "description_tooltip": null,
            "layout": "IPY_MODEL_540e89ac007f4e879eb16c5a9e1c7cff",
            "placeholder": "​",
            "style": "IPY_MODEL_8cef372b2bac42dfb9650014a3988c7b",
            "value": " 36/36 [00:05&lt;00:00,  6.60it/s]"
          }
        },
        "776b8335264949c680adaf5898af5aaf": {
          "model_module": "@jupyter-widgets/base",
          "model_name": "LayoutModel",
          "model_module_version": "1.2.0",
          "state": {
            "_model_module": "@jupyter-widgets/base",
            "_model_module_version": "1.2.0",
            "_model_name": "LayoutModel",
            "_view_count": null,
            "_view_module": "@jupyter-widgets/base",
            "_view_module_version": "1.2.0",
            "_view_name": "LayoutView",
            "align_content": null,
            "align_items": null,
            "align_self": null,
            "border": null,
            "bottom": null,
            "display": "inline-flex",
            "flex": null,
            "flex_flow": "row wrap",
            "grid_area": null,
            "grid_auto_columns": null,
            "grid_auto_flow": null,
            "grid_auto_rows": null,
            "grid_column": null,
            "grid_gap": null,
            "grid_row": null,
            "grid_template_areas": null,
            "grid_template_columns": null,
            "grid_template_rows": null,
            "height": null,
            "justify_content": null,
            "justify_items": null,
            "left": null,
            "margin": null,
            "max_height": null,
            "max_width": null,
            "min_height": null,
            "min_width": null,
            "object_fit": null,
            "object_position": null,
            "order": null,
            "overflow": null,
            "overflow_x": null,
            "overflow_y": null,
            "padding": null,
            "right": null,
            "top": null,
            "visibility": null,
            "width": "100%"
          }
        },
        "e6d19445ba0a45a4b1246e924919fc3d": {
          "model_module": "@jupyter-widgets/base",
          "model_name": "LayoutModel",
          "model_module_version": "1.2.0",
          "state": {
            "_model_module": "@jupyter-widgets/base",
            "_model_module_version": "1.2.0",
            "_model_name": "LayoutModel",
            "_view_count": null,
            "_view_module": "@jupyter-widgets/base",
            "_view_module_version": "1.2.0",
            "_view_name": "LayoutView",
            "align_content": null,
            "align_items": null,
            "align_self": null,
            "border": null,
            "bottom": null,
            "display": null,
            "flex": null,
            "flex_flow": null,
            "grid_area": null,
            "grid_auto_columns": null,
            "grid_auto_flow": null,
            "grid_auto_rows": null,
            "grid_column": null,
            "grid_gap": null,
            "grid_row": null,
            "grid_template_areas": null,
            "grid_template_columns": null,
            "grid_template_rows": null,
            "height": null,
            "justify_content": null,
            "justify_items": null,
            "left": null,
            "margin": null,
            "max_height": null,
            "max_width": null,
            "min_height": null,
            "min_width": null,
            "object_fit": null,
            "object_position": null,
            "order": null,
            "overflow": null,
            "overflow_x": null,
            "overflow_y": null,
            "padding": null,
            "right": null,
            "top": null,
            "visibility": null,
            "width": null
          }
        },
        "864cfc6f1dcc4f0d8972b7197f126567": {
          "model_module": "@jupyter-widgets/controls",
          "model_name": "DescriptionStyleModel",
          "model_module_version": "1.5.0",
          "state": {
            "_model_module": "@jupyter-widgets/controls",
            "_model_module_version": "1.5.0",
            "_model_name": "DescriptionStyleModel",
            "_view_count": null,
            "_view_module": "@jupyter-widgets/base",
            "_view_module_version": "1.2.0",
            "_view_name": "StyleView",
            "description_width": ""
          }
        },
        "480e012bd5894926ae7ba9c6ede23d46": {
          "model_module": "@jupyter-widgets/base",
          "model_name": "LayoutModel",
          "model_module_version": "1.2.0",
          "state": {
            "_model_module": "@jupyter-widgets/base",
            "_model_module_version": "1.2.0",
            "_model_name": "LayoutModel",
            "_view_count": null,
            "_view_module": "@jupyter-widgets/base",
            "_view_module_version": "1.2.0",
            "_view_name": "LayoutView",
            "align_content": null,
            "align_items": null,
            "align_self": null,
            "border": null,
            "bottom": null,
            "display": null,
            "flex": "2",
            "flex_flow": null,
            "grid_area": null,
            "grid_auto_columns": null,
            "grid_auto_flow": null,
            "grid_auto_rows": null,
            "grid_column": null,
            "grid_gap": null,
            "grid_row": null,
            "grid_template_areas": null,
            "grid_template_columns": null,
            "grid_template_rows": null,
            "height": null,
            "justify_content": null,
            "justify_items": null,
            "left": null,
            "margin": null,
            "max_height": null,
            "max_width": null,
            "min_height": null,
            "min_width": null,
            "object_fit": null,
            "object_position": null,
            "order": null,
            "overflow": null,
            "overflow_x": null,
            "overflow_y": null,
            "padding": null,
            "right": null,
            "top": null,
            "visibility": null,
            "width": null
          }
        },
        "a27b6f6164da4f259894af15383f4f74": {
          "model_module": "@jupyter-widgets/controls",
          "model_name": "ProgressStyleModel",
          "model_module_version": "1.5.0",
          "state": {
            "_model_module": "@jupyter-widgets/controls",
            "_model_module_version": "1.5.0",
            "_model_name": "ProgressStyleModel",
            "_view_count": null,
            "_view_module": "@jupyter-widgets/base",
            "_view_module_version": "1.2.0",
            "_view_name": "StyleView",
            "bar_color": null,
            "description_width": ""
          }
        },
        "540e89ac007f4e879eb16c5a9e1c7cff": {
          "model_module": "@jupyter-widgets/base",
          "model_name": "LayoutModel",
          "model_module_version": "1.2.0",
          "state": {
            "_model_module": "@jupyter-widgets/base",
            "_model_module_version": "1.2.0",
            "_model_name": "LayoutModel",
            "_view_count": null,
            "_view_module": "@jupyter-widgets/base",
            "_view_module_version": "1.2.0",
            "_view_name": "LayoutView",
            "align_content": null,
            "align_items": null,
            "align_self": null,
            "border": null,
            "bottom": null,
            "display": null,
            "flex": null,
            "flex_flow": null,
            "grid_area": null,
            "grid_auto_columns": null,
            "grid_auto_flow": null,
            "grid_auto_rows": null,
            "grid_column": null,
            "grid_gap": null,
            "grid_row": null,
            "grid_template_areas": null,
            "grid_template_columns": null,
            "grid_template_rows": null,
            "height": null,
            "justify_content": null,
            "justify_items": null,
            "left": null,
            "margin": null,
            "max_height": null,
            "max_width": null,
            "min_height": null,
            "min_width": null,
            "object_fit": null,
            "object_position": null,
            "order": null,
            "overflow": null,
            "overflow_x": null,
            "overflow_y": null,
            "padding": null,
            "right": null,
            "top": null,
            "visibility": null,
            "width": null
          }
        },
        "8cef372b2bac42dfb9650014a3988c7b": {
          "model_module": "@jupyter-widgets/controls",
          "model_name": "DescriptionStyleModel",
          "model_module_version": "1.5.0",
          "state": {
            "_model_module": "@jupyter-widgets/controls",
            "_model_module_version": "1.5.0",
            "_model_name": "DescriptionStyleModel",
            "_view_count": null,
            "_view_module": "@jupyter-widgets/base",
            "_view_module_version": "1.2.0",
            "_view_name": "StyleView",
            "description_width": ""
          }
        },
        "077225d178214173bb6d2986f86bed1e": {
          "model_module": "@jupyter-widgets/controls",
          "model_name": "HBoxModel",
          "model_module_version": "1.5.0",
          "state": {
            "_dom_classes": [],
            "_model_module": "@jupyter-widgets/controls",
            "_model_module_version": "1.5.0",
            "_model_name": "HBoxModel",
            "_view_count": null,
            "_view_module": "@jupyter-widgets/controls",
            "_view_module_version": "1.5.0",
            "_view_name": "HBoxView",
            "box_style": "",
            "children": [
              "IPY_MODEL_0d52a6b12e58472e8b48e293533f0ca3",
              "IPY_MODEL_ca3d821a6dc24998b209d9ed19fb1224",
              "IPY_MODEL_a548717ebaf54ea7989831ca28d87990"
            ],
            "layout": "IPY_MODEL_4d7a4387b9874974979ca071b5f7f990"
          }
        },
        "0d52a6b12e58472e8b48e293533f0ca3": {
          "model_module": "@jupyter-widgets/controls",
          "model_name": "HTMLModel",
          "model_module_version": "1.5.0",
          "state": {
            "_dom_classes": [],
            "_model_module": "@jupyter-widgets/controls",
            "_model_module_version": "1.5.0",
            "_model_name": "HTMLModel",
            "_view_count": null,
            "_view_module": "@jupyter-widgets/controls",
            "_view_module_version": "1.5.0",
            "_view_name": "HTMLView",
            "description": "",
            "description_tooltip": null,
            "layout": "IPY_MODEL_1c90f247441e474d8d84b6bdf9a102a2",
            "placeholder": "​",
            "style": "IPY_MODEL_58b3d2fb87b64f0cbacc43569d2d0dbf",
            "value": "Validation DataLoader 0: 100%"
          }
        },
        "ca3d821a6dc24998b209d9ed19fb1224": {
          "model_module": "@jupyter-widgets/controls",
          "model_name": "FloatProgressModel",
          "model_module_version": "1.5.0",
          "state": {
            "_dom_classes": [],
            "_model_module": "@jupyter-widgets/controls",
            "_model_module_version": "1.5.0",
            "_model_name": "FloatProgressModel",
            "_view_count": null,
            "_view_module": "@jupyter-widgets/controls",
            "_view_module_version": "1.5.0",
            "_view_name": "ProgressView",
            "bar_style": "",
            "description": "",
            "description_tooltip": null,
            "layout": "IPY_MODEL_54fcc15a08bb42eca4922c07535356ef",
            "max": 36,
            "min": 0,
            "orientation": "horizontal",
            "style": "IPY_MODEL_837ad9d7540c436fa5d9cf937e935040",
            "value": 36
          }
        },
        "a548717ebaf54ea7989831ca28d87990": {
          "model_module": "@jupyter-widgets/controls",
          "model_name": "HTMLModel",
          "model_module_version": "1.5.0",
          "state": {
            "_dom_classes": [],
            "_model_module": "@jupyter-widgets/controls",
            "_model_module_version": "1.5.0",
            "_model_name": "HTMLModel",
            "_view_count": null,
            "_view_module": "@jupyter-widgets/controls",
            "_view_module_version": "1.5.0",
            "_view_name": "HTMLView",
            "description": "",
            "description_tooltip": null,
            "layout": "IPY_MODEL_8229b4bc88e74c9485acd5afb713dab0",
            "placeholder": "​",
            "style": "IPY_MODEL_2c96d6a485484d5eab953a006e5142e6",
            "value": " 36/36 [00:05&lt;00:00,  6.55it/s]"
          }
        },
        "4d7a4387b9874974979ca071b5f7f990": {
          "model_module": "@jupyter-widgets/base",
          "model_name": "LayoutModel",
          "model_module_version": "1.2.0",
          "state": {
            "_model_module": "@jupyter-widgets/base",
            "_model_module_version": "1.2.0",
            "_model_name": "LayoutModel",
            "_view_count": null,
            "_view_module": "@jupyter-widgets/base",
            "_view_module_version": "1.2.0",
            "_view_name": "LayoutView",
            "align_content": null,
            "align_items": null,
            "align_self": null,
            "border": null,
            "bottom": null,
            "display": "inline-flex",
            "flex": null,
            "flex_flow": "row wrap",
            "grid_area": null,
            "grid_auto_columns": null,
            "grid_auto_flow": null,
            "grid_auto_rows": null,
            "grid_column": null,
            "grid_gap": null,
            "grid_row": null,
            "grid_template_areas": null,
            "grid_template_columns": null,
            "grid_template_rows": null,
            "height": null,
            "justify_content": null,
            "justify_items": null,
            "left": null,
            "margin": null,
            "max_height": null,
            "max_width": null,
            "min_height": null,
            "min_width": null,
            "object_fit": null,
            "object_position": null,
            "order": null,
            "overflow": null,
            "overflow_x": null,
            "overflow_y": null,
            "padding": null,
            "right": null,
            "top": null,
            "visibility": null,
            "width": "100%"
          }
        },
        "1c90f247441e474d8d84b6bdf9a102a2": {
          "model_module": "@jupyter-widgets/base",
          "model_name": "LayoutModel",
          "model_module_version": "1.2.0",
          "state": {
            "_model_module": "@jupyter-widgets/base",
            "_model_module_version": "1.2.0",
            "_model_name": "LayoutModel",
            "_view_count": null,
            "_view_module": "@jupyter-widgets/base",
            "_view_module_version": "1.2.0",
            "_view_name": "LayoutView",
            "align_content": null,
            "align_items": null,
            "align_self": null,
            "border": null,
            "bottom": null,
            "display": null,
            "flex": null,
            "flex_flow": null,
            "grid_area": null,
            "grid_auto_columns": null,
            "grid_auto_flow": null,
            "grid_auto_rows": null,
            "grid_column": null,
            "grid_gap": null,
            "grid_row": null,
            "grid_template_areas": null,
            "grid_template_columns": null,
            "grid_template_rows": null,
            "height": null,
            "justify_content": null,
            "justify_items": null,
            "left": null,
            "margin": null,
            "max_height": null,
            "max_width": null,
            "min_height": null,
            "min_width": null,
            "object_fit": null,
            "object_position": null,
            "order": null,
            "overflow": null,
            "overflow_x": null,
            "overflow_y": null,
            "padding": null,
            "right": null,
            "top": null,
            "visibility": null,
            "width": null
          }
        },
        "58b3d2fb87b64f0cbacc43569d2d0dbf": {
          "model_module": "@jupyter-widgets/controls",
          "model_name": "DescriptionStyleModel",
          "model_module_version": "1.5.0",
          "state": {
            "_model_module": "@jupyter-widgets/controls",
            "_model_module_version": "1.5.0",
            "_model_name": "DescriptionStyleModel",
            "_view_count": null,
            "_view_module": "@jupyter-widgets/base",
            "_view_module_version": "1.2.0",
            "_view_name": "StyleView",
            "description_width": ""
          }
        },
        "54fcc15a08bb42eca4922c07535356ef": {
          "model_module": "@jupyter-widgets/base",
          "model_name": "LayoutModel",
          "model_module_version": "1.2.0",
          "state": {
            "_model_module": "@jupyter-widgets/base",
            "_model_module_version": "1.2.0",
            "_model_name": "LayoutModel",
            "_view_count": null,
            "_view_module": "@jupyter-widgets/base",
            "_view_module_version": "1.2.0",
            "_view_name": "LayoutView",
            "align_content": null,
            "align_items": null,
            "align_self": null,
            "border": null,
            "bottom": null,
            "display": null,
            "flex": "2",
            "flex_flow": null,
            "grid_area": null,
            "grid_auto_columns": null,
            "grid_auto_flow": null,
            "grid_auto_rows": null,
            "grid_column": null,
            "grid_gap": null,
            "grid_row": null,
            "grid_template_areas": null,
            "grid_template_columns": null,
            "grid_template_rows": null,
            "height": null,
            "justify_content": null,
            "justify_items": null,
            "left": null,
            "margin": null,
            "max_height": null,
            "max_width": null,
            "min_height": null,
            "min_width": null,
            "object_fit": null,
            "object_position": null,
            "order": null,
            "overflow": null,
            "overflow_x": null,
            "overflow_y": null,
            "padding": null,
            "right": null,
            "top": null,
            "visibility": null,
            "width": null
          }
        },
        "837ad9d7540c436fa5d9cf937e935040": {
          "model_module": "@jupyter-widgets/controls",
          "model_name": "ProgressStyleModel",
          "model_module_version": "1.5.0",
          "state": {
            "_model_module": "@jupyter-widgets/controls",
            "_model_module_version": "1.5.0",
            "_model_name": "ProgressStyleModel",
            "_view_count": null,
            "_view_module": "@jupyter-widgets/base",
            "_view_module_version": "1.2.0",
            "_view_name": "StyleView",
            "bar_color": null,
            "description_width": ""
          }
        },
        "8229b4bc88e74c9485acd5afb713dab0": {
          "model_module": "@jupyter-widgets/base",
          "model_name": "LayoutModel",
          "model_module_version": "1.2.0",
          "state": {
            "_model_module": "@jupyter-widgets/base",
            "_model_module_version": "1.2.0",
            "_model_name": "LayoutModel",
            "_view_count": null,
            "_view_module": "@jupyter-widgets/base",
            "_view_module_version": "1.2.0",
            "_view_name": "LayoutView",
            "align_content": null,
            "align_items": null,
            "align_self": null,
            "border": null,
            "bottom": null,
            "display": null,
            "flex": null,
            "flex_flow": null,
            "grid_area": null,
            "grid_auto_columns": null,
            "grid_auto_flow": null,
            "grid_auto_rows": null,
            "grid_column": null,
            "grid_gap": null,
            "grid_row": null,
            "grid_template_areas": null,
            "grid_template_columns": null,
            "grid_template_rows": null,
            "height": null,
            "justify_content": null,
            "justify_items": null,
            "left": null,
            "margin": null,
            "max_height": null,
            "max_width": null,
            "min_height": null,
            "min_width": null,
            "object_fit": null,
            "object_position": null,
            "order": null,
            "overflow": null,
            "overflow_x": null,
            "overflow_y": null,
            "padding": null,
            "right": null,
            "top": null,
            "visibility": null,
            "width": null
          }
        },
        "2c96d6a485484d5eab953a006e5142e6": {
          "model_module": "@jupyter-widgets/controls",
          "model_name": "DescriptionStyleModel",
          "model_module_version": "1.5.0",
          "state": {
            "_model_module": "@jupyter-widgets/controls",
            "_model_module_version": "1.5.0",
            "_model_name": "DescriptionStyleModel",
            "_view_count": null,
            "_view_module": "@jupyter-widgets/base",
            "_view_module_version": "1.2.0",
            "_view_name": "StyleView",
            "description_width": ""
          }
        },
        "7bd62d9bd167472a9ccccaffb27e751b": {
          "model_module": "@jupyter-widgets/controls",
          "model_name": "HBoxModel",
          "model_module_version": "1.5.0",
          "state": {
            "_dom_classes": [],
            "_model_module": "@jupyter-widgets/controls",
            "_model_module_version": "1.5.0",
            "_model_name": "HBoxModel",
            "_view_count": null,
            "_view_module": "@jupyter-widgets/controls",
            "_view_module_version": "1.5.0",
            "_view_name": "HBoxView",
            "box_style": "",
            "children": [
              "IPY_MODEL_c5398be0c89e4e8a928d3816869b43f9",
              "IPY_MODEL_ab39f34e74ef4855bc176a45b421c937",
              "IPY_MODEL_20bc83bcfc40415f99d7ff208efe4b59"
            ],
            "layout": "IPY_MODEL_3692a92450e84e05993f88c94fa85862"
          }
        },
        "c5398be0c89e4e8a928d3816869b43f9": {
          "model_module": "@jupyter-widgets/controls",
          "model_name": "HTMLModel",
          "model_module_version": "1.5.0",
          "state": {
            "_dom_classes": [],
            "_model_module": "@jupyter-widgets/controls",
            "_model_module_version": "1.5.0",
            "_model_name": "HTMLModel",
            "_view_count": null,
            "_view_module": "@jupyter-widgets/controls",
            "_view_module_version": "1.5.0",
            "_view_name": "HTMLView",
            "description": "",
            "description_tooltip": null,
            "layout": "IPY_MODEL_e1ea762e11ec4755874641070ca63166",
            "placeholder": "​",
            "style": "IPY_MODEL_ab07028a01754b0bbf6db6bb785a5d8a",
            "value": "Validation DataLoader 0: 100%"
          }
        },
        "ab39f34e74ef4855bc176a45b421c937": {
          "model_module": "@jupyter-widgets/controls",
          "model_name": "FloatProgressModel",
          "model_module_version": "1.5.0",
          "state": {
            "_dom_classes": [],
            "_model_module": "@jupyter-widgets/controls",
            "_model_module_version": "1.5.0",
            "_model_name": "FloatProgressModel",
            "_view_count": null,
            "_view_module": "@jupyter-widgets/controls",
            "_view_module_version": "1.5.0",
            "_view_name": "ProgressView",
            "bar_style": "",
            "description": "",
            "description_tooltip": null,
            "layout": "IPY_MODEL_7a1fe4d32ab24198886b705090c04039",
            "max": 36,
            "min": 0,
            "orientation": "horizontal",
            "style": "IPY_MODEL_eeba242814064864820d714ce00c1ef7",
            "value": 36
          }
        },
        "20bc83bcfc40415f99d7ff208efe4b59": {
          "model_module": "@jupyter-widgets/controls",
          "model_name": "HTMLModel",
          "model_module_version": "1.5.0",
          "state": {
            "_dom_classes": [],
            "_model_module": "@jupyter-widgets/controls",
            "_model_module_version": "1.5.0",
            "_model_name": "HTMLModel",
            "_view_count": null,
            "_view_module": "@jupyter-widgets/controls",
            "_view_module_version": "1.5.0",
            "_view_name": "HTMLView",
            "description": "",
            "description_tooltip": null,
            "layout": "IPY_MODEL_598bfc1b637d4b509ea4e4c4ec1c6f71",
            "placeholder": "​",
            "style": "IPY_MODEL_a32ce05c42d240989a8686dabf784aa5",
            "value": " 36/36 [00:05&lt;00:00,  6.55it/s]"
          }
        },
        "3692a92450e84e05993f88c94fa85862": {
          "model_module": "@jupyter-widgets/base",
          "model_name": "LayoutModel",
          "model_module_version": "1.2.0",
          "state": {
            "_model_module": "@jupyter-widgets/base",
            "_model_module_version": "1.2.0",
            "_model_name": "LayoutModel",
            "_view_count": null,
            "_view_module": "@jupyter-widgets/base",
            "_view_module_version": "1.2.0",
            "_view_name": "LayoutView",
            "align_content": null,
            "align_items": null,
            "align_self": null,
            "border": null,
            "bottom": null,
            "display": "inline-flex",
            "flex": null,
            "flex_flow": "row wrap",
            "grid_area": null,
            "grid_auto_columns": null,
            "grid_auto_flow": null,
            "grid_auto_rows": null,
            "grid_column": null,
            "grid_gap": null,
            "grid_row": null,
            "grid_template_areas": null,
            "grid_template_columns": null,
            "grid_template_rows": null,
            "height": null,
            "justify_content": null,
            "justify_items": null,
            "left": null,
            "margin": null,
            "max_height": null,
            "max_width": null,
            "min_height": null,
            "min_width": null,
            "object_fit": null,
            "object_position": null,
            "order": null,
            "overflow": null,
            "overflow_x": null,
            "overflow_y": null,
            "padding": null,
            "right": null,
            "top": null,
            "visibility": null,
            "width": "100%"
          }
        },
        "e1ea762e11ec4755874641070ca63166": {
          "model_module": "@jupyter-widgets/base",
          "model_name": "LayoutModel",
          "model_module_version": "1.2.0",
          "state": {
            "_model_module": "@jupyter-widgets/base",
            "_model_module_version": "1.2.0",
            "_model_name": "LayoutModel",
            "_view_count": null,
            "_view_module": "@jupyter-widgets/base",
            "_view_module_version": "1.2.0",
            "_view_name": "LayoutView",
            "align_content": null,
            "align_items": null,
            "align_self": null,
            "border": null,
            "bottom": null,
            "display": null,
            "flex": null,
            "flex_flow": null,
            "grid_area": null,
            "grid_auto_columns": null,
            "grid_auto_flow": null,
            "grid_auto_rows": null,
            "grid_column": null,
            "grid_gap": null,
            "grid_row": null,
            "grid_template_areas": null,
            "grid_template_columns": null,
            "grid_template_rows": null,
            "height": null,
            "justify_content": null,
            "justify_items": null,
            "left": null,
            "margin": null,
            "max_height": null,
            "max_width": null,
            "min_height": null,
            "min_width": null,
            "object_fit": null,
            "object_position": null,
            "order": null,
            "overflow": null,
            "overflow_x": null,
            "overflow_y": null,
            "padding": null,
            "right": null,
            "top": null,
            "visibility": null,
            "width": null
          }
        },
        "ab07028a01754b0bbf6db6bb785a5d8a": {
          "model_module": "@jupyter-widgets/controls",
          "model_name": "DescriptionStyleModel",
          "model_module_version": "1.5.0",
          "state": {
            "_model_module": "@jupyter-widgets/controls",
            "_model_module_version": "1.5.0",
            "_model_name": "DescriptionStyleModel",
            "_view_count": null,
            "_view_module": "@jupyter-widgets/base",
            "_view_module_version": "1.2.0",
            "_view_name": "StyleView",
            "description_width": ""
          }
        },
        "7a1fe4d32ab24198886b705090c04039": {
          "model_module": "@jupyter-widgets/base",
          "model_name": "LayoutModel",
          "model_module_version": "1.2.0",
          "state": {
            "_model_module": "@jupyter-widgets/base",
            "_model_module_version": "1.2.0",
            "_model_name": "LayoutModel",
            "_view_count": null,
            "_view_module": "@jupyter-widgets/base",
            "_view_module_version": "1.2.0",
            "_view_name": "LayoutView",
            "align_content": null,
            "align_items": null,
            "align_self": null,
            "border": null,
            "bottom": null,
            "display": null,
            "flex": "2",
            "flex_flow": null,
            "grid_area": null,
            "grid_auto_columns": null,
            "grid_auto_flow": null,
            "grid_auto_rows": null,
            "grid_column": null,
            "grid_gap": null,
            "grid_row": null,
            "grid_template_areas": null,
            "grid_template_columns": null,
            "grid_template_rows": null,
            "height": null,
            "justify_content": null,
            "justify_items": null,
            "left": null,
            "margin": null,
            "max_height": null,
            "max_width": null,
            "min_height": null,
            "min_width": null,
            "object_fit": null,
            "object_position": null,
            "order": null,
            "overflow": null,
            "overflow_x": null,
            "overflow_y": null,
            "padding": null,
            "right": null,
            "top": null,
            "visibility": null,
            "width": null
          }
        },
        "eeba242814064864820d714ce00c1ef7": {
          "model_module": "@jupyter-widgets/controls",
          "model_name": "ProgressStyleModel",
          "model_module_version": "1.5.0",
          "state": {
            "_model_module": "@jupyter-widgets/controls",
            "_model_module_version": "1.5.0",
            "_model_name": "ProgressStyleModel",
            "_view_count": null,
            "_view_module": "@jupyter-widgets/base",
            "_view_module_version": "1.2.0",
            "_view_name": "StyleView",
            "bar_color": null,
            "description_width": ""
          }
        },
        "598bfc1b637d4b509ea4e4c4ec1c6f71": {
          "model_module": "@jupyter-widgets/base",
          "model_name": "LayoutModel",
          "model_module_version": "1.2.0",
          "state": {
            "_model_module": "@jupyter-widgets/base",
            "_model_module_version": "1.2.0",
            "_model_name": "LayoutModel",
            "_view_count": null,
            "_view_module": "@jupyter-widgets/base",
            "_view_module_version": "1.2.0",
            "_view_name": "LayoutView",
            "align_content": null,
            "align_items": null,
            "align_self": null,
            "border": null,
            "bottom": null,
            "display": null,
            "flex": null,
            "flex_flow": null,
            "grid_area": null,
            "grid_auto_columns": null,
            "grid_auto_flow": null,
            "grid_auto_rows": null,
            "grid_column": null,
            "grid_gap": null,
            "grid_row": null,
            "grid_template_areas": null,
            "grid_template_columns": null,
            "grid_template_rows": null,
            "height": null,
            "justify_content": null,
            "justify_items": null,
            "left": null,
            "margin": null,
            "max_height": null,
            "max_width": null,
            "min_height": null,
            "min_width": null,
            "object_fit": null,
            "object_position": null,
            "order": null,
            "overflow": null,
            "overflow_x": null,
            "overflow_y": null,
            "padding": null,
            "right": null,
            "top": null,
            "visibility": null,
            "width": null
          }
        },
        "a32ce05c42d240989a8686dabf784aa5": {
          "model_module": "@jupyter-widgets/controls",
          "model_name": "DescriptionStyleModel",
          "model_module_version": "1.5.0",
          "state": {
            "_model_module": "@jupyter-widgets/controls",
            "_model_module_version": "1.5.0",
            "_model_name": "DescriptionStyleModel",
            "_view_count": null,
            "_view_module": "@jupyter-widgets/base",
            "_view_module_version": "1.2.0",
            "_view_name": "StyleView",
            "description_width": ""
          }
        }
      }
    }
  },
  "cells": [
    {
      "cell_type": "markdown",
      "metadata": {
        "id": "view-in-github",
        "colab_type": "text"
      },
      "source": [
        "<a href=\"https://colab.research.google.com/github/mecuryD/story-generator/blob/main/story_generator_kogpt2_paragraph.ipynb\" target=\"_parent\"><img src=\"https://colab.research.google.com/assets/colab-badge.svg\" alt=\"Open In Colab\"/></a>"
      ]
    },
    {
      "cell_type": "markdown",
      "source": [
        "[Do it! BERT와 GPT로 배우는 자연어 처리](https://github.com/ratsgo/ratsnlp/tree/master/ratsnlp/nlpbook) 를 많이 참고하였습니다"
      ],
      "metadata": {
        "id": "5dOLODdspImB"
      }
    },
    {
      "cell_type": "markdown",
      "source": [
        "### **각종 설정하기**"
      ],
      "metadata": {
        "id": "SLAH5VL7Mt4L"
      }
    },
    {
      "cell_type": "code",
      "source": [
        "# 의존성 패키지 설치\n",
        "!pip install transformers"
      ],
      "metadata": {
        "id": "MPB-NFqLM3_W",
        "colab": {
          "base_uri": "https://localhost:8080/"
        },
        "outputId": "78538eb4-727a-44de-8a42-48b6375b9074"
      },
      "execution_count": 1,
      "outputs": [
        {
          "output_type": "stream",
          "name": "stdout",
          "text": [
            "Looking in indexes: https://pypi.org/simple, https://us-python.pkg.dev/colab-wheels/public/simple/\n",
            "Requirement already satisfied: transformers in /usr/local/lib/python3.7/dist-packages (4.21.2)\n",
            "Requirement already satisfied: pyyaml>=5.1 in /usr/local/lib/python3.7/dist-packages (from transformers) (6.0)\n",
            "Requirement already satisfied: filelock in /usr/local/lib/python3.7/dist-packages (from transformers) (3.8.0)\n",
            "Requirement already satisfied: regex!=2019.12.17 in /usr/local/lib/python3.7/dist-packages (from transformers) (2022.6.2)\n",
            "Requirement already satisfied: huggingface-hub<1.0,>=0.1.0 in /usr/local/lib/python3.7/dist-packages (from transformers) (0.9.1)\n",
            "Requirement already satisfied: numpy>=1.17 in /usr/local/lib/python3.7/dist-packages (from transformers) (1.21.6)\n",
            "Requirement already satisfied: importlib-metadata in /usr/local/lib/python3.7/dist-packages (from transformers) (4.12.0)\n",
            "Requirement already satisfied: tqdm>=4.27 in /usr/local/lib/python3.7/dist-packages (from transformers) (4.64.0)\n",
            "Requirement already satisfied: requests in /usr/local/lib/python3.7/dist-packages (from transformers) (2.23.0)\n",
            "Requirement already satisfied: tokenizers!=0.11.3,<0.13,>=0.11.1 in /usr/local/lib/python3.7/dist-packages (from transformers) (0.12.1)\n",
            "Requirement already satisfied: packaging>=20.0 in /usr/local/lib/python3.7/dist-packages (from transformers) (21.3)\n",
            "Requirement already satisfied: typing-extensions>=3.7.4.3 in /usr/local/lib/python3.7/dist-packages (from huggingface-hub<1.0,>=0.1.0->transformers) (4.1.1)\n",
            "Requirement already satisfied: pyparsing!=3.0.5,>=2.0.2 in /usr/local/lib/python3.7/dist-packages (from packaging>=20.0->transformers) (3.0.9)\n",
            "Requirement already satisfied: zipp>=0.5 in /usr/local/lib/python3.7/dist-packages (from importlib-metadata->transformers) (3.8.1)\n",
            "Requirement already satisfied: certifi>=2017.4.17 in /usr/local/lib/python3.7/dist-packages (from requests->transformers) (2022.6.15)\n",
            "Requirement already satisfied: chardet<4,>=3.0.2 in /usr/local/lib/python3.7/dist-packages (from requests->transformers) (3.0.4)\n",
            "Requirement already satisfied: idna<3,>=2.5 in /usr/local/lib/python3.7/dist-packages (from requests->transformers) (2.10)\n",
            "Requirement already satisfied: urllib3!=1.25.0,!=1.25.1,<1.26,>=1.21.1 in /usr/local/lib/python3.7/dist-packages (from requests->transformers) (1.24.3)\n"
          ]
        }
      ]
    },
    {
      "cell_type": "code",
      "source": [
        "# 구글 드라이브 연결\n",
        "from google.colab import drive\n",
        "drive.mount('/content/drive/', force_remount = True)"
      ],
      "metadata": {
        "colab": {
          "base_uri": "https://localhost:8080/"
        },
        "id": "XxTOfAiXM-o6",
        "outputId": "c29c4c60-49f1-467e-eb92-e9bf4f9bddd3"
      },
      "execution_count": 2,
      "outputs": [
        {
          "output_type": "stream",
          "name": "stdout",
          "text": [
            "Mounted at /content/drive/\n"
          ]
        }
      ]
    },
    {
      "cell_type": "code",
      "source": [
        "# 모델 환경 설정\n",
        "import os\n",
        "import torch\n",
        "from glob import glob\n",
        "from dataclasses import dataclass, field\n",
        "\n",
        "@dataclass\n",
        "class TrainArguments :\n",
        "    pretrained_model_name: str = field(default=\"skt/kogpt2-base-v2\")\n",
        "    downstream_task_name: str = field(default=\"sentence-generation\")\n",
        "    downstream_model_dir: str = field(default=\"/content/drive/MyDrive/Do-it-자연어처리/checkpoint-story\")\n",
        "    max_seq_length: int = field(default=32)\n",
        "    save_top_k: int = field(default=1)\n",
        "    monitor: str = field(default=\"min val_loss\")\n",
        "    epochs: int = field(default=3)\n",
        "    batch_size: int = field(default=32)\n",
        "    learning_rate: float = field(default=5e-5)\n",
        "    seed: int = field(default=None, metadata={\"help\": \"random seed.\"})\n",
        "    overwrite_cache: bool = field(default=False, metadata={\"help\": \"Overwrite the cached training and evaluation sets\"})\n",
        "    force_download: bool = field(default=False,metadata={\"help\": \"force to download downstream data and pretrained models.\"})\n",
        "    test_mode: bool = field(default=False,metadata={\"help\": \"Test Mode enables `fast_dev_run`\"})\n",
        "    cpu_workers: int = field(default=os.cpu_count(),metadata={\"help\": \"number of CPU workers\"})\n",
        "    fp16: bool = field(default=False,metadata={\"help\": \"Enable train on FP16\"})"
      ],
      "metadata": {
        "id": "zFDjTnfPNENY"
      },
      "execution_count": 3,
      "outputs": []
    },
    {
      "cell_type": "code",
      "source": [
        "args = TrainArguments(\n",
        "    max_seq_length = 400,\n",
        "    batch_size = 4 if torch.cuda.is_available() else 2,\n",
        "    learning_rate = 5e-5,\n",
        "    epochs=3,\n",
        "    seed=7,\n",
        ")"
      ],
      "metadata": {
        "id": "oFLRJnlGYUgJ"
      },
      "execution_count": 4,
      "outputs": []
    },
    {
      "cell_type": "markdown",
      "source": [
        "### **토크나이저 준비하기**"
      ],
      "metadata": {
        "id": "W7iavMocMv_o"
      }
    },
    {
      "cell_type": "code",
      "source": [
        "# 토크나이저 선언\n",
        "from transformers import PreTrainedTokenizerFast\n",
        "tokenizer = PreTrainedTokenizerFast.from_pretrained(\"skt/kogpt2-base-v2\",\n",
        "                                                    bos_token='</s>', eos_token='</s>', unk_token='<unk>', \n",
        "                                                    pad_token='<pad>', mask_token='<mask>')\n",
        "\n",
        "print(tokenizer.tokenize(\"안녕하세요. 한국어 GPT-2 입니다.😤:)l^o\"))"
      ],
      "metadata": {
        "colab": {
          "base_uri": "https://localhost:8080/"
        },
        "id": "fxQq8dacM0Va",
        "outputId": "7621db95-c24a-4a46-b21e-22db73209575"
      },
      "execution_count": 5,
      "outputs": [
        {
          "output_type": "stream",
          "name": "stderr",
          "text": [
            "The tokenizer class you load from this checkpoint is not the same type as the class this function is called from. It may result in unexpected tokenization. \n",
            "The tokenizer class you load from this checkpoint is 'GPT2Tokenizer'. \n",
            "The class this function is called from is 'PreTrainedTokenizerFast'.\n"
          ]
        },
        {
          "output_type": "stream",
          "name": "stdout",
          "text": [
            "['▁안녕', '하', '세', '요.', '▁한국어', '▁G', 'P', 'T', '-2', '▁입', '니다.', '😤', ':)', 'l^o']\n"
          ]
        }
      ]
    },
    {
      "cell_type": "markdown",
      "source": [
        "### **데이터 불러오기 / 전처리**"
      ],
      "metadata": {
        "id": "4rVGiHwwQK3d"
      }
    },
    {
      "cell_type": "code",
      "source": [
        "import os\n",
        "import csv\n",
        "import time\n",
        "import torch\n",
        "import logging\n",
        "from filelock import FileLock\n",
        "from dataclasses import dataclass\n",
        "from typing import List, Optional\n",
        "from torch.utils.data.dataset import Dataset\n",
        "from transformers import PreTrainedTokenizerFast\n",
        "\n",
        "\n",
        "@dataclass\n",
        "class GenerationExample :\n",
        "  text : str\n",
        "\n",
        "@dataclass\n",
        "class GenerationFeatures : \n",
        "  input_ids : List[int]\n",
        "  attention_mask : Optional[List[int]] = None\n",
        "  token_type_ids : Optional[List[int]] = None\n",
        "  labels : Optional[List[int]] = None"
      ],
      "metadata": {
        "id": "xJxQ0fhgY6YB"
      },
      "execution_count": 6,
      "outputs": []
    },
    {
      "cell_type": "code",
      "source": [
        "def data_collator(features):\n",
        "    \"\"\"\n",
        "    Very simple data collator that:\n",
        "    - simply collates batches of dict-like objects\n",
        "    - Performs special handling for potential keys named:\n",
        "        - `label`: handles a single value (int or float) per object\n",
        "        - `label_ids`: handles a list of values per object\n",
        "    - does not do any additional preprocessing\n",
        "    i.e., Property names of the input object will be used as corresponding inputs to the model.\n",
        "    See glue and ner for example of how it's useful.\n",
        "    \"\"\"\n",
        "\n",
        "    # In this function we'll make the assumption that all `features` in the batch\n",
        "    # have the same attributes.\n",
        "    # So we will look at the first element as a proxy for what attributes exist\n",
        "    # on the whole batch.\n",
        "    if not isinstance(features[0], dict):\n",
        "        features = [vars(f) for f in features]\n",
        "\n",
        "    first = features[0]\n",
        "    batch = {}\n",
        "\n",
        "    # Special handling for labels.\n",
        "    # Ensure that tensor is created with the correct type\n",
        "    # (it should be automatically the case, but let's make sure of it.)\n",
        "    if \"label\" in first and first[\"label\"] is not None:\n",
        "        label = first[\"label\"].item() if isinstance(first[\"label\"], torch.Tensor) else first[\"label\"]\n",
        "        dtype = torch.long if isinstance(label, int) else torch.float\n",
        "        batch[\"labels\"] = torch.tensor([f[\"label\"] for f in features], dtype=dtype)\n",
        "    elif \"label_ids\" in first and first[\"label_ids\"] is not None:\n",
        "        if isinstance(first[\"label_ids\"], torch.Tensor):\n",
        "            batch[\"labels\"] = torch.stack([f[\"label_ids\"] for f in features])\n",
        "        else:\n",
        "            dtype = torch.long if type(first[\"label_ids\"][0]) is int else torch.float\n",
        "            batch[\"labels\"] = torch.tensor([f[\"label_ids\"] for f in features], dtype=dtype)\n",
        "\n",
        "    # Handling of all other possible keys.\n",
        "    # Again, we will use the first element to figure out which key/values are not None for this model.\n",
        "    for k, v in first.items():\n",
        "        if k not in (\"label\", \"label_ids\") and v is not None and not isinstance(v, str):\n",
        "            if isinstance(v, torch.Tensor):\n",
        "                batch[k] = torch.stack([f[k] for f in features])\n",
        "            else:\n",
        "                batch[k] = torch.tensor([f[k] for f in features], dtype=torch.long)\n",
        "\n",
        "    return batch"
      ],
      "metadata": {
        "id": "ea41UF7Jo08p"
      },
      "execution_count": 7,
      "outputs": []
    },
    {
      "cell_type": "code",
      "source": [
        "'''Corpus'''\n",
        "class StoryCorpus :\n",
        "  def __init__(self, f_path) :\n",
        "    # load raw data\n",
        "    with open(f_path, \"r\", encoding=\"utf-8\") as f :\n",
        "      self.data = f.readlines()\n",
        "    \n",
        "    # create examples\n",
        "    self.examples = self._create_examples(self.data)\n",
        "    self.train = self.examples[:int(len(self.examples)*0.9)]\n",
        "    self.valid = self.examples[int(len(self.examples)*0.9):]\n",
        "\n",
        "  def _get_examples(self, mode) :\n",
        "    if mode == 'train' :\n",
        "      return self.train\n",
        "    else : \n",
        "      return self.valid\n",
        "\n",
        "  def _create_examples(self, lines) :\n",
        "    examples = []\n",
        "    for (i, line) in enumerate(lines) :\n",
        "      examples.append(GenerationExample(text=line))\n",
        "    return examples\n",
        "\n",
        "'''Convert examples to features'''\n",
        "def _convert_examples_to_generation_features(\n",
        "    examples : List[GenerationExample],\n",
        "    tokenizer, args):\n",
        "  \n",
        "  # tokenization\n",
        "  batch_encoding = tokenizer(\n",
        "      [example.text for example in examples],\n",
        "      max_length = args.max_seq_length,\n",
        "      padding = \"max_length\",\n",
        "      truncation = True,\n",
        "  )\n",
        "\n",
        "  features = []\n",
        "  for i in range(len(examples)) :\n",
        "    inputs = {k:batch_encoding[k][i] for k in batch_encoding}\n",
        "    feature = GenerationFeatures(**inputs,labels=batch_encoding[\"input_ids\"][i])\n",
        "    features.append(feature)\n",
        "  \n",
        "  for i, example in enumerate(examples[:5]) :\n",
        "    print(\"*** Example ***\")\n",
        "    print(\"sentence : %s\" % (example.text))\n",
        "    print(\"tokens : %s\" % (\" \".join(tokenizer.convert_ids_to_tokens(features[i].input_ids))))\n",
        "    print(\"features : %s\" % features[i])\n",
        "\n",
        "  return features\n",
        "\n",
        "'''Dataset'''\n",
        "class StoryDataset(Dataset) :\n",
        "  def __init__(self, examples,args, tokenizer,mode,\n",
        "               convert_examples_to_features_fn = _convert_examples_to_generation_features,):\n",
        "    if examples is not None : \n",
        "      self.examples = examples\n",
        "    else :\n",
        "      raise KeyError(\"examples is not valid\")\n",
        "\n",
        "    # Load data features from dataset file\n",
        "    print(f\"Creating features from {mode}-examples\")\n",
        "    tokenizer.pad_token = tokenizer.eos_token\n",
        "    self.features = convert_examples_to_features_fn(examples,tokenizer,args)\n",
        "\n",
        "  def __len__(self) :\n",
        "    return len(self.features)\n",
        "  \n",
        "  def __getitem__(self, i) :\n",
        "    return self.features[i]\n",
        "\n",
        "  def get_labels(self):\n",
        "        return self.corpus.get_labels()"
      ],
      "metadata": {
        "id": "eyHaV33pZMBE"
      },
      "execution_count": 8,
      "outputs": []
    },
    {
      "cell_type": "code",
      "source": [
        "corpus = StoryCorpus(\"/content/drive/MyDrive/Do-it-자연어처리/data/grimm/fairy_tale_paragraph.txt\")\n",
        "\n",
        "# train data\n",
        "train = corpus._get_examples('train')\n",
        "print(train[0], \"\\n\\n\")\n",
        "train_features = StoryDataset(train, args, tokenizer,'train', _convert_examples_to_generation_features)"
      ],
      "metadata": {
        "colab": {
          "base_uri": "https://localhost:8080/"
        },
        "id": "mW0u8vHojgnj",
        "outputId": "9f4fd517-e8d5-4325-bb82-987043d04297"
      },
      "execution_count": 9,
      "outputs": [
        {
          "output_type": "stream",
          "name": "stdout",
          "text": [
            "GenerationExample(text='옛날 옛적에 소망을 이루어 주는 힘이 여전히 통했던 때에, 딸들이 모두 예쁜 왕이 한 분 살고 계셨어요.특히나 막내공주님이 아주 예뻤는데요, 어찌나 아름다운지, 해도 그녀의 얼굴에 햇볕을 비출 때마다 감탄을 하곤 하였더랬죠.왕의 성은 울창한 숲에 둘러싸여 있었어요.숲에 있는 나이 많은 라임 나무 아래에 우물이 하나 있었어요.화창한 날에, 막내공주님께서 숲으로 놀러 나와 시원한 분수 옆에 앉았어요.그녀는 따분할 땐 황금 공을 가져와 높이 던졌다가 다시 잡곤 했지요.황금 공놀이는 그녀가 가장 좋아하는 놀이었어요.그러다 우연히 공주의 작은 손으로 떠받치고 있던 황금 공이 바닥으로 떨어져 곧장 우물 속으로 굴러 들어갔지 뭐예요.공주님이 다급히 눈으론 공을 쫓았지만 허사였어요.우물은 꽤 깊었어요. 바닥이 보이지 않을 정도로요.\\n') \n",
            "\n",
            "\n",
            "Creating features from train-examples\n",
            "*** Example ***\n",
            "sentence : 옛날 옛적에 소망을 이루어 주는 힘이 여전히 통했던 때에, 딸들이 모두 예쁜 왕이 한 분 살고 계셨어요.특히나 막내공주님이 아주 예뻤는데요, 어찌나 아름다운지, 해도 그녀의 얼굴에 햇볕을 비출 때마다 감탄을 하곤 하였더랬죠.왕의 성은 울창한 숲에 둘러싸여 있었어요.숲에 있는 나이 많은 라임 나무 아래에 우물이 하나 있었어요.화창한 날에, 막내공주님께서 숲으로 놀러 나와 시원한 분수 옆에 앉았어요.그녀는 따분할 땐 황금 공을 가져와 높이 던졌다가 다시 잡곤 했지요.황금 공놀이는 그녀가 가장 좋아하는 놀이었어요.그러다 우연히 공주의 작은 손으로 떠받치고 있던 황금 공이 바닥으로 떨어져 곧장 우물 속으로 굴러 들어갔지 뭐예요.공주님이 다급히 눈으론 공을 쫓았지만 허사였어요.우물은 꽤 깊었어요. 바닥이 보이지 않을 정도로요.\n",
            "\n",
            "tokens : ▁옛날 ▁옛 적에 ▁소 망을 ▁이루어 ▁주는 ▁힘이 ▁여전히 ▁통 했던 ▁때에 , ▁딸 들이 ▁모두 ▁예쁜 ▁왕이 ▁한 ▁분 ▁살고 ▁계 셨 어 요. 특히 나 ▁막내 공주 님이 ▁아주 ▁예 뻤 는데 요, ▁어찌 나 ▁아름다운 지, ▁해도 ▁그녀의 ▁얼굴에 ▁햇볕 을 ▁비 출 ▁때마다 ▁감 탄을 ▁하 곤 ▁하였 더 랬 죠 . 왕의 ▁성은 ▁울창한 ▁숲 에 ▁둘러싸여 ▁있었 어 요. 숲 에 ▁있는 ▁나이 ▁많은 ▁라 임 ▁나무 ▁아래에 ▁우 물이 ▁하나 ▁있었 어 요. 화 창한 ▁날 에, ▁막내 공주 님 께서 ▁숲으로 ▁놀 러 ▁나와 ▁시원한 ▁분수 ▁옆에 ▁앉 았 어 요. 그 녀는 ▁따 분할 ▁ 땐 ▁황금 ▁공을 ▁가져와 ▁높이 ▁던 졌다가 ▁다시 ▁잡 곤 ▁했 지 요. 황금 ▁공 놀이는 ▁그녀가 ▁가장 ▁좋아하는 ▁놀 이었 어 요. 그러 다 ▁우연히 ▁공주의 ▁작은 ▁손으로 ▁떠받 치고 ▁있던 ▁황금 ▁공이 ▁바닥 으로 ▁떨어져 ▁곧 장 ▁우물 ▁속으로 ▁굴 러 ▁들어갔 지 ▁뭐 예 요. 공주 님이 ▁다 급 히 ▁눈 으 론 ▁공을 ▁쫓 았지만 ▁허 사 였 어 요. 우 물은 ▁꽤 ▁깊 었 어 요. ▁바닥이 ▁보이지 ▁않을 ▁정도로 요.\n",
            " </s> </s> </s> </s> </s> </s> </s> </s> </s> </s> </s> </s> </s> </s> </s> </s> </s> </s> </s> </s> </s> </s> </s> </s> </s> </s> </s> </s> </s> </s> </s> </s> </s> </s> </s> </s> </s> </s> </s> </s> </s> </s> </s> </s> </s> </s> </s> </s> </s> </s> </s> </s> </s> </s> </s> </s> </s> </s> </s> </s> </s> </s> </s> </s> </s> </s> </s> </s> </s> </s> </s> </s> </s> </s> </s> </s> </s> </s> </s> </s> </s> </s> </s> </s> </s> </s> </s> </s> </s> </s> </s> </s> </s> </s> </s> </s> </s> </s> </s> </s> </s> </s> </s> </s> </s> </s> </s> </s> </s> </s> </s> </s> </s> </s> </s> </s> </s> </s> </s> </s> </s> </s> </s> </s> </s> </s> </s> </s> </s> </s> </s> </s> </s> </s> </s> </s> </s> </s> </s> </s> </s> </s> </s> </s> </s> </s> </s> </s> </s> </s> </s> </s> </s> </s> </s> </s> </s> </s> </s> </s> </s> </s> </s> </s> </s> </s> </s> </s> </s> </s> </s> </s> </s> </s> </s> </s> </s> </s> </s> </s> </s> </s> </s> </s> </s> </s> </s> </s> </s> </s> </s> </s> </s> </s> </s> </s> </s> </s> </s> </s> </s> </s> </s> </s> </s> </s> </s> </s> </s> </s> </s> </s> </s> </s> </s> </s> </s> </s> </s> </s>\n",
            "features : GenerationFeatures(input_ids=[12346, 10256, 16871, 9077, 12615, 9442, 10764, 15453, 12632, 9107, 9850, 11435, 387, 10265, 9136, 9432, 41775, 11828, 9036, 9129, 12517, 9142, 7816, 8006, 25856, 26421, 7055, 25951, 27000, 20337, 11445, 9182, 7728, 9668, 13704, 17585, 7055, 12934, 10262, 13927, 13511, 24783, 29365, 8137, 9072, 8400, 14970, 9244, 21616, 9078, 6891, 10549, 7208, 7390, 8234, 389, 11198, 17711, 26333, 12671, 8022, 17728, 9414, 8006, 25856, 7859, 8022, 9080, 14828, 9366, 9755, 8152, 10221, 15046, 9132, 9984, 9402, 9414, 8006, 25856, 8756, 17774, 9673, 19715, 25951, 27000, 7177, 23916, 51090, 10624, 7397, 12964, 45601, 29504, 18466, 12462, 7978, 8006, 25856, 6947, 24976, 9106, 31226, 739, 7314, 16199, 13479, 48531, 10170, 13727, 28171, 9427, 9583, 6891, 9651, 8263, 25856, 44003, 9067, 33330, 18677, 9278, 22600, 10624, 9661, 8006, 25856, 21319, 7182, 26273, 37247, 9836, 17148, 39818, 11199, 9816, 16199, 19324, 12119, 9021, 12502, 9927, 8168, 19851, 18297, 10859, 7397, 17545, 8263, 46651, 8046, 25856, 27000, 20337, 9054, 6954, 8811, 9847, 8133, 7428, 13479, 13592, 42313, 9596, 7756, 8041, 8006, 25856, 8092, 10303, 26790, 9958, 8017, 8006, 25856, 40576, 14233, 11823, 11086, 10078, 1, 1, 1, 1, 1, 1, 1, 1, 1, 1, 1, 1, 1, 1, 1, 1, 1, 1, 1, 1, 1, 1, 1, 1, 1, 1, 1, 1, 1, 1, 1, 1, 1, 1, 1, 1, 1, 1, 1, 1, 1, 1, 1, 1, 1, 1, 1, 1, 1, 1, 1, 1, 1, 1, 1, 1, 1, 1, 1, 1, 1, 1, 1, 1, 1, 1, 1, 1, 1, 1, 1, 1, 1, 1, 1, 1, 1, 1, 1, 1, 1, 1, 1, 1, 1, 1, 1, 1, 1, 1, 1, 1, 1, 1, 1, 1, 1, 1, 1, 1, 1, 1, 1, 1, 1, 1, 1, 1, 1, 1, 1, 1, 1, 1, 1, 1, 1, 1, 1, 1, 1, 1, 1, 1, 1, 1, 1, 1, 1, 1, 1, 1, 1, 1, 1, 1, 1, 1, 1, 1, 1, 1, 1, 1, 1, 1, 1, 1, 1, 1, 1, 1, 1, 1, 1, 1, 1, 1, 1, 1, 1, 1, 1, 1, 1, 1, 1, 1, 1, 1, 1, 1, 1, 1, 1, 1, 1, 1, 1, 1, 1, 1, 1, 1, 1, 1, 1, 1, 1, 1, 1, 1, 1, 1, 1, 1, 1, 1, 1, 1, 1, 1, 1, 1, 1, 1, 1, 1, 1, 1, 1, 1, 1, 1, 1, 1, 1, 1, 1, 1], attention_mask=[1, 1, 1, 1, 1, 1, 1, 1, 1, 1, 1, 1, 1, 1, 1, 1, 1, 1, 1, 1, 1, 1, 1, 1, 1, 1, 1, 1, 1, 1, 1, 1, 1, 1, 1, 1, 1, 1, 1, 1, 1, 1, 1, 1, 1, 1, 1, 1, 1, 1, 1, 1, 1, 1, 1, 1, 1, 1, 1, 1, 1, 1, 1, 1, 1, 1, 1, 1, 1, 1, 1, 1, 1, 1, 1, 1, 1, 1, 1, 1, 1, 1, 1, 1, 1, 1, 1, 1, 1, 1, 1, 1, 1, 1, 1, 1, 1, 1, 1, 1, 1, 1, 1, 1, 1, 1, 1, 1, 1, 1, 1, 1, 1, 1, 1, 1, 1, 1, 1, 1, 1, 1, 1, 1, 1, 1, 1, 1, 1, 1, 1, 1, 1, 1, 1, 1, 1, 1, 1, 1, 1, 1, 1, 1, 1, 1, 1, 1, 1, 1, 1, 1, 1, 1, 1, 1, 1, 1, 1, 1, 1, 1, 1, 1, 1, 1, 1, 1, 1, 1, 1, 1, 1, 1, 1, 1, 1, 1, 1, 1, 0, 0, 0, 0, 0, 0, 0, 0, 0, 0, 0, 0, 0, 0, 0, 0, 0, 0, 0, 0, 0, 0, 0, 0, 0, 0, 0, 0, 0, 0, 0, 0, 0, 0, 0, 0, 0, 0, 0, 0, 0, 0, 0, 0, 0, 0, 0, 0, 0, 0, 0, 0, 0, 0, 0, 0, 0, 0, 0, 0, 0, 0, 0, 0, 0, 0, 0, 0, 0, 0, 0, 0, 0, 0, 0, 0, 0, 0, 0, 0, 0, 0, 0, 0, 0, 0, 0, 0, 0, 0, 0, 0, 0, 0, 0, 0, 0, 0, 0, 0, 0, 0, 0, 0, 0, 0, 0, 0, 0, 0, 0, 0, 0, 0, 0, 0, 0, 0, 0, 0, 0, 0, 0, 0, 0, 0, 0, 0, 0, 0, 0, 0, 0, 0, 0, 0, 0, 0, 0, 0, 0, 0, 0, 0, 0, 0, 0, 0, 0, 0, 0, 0, 0, 0, 0, 0, 0, 0, 0, 0, 0, 0, 0, 0, 0, 0, 0, 0, 0, 0, 0, 0, 0, 0, 0, 0, 0, 0, 0, 0, 0, 0, 0, 0, 0, 0, 0, 0, 0, 0, 0, 0, 0, 0, 0, 0, 0, 0, 0, 0, 0, 0, 0, 0, 0, 0, 0, 0, 0, 0, 0, 0, 0, 0, 0, 0, 0, 0, 0, 0], token_type_ids=[0, 0, 0, 0, 0, 0, 0, 0, 0, 0, 0, 0, 0, 0, 0, 0, 0, 0, 0, 0, 0, 0, 0, 0, 0, 0, 0, 0, 0, 0, 0, 0, 0, 0, 0, 0, 0, 0, 0, 0, 0, 0, 0, 0, 0, 0, 0, 0, 0, 0, 0, 0, 0, 0, 0, 0, 0, 0, 0, 0, 0, 0, 0, 0, 0, 0, 0, 0, 0, 0, 0, 0, 0, 0, 0, 0, 0, 0, 0, 0, 0, 0, 0, 0, 0, 0, 0, 0, 0, 0, 0, 0, 0, 0, 0, 0, 0, 0, 0, 0, 0, 0, 0, 0, 0, 0, 0, 0, 0, 0, 0, 0, 0, 0, 0, 0, 0, 0, 0, 0, 0, 0, 0, 0, 0, 0, 0, 0, 0, 0, 0, 0, 0, 0, 0, 0, 0, 0, 0, 0, 0, 0, 0, 0, 0, 0, 0, 0, 0, 0, 0, 0, 0, 0, 0, 0, 0, 0, 0, 0, 0, 0, 0, 0, 0, 0, 0, 0, 0, 0, 0, 0, 0, 0, 0, 0, 0, 0, 0, 0, 0, 0, 0, 0, 0, 0, 0, 0, 0, 0, 0, 0, 0, 0, 0, 0, 0, 0, 0, 0, 0, 0, 0, 0, 0, 0, 0, 0, 0, 0, 0, 0, 0, 0, 0, 0, 0, 0, 0, 0, 0, 0, 0, 0, 0, 0, 0, 0, 0, 0, 0, 0, 0, 0, 0, 0, 0, 0, 0, 0, 0, 0, 0, 0, 0, 0, 0, 0, 0, 0, 0, 0, 0, 0, 0, 0, 0, 0, 0, 0, 0, 0, 0, 0, 0, 0, 0, 0, 0, 0, 0, 0, 0, 0, 0, 0, 0, 0, 0, 0, 0, 0, 0, 0, 0, 0, 0, 0, 0, 0, 0, 0, 0, 0, 0, 0, 0, 0, 0, 0, 0, 0, 0, 0, 0, 0, 0, 0, 0, 0, 0, 0, 0, 0, 0, 0, 0, 0, 0, 0, 0, 0, 0, 0, 0, 0, 0, 0, 0, 0, 0, 0, 0, 0, 0, 0, 0, 0, 0, 0, 0, 0, 0, 0, 0, 0, 0, 0, 0, 0, 0, 0, 0, 0, 0, 0, 0, 0, 0, 0, 0, 0, 0, 0, 0, 0, 0, 0, 0, 0, 0, 0, 0, 0, 0, 0, 0, 0, 0, 0, 0, 0, 0, 0, 0, 0, 0, 0, 0, 0, 0, 0, 0, 0, 0, 0, 0, 0, 0, 0], labels=[12346, 10256, 16871, 9077, 12615, 9442, 10764, 15453, 12632, 9107, 9850, 11435, 387, 10265, 9136, 9432, 41775, 11828, 9036, 9129, 12517, 9142, 7816, 8006, 25856, 26421, 7055, 25951, 27000, 20337, 11445, 9182, 7728, 9668, 13704, 17585, 7055, 12934, 10262, 13927, 13511, 24783, 29365, 8137, 9072, 8400, 14970, 9244, 21616, 9078, 6891, 10549, 7208, 7390, 8234, 389, 11198, 17711, 26333, 12671, 8022, 17728, 9414, 8006, 25856, 7859, 8022, 9080, 14828, 9366, 9755, 8152, 10221, 15046, 9132, 9984, 9402, 9414, 8006, 25856, 8756, 17774, 9673, 19715, 25951, 27000, 7177, 23916, 51090, 10624, 7397, 12964, 45601, 29504, 18466, 12462, 7978, 8006, 25856, 6947, 24976, 9106, 31226, 739, 7314, 16199, 13479, 48531, 10170, 13727, 28171, 9427, 9583, 6891, 9651, 8263, 25856, 44003, 9067, 33330, 18677, 9278, 22600, 10624, 9661, 8006, 25856, 21319, 7182, 26273, 37247, 9836, 17148, 39818, 11199, 9816, 16199, 19324, 12119, 9021, 12502, 9927, 8168, 19851, 18297, 10859, 7397, 17545, 8263, 46651, 8046, 25856, 27000, 20337, 9054, 6954, 8811, 9847, 8133, 7428, 13479, 13592, 42313, 9596, 7756, 8041, 8006, 25856, 8092, 10303, 26790, 9958, 8017, 8006, 25856, 40576, 14233, 11823, 11086, 10078, 1, 1, 1, 1, 1, 1, 1, 1, 1, 1, 1, 1, 1, 1, 1, 1, 1, 1, 1, 1, 1, 1, 1, 1, 1, 1, 1, 1, 1, 1, 1, 1, 1, 1, 1, 1, 1, 1, 1, 1, 1, 1, 1, 1, 1, 1, 1, 1, 1, 1, 1, 1, 1, 1, 1, 1, 1, 1, 1, 1, 1, 1, 1, 1, 1, 1, 1, 1, 1, 1, 1, 1, 1, 1, 1, 1, 1, 1, 1, 1, 1, 1, 1, 1, 1, 1, 1, 1, 1, 1, 1, 1, 1, 1, 1, 1, 1, 1, 1, 1, 1, 1, 1, 1, 1, 1, 1, 1, 1, 1, 1, 1, 1, 1, 1, 1, 1, 1, 1, 1, 1, 1, 1, 1, 1, 1, 1, 1, 1, 1, 1, 1, 1, 1, 1, 1, 1, 1, 1, 1, 1, 1, 1, 1, 1, 1, 1, 1, 1, 1, 1, 1, 1, 1, 1, 1, 1, 1, 1, 1, 1, 1, 1, 1, 1, 1, 1, 1, 1, 1, 1, 1, 1, 1, 1, 1, 1, 1, 1, 1, 1, 1, 1, 1, 1, 1, 1, 1, 1, 1, 1, 1, 1, 1, 1, 1, 1, 1, 1, 1, 1, 1, 1, 1, 1, 1, 1, 1, 1, 1, 1, 1, 1, 1, 1, 1, 1, 1, 1, 1])\n",
            "*** Example ***\n",
            "sentence : 이 일로 공주님이 울기 시작했어요. 소리 내 울고 더 크게 소리 내 울었어요. 마음의 안정을 찾을 수가 없었어요.그렇게 눈물을 글썽이고 있는데 누군가가 그녀에게 이렇게 말하는 거예요“누가 널 괴롭히니, 공주야? 네 모습을 보고 돌도 눈물을 뚝뚝 흘리겠다.”공주가 목소리가 들려온 쪽을 돌아보니 이게 뭔가요, 세상에나 똥똥하고 못생긴 개구리 한 마리가 물 위로 고개를 쭉 내밀고 있지 뭐예요.“아아! 넌 헤엄을 칠 수 있지?”라며 공주가 말했어요. “우물로 떨어진 내 황금 공 때문에 울고 있었던 거야.”“울지 말고, 뚝,”라며 개구리가 대답했어요. “내가 널 도울 수 있겠는데, 그렇지만 내가 네 공을 다시 주워주면 넌 내게 무얼 보답으로 줄래?”“네가 가지고 싶은 건 다, 착한 개구리야,”라며 공주가 말했어요. “내 옷이나, 내 진주나 보석, 아님 내가 지금 쓰고 있는 황금 ‘관’도 네가 원하면 줄게.”개구리가 대답했어요.“난 네 옷, 진주, 보석이나 황금 관엔 관심 없어. 날 좋아해주고 네 친구로 삼아죠 놀이 친구 말이야. 그리고 네 예쁜 식사 테이블 옆에 앉혀주고, 네 예쁜 황금접시에서 식사를 하게 해주고, 네 예쁜 컵으로 마실 수 있게 해줘, 그리고 네 예쁜 침대에서 재워줘.  만약 내가 이걸 약속해준다면 내가 아래로 내려가 네 황금 공을 가지고 올라올게.”“응 그래,”라며 공주가 말했어요. “만약 내 공만 다시 가져다준다면, 네가 원하는 것들을 다 들어줄게.”\n",
            "\n",
            "tokens : ▁이 ▁일로 ▁공주 님이 ▁울 기 ▁시작 했 어 요. ▁소리 ▁내 ▁울 고 ▁더 ▁크게 ▁소리 ▁내 ▁울 었 어 요. ▁마음의 ▁안정을 ▁찾을 ▁수가 ▁없었 어 요. 그 렇게 ▁눈물을 ▁글 썽 이고 ▁있는데 ▁누군 가가 ▁그녀에게 ▁이렇게 ▁말하는 ▁거 예 요 “ 누가 ▁널 ▁괴롭 히 니, ▁공주 야 ? ▁네 ▁모습을 ▁보고 ▁돌 도 ▁눈물을 ▁뚝 뚝 ▁흘 리 겠 다.” 공 주가 ▁목소리가 ▁들려 온 ▁쪽을 ▁돌아 보니 ▁이 게 ▁ 뭔 가 요, ▁세상에 나 ▁똥 똥 하고 ▁못 생긴 ▁개구리 ▁한 ▁마리가 ▁물 ▁위로 ▁고개를 ▁쭉 ▁내밀 고 ▁있지 ▁뭐 예 요. “ 아 아 ! ▁ 넌 ▁헤엄 을 ▁칠 ▁수 ▁있지 ?” 라며 ▁공 주가 ▁말 했 어 요. ▁“ 우 물로 ▁떨어진 ▁내 ▁황금 ▁공 ▁때문에 ▁울 고 ▁있었던 ▁거 야 .” “ 울 지 ▁말 고, ▁뚝 , ” 라며 ▁개구 리가 ▁대답 했 어 요. ▁“내가 ▁널 ▁도 울 ▁수 ▁있겠 는데, ▁그렇지만 ▁내가 ▁네 ▁공을 ▁다시 ▁주워 주면 ▁ 넌 ▁내게 ▁무 얼 ▁보답 으로 ▁줄 래 ?” “ 네가 ▁가지고 ▁싶은 ▁건 ▁다 , ▁착한 ▁개구 리야 , ” 라며 ▁공 주가 ▁말 했 어 요. ▁“ 내 ▁옷 이나, ▁내 ▁진주 나 ▁보 석, ▁아 님 ▁내가 ▁지금 ▁쓰고 ▁있는 ▁황금 ▁‘관 ’도 ▁네 가 ▁원 하면 ▁줄 게 .” 개 구 리가 ▁대답 했 어 요. “ 난 ▁네 ▁옷 , ▁진주 , ▁보석 이나 ▁황금 ▁관 엔 ▁관심 ▁없어 . ▁날 ▁좋아 해주고 ▁네 ▁친 구로 ▁삼아 죠 ▁놀이 ▁친구 ▁말이 야 . ▁그리고 ▁네 ▁예쁜 ▁식사 ▁테이 블 ▁옆에 ▁앉 혀 주고, ▁네 ▁예쁜 ▁황금 접 시에서 ▁식사를 ▁하게 ▁해주 고, ▁네 ▁예쁜 ▁컵 으로 ▁마 실 ▁수 ▁있게 ▁해 줘 , ▁그리고 ▁네 ▁예쁜 ▁침 대에서 ▁재 워 줘 . ▁ ▁만약 ▁내가 ▁이 걸 ▁약속 해준 다면 ▁내가 ▁아래로 ▁내려가 ▁네 ▁황금 ▁공을 ▁가지고 ▁올라 올 게 .” “ 응 ▁그래 , ” 라며 ▁공 주가 ▁말 했 어 요. ▁“ 만 약 ▁내 ▁공 만 ▁다시 ▁가져다 준 다면, ▁네 가 ▁원하는 ▁것들을 ▁다 ▁들어 줄 게 .” \n",
            " </s> </s> </s> </s> </s> </s> </s> </s> </s> </s> </s> </s> </s> </s> </s> </s> </s> </s> </s> </s> </s> </s> </s> </s> </s> </s> </s> </s> </s> </s> </s> </s> </s> </s> </s> </s> </s> </s> </s> </s> </s> </s> </s> </s> </s> </s> </s> </s> </s> </s> </s> </s> </s> </s> </s> </s> </s> </s> </s> </s>\n",
            "features : GenerationFeatures(input_ids=[9018, 18656, 15604, 20337, 10489, 6958, 9347, 8718, 8006, 25856, 12867, 9094, 10489, 6889, 9267, 9773, 12867, 9094, 10489, 8017, 8006, 25856, 19959, 19095, 16388, 11250, 11106, 8006, 25856, 6947, 10431, 32027, 9621, 7924, 9466, 10771, 31040, 11510, 32410, 10917, 14149, 9122, 8046, 8084, 683, 40098, 9965, 25990, 8811, 11597, 15604, 7991, 406, 9873, 11066, 10056, 9315, 7235, 32027, 28388, 7343, 10717, 7478, 6872, 10643, 6900, 11258, 41029, 25571, 8054, 43664, 9754, 38306, 9018, 6866, 739, 7569, 6824, 13704, 17785, 7055, 33298, 7338, 9038, 9350, 50253, 37049, 9036, 33462, 9169, 12422, 25518, 50121, 43261, 6889, 11218, 46651, 8046, 25856, 683, 7965, 7965, 376, 739, 7088, 38057, 8137, 10758, 9025, 11218, 15825, 32555, 9067, 11258, 9135, 8718, 8006, 25856, 9640, 8092, 10962, 12629, 9094, 16199, 9067, 9355, 10489, 6889, 10906, 9122, 7991, 12428, 683, 8095, 8263, 9135, 9075, 28388, 387, 684, 32555, 19444, 9620, 16626, 8718, 8006, 25856, 42640, 9965, 9095, 8095, 9025, 17955, 9287, 19481, 17582, 9873, 13479, 9427, 49171, 33828, 739, 7088, 45023, 9118, 8011, 28711, 9021, 9566, 7383, 15825, 683, 30875, 9887, 22386, 9193, 9054, 387, 42722, 19444, 31218, 387, 684, 32555, 9067, 11258, 9135, 8718, 8006, 25856, 9640, 7071, 11019, 14708, 9094, 14301, 7055, 9049, 16320, 9050, 7177, 17582, 9782, 13296, 9080, 16199, 48161, 47724, 9873, 6824, 9076, 9511, 9566, 6866, 12428, 6841, 6919, 9620, 16626, 8718, 8006, 25856, 683, 7058, 9873, 11019, 387, 14301, 387, 25510, 9185, 16199, 9058, 8024, 11898, 10811, 389, 9673, 12011, 34707, 9873, 9728, 12245, 13804, 8234, 16316, 12396, 13444, 7991, 389, 9394, 9873, 41775, 33101, 38652, 7691, 18466, 12462, 8737, 45816, 9873, 41775, 16199, 8192, 22625, 33102, 13340, 17537, 9075, 9873, 41775, 22075, 9021, 9109, 7892, 9025, 10541, 9098, 8244, 387, 9394, 9873, 41775, 9665, 15133, 9150, 8102, 8244, 389, 739, 15359, 17582, 9018, 6857, 13274, 26617, 10846, 17582, 15270, 18938, 9873, 16199, 13479, 9887, 10788, 8056, 6866, 12428, 683, 8142, 10723, 387, 684, 32555, 9067, 11258, 9135, 8718, 8006, 25856, 9640, 7489, 7992, 9094, 9067, 7489, 9427, 24037, 8238, 16650, 9873, 6824, 15605, 28440, 9054, 9359, 8239, 6866, 12428, 375, 1, 1, 1, 1, 1, 1, 1, 1, 1, 1, 1, 1, 1, 1, 1, 1, 1, 1, 1, 1, 1, 1, 1, 1, 1, 1, 1, 1, 1, 1, 1, 1, 1, 1, 1, 1, 1, 1, 1, 1, 1, 1, 1, 1, 1, 1, 1, 1, 1, 1, 1, 1, 1, 1, 1, 1, 1, 1, 1, 1], attention_mask=[1, 1, 1, 1, 1, 1, 1, 1, 1, 1, 1, 1, 1, 1, 1, 1, 1, 1, 1, 1, 1, 1, 1, 1, 1, 1, 1, 1, 1, 1, 1, 1, 1, 1, 1, 1, 1, 1, 1, 1, 1, 1, 1, 1, 1, 1, 1, 1, 1, 1, 1, 1, 1, 1, 1, 1, 1, 1, 1, 1, 1, 1, 1, 1, 1, 1, 1, 1, 1, 1, 1, 1, 1, 1, 1, 1, 1, 1, 1, 1, 1, 1, 1, 1, 1, 1, 1, 1, 1, 1, 1, 1, 1, 1, 1, 1, 1, 1, 1, 1, 1, 1, 1, 1, 1, 1, 1, 1, 1, 1, 1, 1, 1, 1, 1, 1, 1, 1, 1, 1, 1, 1, 1, 1, 1, 1, 1, 1, 1, 1, 1, 1, 1, 1, 1, 1, 1, 1, 1, 1, 1, 1, 1, 1, 1, 1, 1, 1, 1, 1, 1, 1, 1, 1, 1, 1, 1, 1, 1, 1, 1, 1, 1, 1, 1, 1, 1, 1, 1, 1, 1, 1, 1, 1, 1, 1, 1, 1, 1, 1, 1, 1, 1, 1, 1, 1, 1, 1, 1, 1, 1, 1, 1, 1, 1, 1, 1, 1, 1, 1, 1, 1, 1, 1, 1, 1, 1, 1, 1, 1, 1, 1, 1, 1, 1, 1, 1, 1, 1, 1, 1, 1, 1, 1, 1, 1, 1, 1, 1, 1, 1, 1, 1, 1, 1, 1, 1, 1, 1, 1, 1, 1, 1, 1, 1, 1, 1, 1, 1, 1, 1, 1, 1, 1, 1, 1, 1, 1, 1, 1, 1, 1, 1, 1, 1, 1, 1, 1, 1, 1, 1, 1, 1, 1, 1, 1, 1, 1, 1, 1, 1, 1, 1, 1, 1, 1, 1, 1, 1, 1, 1, 1, 1, 1, 1, 1, 1, 1, 1, 1, 1, 1, 1, 1, 1, 1, 1, 1, 1, 1, 1, 1, 1, 1, 1, 1, 1, 1, 1, 1, 1, 1, 1, 1, 1, 1, 1, 1, 1, 1, 1, 1, 1, 1, 1, 1, 1, 1, 1, 1, 0, 0, 0, 0, 0, 0, 0, 0, 0, 0, 0, 0, 0, 0, 0, 0, 0, 0, 0, 0, 0, 0, 0, 0, 0, 0, 0, 0, 0, 0, 0, 0, 0, 0, 0, 0, 0, 0, 0, 0, 0, 0, 0, 0, 0, 0, 0, 0, 0, 0, 0, 0, 0, 0, 0, 0, 0, 0, 0, 0], token_type_ids=[0, 0, 0, 0, 0, 0, 0, 0, 0, 0, 0, 0, 0, 0, 0, 0, 0, 0, 0, 0, 0, 0, 0, 0, 0, 0, 0, 0, 0, 0, 0, 0, 0, 0, 0, 0, 0, 0, 0, 0, 0, 0, 0, 0, 0, 0, 0, 0, 0, 0, 0, 0, 0, 0, 0, 0, 0, 0, 0, 0, 0, 0, 0, 0, 0, 0, 0, 0, 0, 0, 0, 0, 0, 0, 0, 0, 0, 0, 0, 0, 0, 0, 0, 0, 0, 0, 0, 0, 0, 0, 0, 0, 0, 0, 0, 0, 0, 0, 0, 0, 0, 0, 0, 0, 0, 0, 0, 0, 0, 0, 0, 0, 0, 0, 0, 0, 0, 0, 0, 0, 0, 0, 0, 0, 0, 0, 0, 0, 0, 0, 0, 0, 0, 0, 0, 0, 0, 0, 0, 0, 0, 0, 0, 0, 0, 0, 0, 0, 0, 0, 0, 0, 0, 0, 0, 0, 0, 0, 0, 0, 0, 0, 0, 0, 0, 0, 0, 0, 0, 0, 0, 0, 0, 0, 0, 0, 0, 0, 0, 0, 0, 0, 0, 0, 0, 0, 0, 0, 0, 0, 0, 0, 0, 0, 0, 0, 0, 0, 0, 0, 0, 0, 0, 0, 0, 0, 0, 0, 0, 0, 0, 0, 0, 0, 0, 0, 0, 0, 0, 0, 0, 0, 0, 0, 0, 0, 0, 0, 0, 0, 0, 0, 0, 0, 0, 0, 0, 0, 0, 0, 0, 0, 0, 0, 0, 0, 0, 0, 0, 0, 0, 0, 0, 0, 0, 0, 0, 0, 0, 0, 0, 0, 0, 0, 0, 0, 0, 0, 0, 0, 0, 0, 0, 0, 0, 0, 0, 0, 0, 0, 0, 0, 0, 0, 0, 0, 0, 0, 0, 0, 0, 0, 0, 0, 0, 0, 0, 0, 0, 0, 0, 0, 0, 0, 0, 0, 0, 0, 0, 0, 0, 0, 0, 0, 0, 0, 0, 0, 0, 0, 0, 0, 0, 0, 0, 0, 0, 0, 0, 0, 0, 0, 0, 0, 0, 0, 0, 0, 0, 0, 0, 0, 0, 0, 0, 0, 0, 0, 0, 0, 0, 0, 0, 0, 0, 0, 0, 0, 0, 0, 0, 0, 0, 0, 0, 0, 0, 0, 0, 0, 0, 0, 0, 0, 0, 0, 0, 0, 0, 0, 0, 0, 0, 0, 0, 0, 0, 0, 0, 0, 0, 0, 0, 0, 0, 0, 0, 0, 0, 0], labels=[9018, 18656, 15604, 20337, 10489, 6958, 9347, 8718, 8006, 25856, 12867, 9094, 10489, 6889, 9267, 9773, 12867, 9094, 10489, 8017, 8006, 25856, 19959, 19095, 16388, 11250, 11106, 8006, 25856, 6947, 10431, 32027, 9621, 7924, 9466, 10771, 31040, 11510, 32410, 10917, 14149, 9122, 8046, 8084, 683, 40098, 9965, 25990, 8811, 11597, 15604, 7991, 406, 9873, 11066, 10056, 9315, 7235, 32027, 28388, 7343, 10717, 7478, 6872, 10643, 6900, 11258, 41029, 25571, 8054, 43664, 9754, 38306, 9018, 6866, 739, 7569, 6824, 13704, 17785, 7055, 33298, 7338, 9038, 9350, 50253, 37049, 9036, 33462, 9169, 12422, 25518, 50121, 43261, 6889, 11218, 46651, 8046, 25856, 683, 7965, 7965, 376, 739, 7088, 38057, 8137, 10758, 9025, 11218, 15825, 32555, 9067, 11258, 9135, 8718, 8006, 25856, 9640, 8092, 10962, 12629, 9094, 16199, 9067, 9355, 10489, 6889, 10906, 9122, 7991, 12428, 683, 8095, 8263, 9135, 9075, 28388, 387, 684, 32555, 19444, 9620, 16626, 8718, 8006, 25856, 42640, 9965, 9095, 8095, 9025, 17955, 9287, 19481, 17582, 9873, 13479, 9427, 49171, 33828, 739, 7088, 45023, 9118, 8011, 28711, 9021, 9566, 7383, 15825, 683, 30875, 9887, 22386, 9193, 9054, 387, 42722, 19444, 31218, 387, 684, 32555, 9067, 11258, 9135, 8718, 8006, 25856, 9640, 7071, 11019, 14708, 9094, 14301, 7055, 9049, 16320, 9050, 7177, 17582, 9782, 13296, 9080, 16199, 48161, 47724, 9873, 6824, 9076, 9511, 9566, 6866, 12428, 6841, 6919, 9620, 16626, 8718, 8006, 25856, 683, 7058, 9873, 11019, 387, 14301, 387, 25510, 9185, 16199, 9058, 8024, 11898, 10811, 389, 9673, 12011, 34707, 9873, 9728, 12245, 13804, 8234, 16316, 12396, 13444, 7991, 389, 9394, 9873, 41775, 33101, 38652, 7691, 18466, 12462, 8737, 45816, 9873, 41775, 16199, 8192, 22625, 33102, 13340, 17537, 9075, 9873, 41775, 22075, 9021, 9109, 7892, 9025, 10541, 9098, 8244, 387, 9394, 9873, 41775, 9665, 15133, 9150, 8102, 8244, 389, 739, 15359, 17582, 9018, 6857, 13274, 26617, 10846, 17582, 15270, 18938, 9873, 16199, 13479, 9887, 10788, 8056, 6866, 12428, 683, 8142, 10723, 387, 684, 32555, 9067, 11258, 9135, 8718, 8006, 25856, 9640, 7489, 7992, 9094, 9067, 7489, 9427, 24037, 8238, 16650, 9873, 6824, 15605, 28440, 9054, 9359, 8239, 6866, 12428, 375, 1, 1, 1, 1, 1, 1, 1, 1, 1, 1, 1, 1, 1, 1, 1, 1, 1, 1, 1, 1, 1, 1, 1, 1, 1, 1, 1, 1, 1, 1, 1, 1, 1, 1, 1, 1, 1, 1, 1, 1, 1, 1, 1, 1, 1, 1, 1, 1, 1, 1, 1, 1, 1, 1, 1, 1, 1, 1, 1, 1])\n",
            "*** Example ***\n",
            "sentence : 하지만 공주는 속으론 생각했어요.‘흥 놀고 있네, 개구리 주제에! 넌 그냥 다른 개구리들처럼 개골개골 울며 물에서나 살아. 네까짓 게 어떻게 인간의 친구가 될 수 있단 말이니!’어쨌든 개구리는 이런 약속을 받고서 고개를 물속으로 넣곤 잠수를 했어요.잠시 후 개구리가 한 입 가득 공을 물고서 물 위로 올라왔어요.개구리가 잔디밭 위로 공을 던졌어요.자신의 예쁜 놀이 공을 한 번 더 보자 공주는 뛸 듯이 기뻤어요.그래서 공을 줍곤 잽싸게 도망가 버렸어요.“기다려, 기다려,”라며 개구리가 말했어요. “나를 데리고 가야지. 난 너처럼 달릴 수 없다구.”하지만 개구리가 개골개골, 개골개골 외쳐대는 소리가 공주를 따라잡을 만큼 컸다고 한들 과연 도움이 되었을까요?아니죠, 공주가 그 말을 들어줄 리가 없죠.\n",
            "\n",
            "tokens : ▁하지만 ▁공 주는 ▁속 으 론 ▁생각 했 어 요. ‘ 흥 ▁놀 고 ▁있 네 , ▁개구리 ▁주제에 ! ▁ 넌 ▁그냥 ▁다른 ▁개구리 들처럼 ▁개 골 개 골 ▁울 며 ▁물 에서나 ▁살아 . ▁네 까 짓 ▁게 ▁어떻게 ▁인간의 ▁친구가 ▁될 ▁수 ▁있 단 ▁말이 니 ! ’ 어 쨌 든 ▁개구 리는 ▁이런 ▁약속을 ▁받고 서 ▁고개를 ▁물 속으로 ▁넣 곤 ▁잠 수를 ▁했 어 요. 잠시 ▁후 ▁개구 리가 ▁한 ▁입 ▁가득 ▁공을 ▁물고 서 ▁물 ▁위로 ▁올라 왔 어 요. 개 구 리가 ▁잔디 밭 ▁위로 ▁공을 ▁던 졌 어 요. 자신의 ▁예쁜 ▁놀이 ▁공을 ▁한 ▁번 ▁더 ▁보자 ▁공 주는 ▁ 뛸 ▁듯이 ▁기 뻤 어 요. 그래 서 ▁공을 ▁줍 곤 ▁ 잽 싸 게 ▁도망 가 ▁버 렸 어 요. “ 기 다 려 , ▁기다려 , ” 라며 ▁개구 리가 ▁말 했 어 요. ▁“ 나를 ▁데리고 ▁가야 지 . ▁난 ▁너 처럼 ▁달 릴 ▁수 ▁없 다 구 .” 하지만 ▁개구 리가 ▁개 골 개 골 , ▁개 골 개 골 ▁외 쳐 대는 ▁소리가 ▁공주를 ▁따라 잡 을 ▁만큼 ▁컸 다고 ▁한 들 ▁과연 ▁도움이 ▁되었을 까 요 ? 아 니 죠 , ▁공 주가 ▁그 ▁말을 ▁들어 줄 ▁리가 ▁없 죠.\n",
            " </s> </s> </s> </s> </s> </s> </s> </s> </s> </s> </s> </s> </s> </s> </s> </s> </s> </s> </s> </s> </s> </s> </s> </s> </s> </s> </s> </s> </s> </s> </s> </s> </s> </s> </s> </s> </s> </s> </s> </s> </s> </s> </s> </s> </s> </s> </s> </s> </s> </s> </s> </s> </s> </s> </s> </s> </s> </s> </s> </s> </s> </s> </s> </s> </s> </s> </s> </s> </s> </s> </s> </s> </s> </s> </s> </s> </s> </s> </s> </s> </s> </s> </s> </s> </s> </s> </s> </s> </s> </s> </s> </s> </s> </s> </s> </s> </s> </s> </s> </s> </s> </s> </s> </s> </s> </s> </s> </s> </s> </s> </s> </s> </s> </s> </s> </s> </s> </s> </s> </s> </s> </s> </s> </s> </s> </s> </s> </s> </s> </s> </s> </s> </s> </s> </s> </s> </s> </s> </s> </s> </s> </s> </s> </s> </s> </s> </s> </s> </s> </s> </s> </s> </s> </s> </s> </s> </s> </s> </s> </s> </s> </s> </s> </s> </s> </s> </s> </s> </s> </s> </s> </s> </s> </s> </s> </s> </s> </s> </s> </s> </s> </s> </s> </s> </s> </s> </s> </s> </s> </s> </s> </s> </s> </s> </s> </s>\n",
            "features : GenerationFeatures(input_ids=[10351, 9067, 10090, 9238, 8133, 7428, 9658, 8718, 8006, 25856, 680, 8804, 10624, 6889, 9019, 7098, 387, 37049, 27487, 376, 739, 7088, 25689, 9306, 37049, 30878, 9086, 6893, 6841, 6893, 10489, 7530, 9169, 29198, 11273, 389, 9873, 6969, 8271, 10137, 11649, 10875, 31046, 10341, 9025, 9019, 7185, 13444, 7172, 376, 681, 8006, 8291, 7283, 19444, 9409, 10165, 26762, 10884, 7788, 25518, 9169, 21879, 10158, 6891, 10138, 10007, 9651, 8006, 25856, 49073, 9133, 19444, 9620, 9036, 9241, 14159, 13479, 14168, 7788, 9169, 12422, 10788, 8073, 8006, 25856, 6841, 6919, 9620, 50944, 7608, 12422, 13479, 13727, 8210, 8006, 25856, 24850, 41775, 16316, 13479, 9036, 9515, 9267, 36662, 9067, 10090, 739, 7350, 26338, 9032, 7728, 8006, 25856, 19561, 7788, 13479, 43003, 6891, 739, 8175, 7899, 6866, 14576, 6824, 9848, 7422, 8006, 25856, 683, 6958, 7182, 7415, 387, 49932, 387, 684, 32555, 19444, 9620, 9135, 8718, 8006, 25856, 9640, 21871, 18457, 13375, 8263, 389, 9769, 10099, 9582, 9271, 7481, 9025, 9126, 7182, 6919, 12428, 11686, 19444, 9620, 9086, 6893, 6841, 6893, 387, 9086, 6893, 6841, 6893, 9256, 8376, 10426, 18855, 38415, 9161, 8165, 8137, 11841, 17606, 9217, 9036, 7285, 24431, 13229, 18154, 6969, 8084, 406, 7965, 7172, 8234, 387, 9067, 11258, 9022, 11271, 9359, 8239, 21404, 9126, 34693, 1, 1, 1, 1, 1, 1, 1, 1, 1, 1, 1, 1, 1, 1, 1, 1, 1, 1, 1, 1, 1, 1, 1, 1, 1, 1, 1, 1, 1, 1, 1, 1, 1, 1, 1, 1, 1, 1, 1, 1, 1, 1, 1, 1, 1, 1, 1, 1, 1, 1, 1, 1, 1, 1, 1, 1, 1, 1, 1, 1, 1, 1, 1, 1, 1, 1, 1, 1, 1, 1, 1, 1, 1, 1, 1, 1, 1, 1, 1, 1, 1, 1, 1, 1, 1, 1, 1, 1, 1, 1, 1, 1, 1, 1, 1, 1, 1, 1, 1, 1, 1, 1, 1, 1, 1, 1, 1, 1, 1, 1, 1, 1, 1, 1, 1, 1, 1, 1, 1, 1, 1, 1, 1, 1, 1, 1, 1, 1, 1, 1, 1, 1, 1, 1, 1, 1, 1, 1, 1, 1, 1, 1, 1, 1, 1, 1, 1, 1, 1, 1, 1, 1, 1, 1, 1, 1, 1, 1, 1, 1, 1, 1, 1, 1, 1, 1, 1, 1, 1, 1, 1, 1, 1, 1, 1, 1, 1, 1, 1, 1, 1, 1, 1, 1, 1, 1, 1, 1, 1, 1, 1, 1, 1, 1, 1, 1], attention_mask=[1, 1, 1, 1, 1, 1, 1, 1, 1, 1, 1, 1, 1, 1, 1, 1, 1, 1, 1, 1, 1, 1, 1, 1, 1, 1, 1, 1, 1, 1, 1, 1, 1, 1, 1, 1, 1, 1, 1, 1, 1, 1, 1, 1, 1, 1, 1, 1, 1, 1, 1, 1, 1, 1, 1, 1, 1, 1, 1, 1, 1, 1, 1, 1, 1, 1, 1, 1, 1, 1, 1, 1, 1, 1, 1, 1, 1, 1, 1, 1, 1, 1, 1, 1, 1, 1, 1, 1, 1, 1, 1, 1, 1, 1, 1, 1, 1, 1, 1, 1, 1, 1, 1, 1, 1, 1, 1, 1, 1, 1, 1, 1, 1, 1, 1, 1, 1, 1, 1, 1, 1, 1, 1, 1, 1, 1, 1, 1, 1, 1, 1, 1, 1, 1, 1, 1, 1, 1, 1, 1, 1, 1, 1, 1, 1, 1, 1, 1, 1, 1, 1, 1, 1, 1, 1, 1, 1, 1, 1, 1, 1, 1, 1, 1, 1, 1, 1, 1, 1, 1, 1, 1, 1, 1, 1, 1, 1, 1, 1, 1, 1, 1, 1, 1, 1, 1, 1, 1, 1, 1, 1, 1, 1, 1, 1, 1, 1, 1, 1, 1, 1, 1, 1, 1, 0, 0, 0, 0, 0, 0, 0, 0, 0, 0, 0, 0, 0, 0, 0, 0, 0, 0, 0, 0, 0, 0, 0, 0, 0, 0, 0, 0, 0, 0, 0, 0, 0, 0, 0, 0, 0, 0, 0, 0, 0, 0, 0, 0, 0, 0, 0, 0, 0, 0, 0, 0, 0, 0, 0, 0, 0, 0, 0, 0, 0, 0, 0, 0, 0, 0, 0, 0, 0, 0, 0, 0, 0, 0, 0, 0, 0, 0, 0, 0, 0, 0, 0, 0, 0, 0, 0, 0, 0, 0, 0, 0, 0, 0, 0, 0, 0, 0, 0, 0, 0, 0, 0, 0, 0, 0, 0, 0, 0, 0, 0, 0, 0, 0, 0, 0, 0, 0, 0, 0, 0, 0, 0, 0, 0, 0, 0, 0, 0, 0, 0, 0, 0, 0, 0, 0, 0, 0, 0, 0, 0, 0, 0, 0, 0, 0, 0, 0, 0, 0, 0, 0, 0, 0, 0, 0, 0, 0, 0, 0, 0, 0, 0, 0, 0, 0, 0, 0, 0, 0, 0, 0, 0, 0, 0, 0, 0, 0, 0, 0, 0, 0, 0, 0, 0, 0, 0, 0, 0, 0, 0, 0, 0, 0, 0, 0], token_type_ids=[0, 0, 0, 0, 0, 0, 0, 0, 0, 0, 0, 0, 0, 0, 0, 0, 0, 0, 0, 0, 0, 0, 0, 0, 0, 0, 0, 0, 0, 0, 0, 0, 0, 0, 0, 0, 0, 0, 0, 0, 0, 0, 0, 0, 0, 0, 0, 0, 0, 0, 0, 0, 0, 0, 0, 0, 0, 0, 0, 0, 0, 0, 0, 0, 0, 0, 0, 0, 0, 0, 0, 0, 0, 0, 0, 0, 0, 0, 0, 0, 0, 0, 0, 0, 0, 0, 0, 0, 0, 0, 0, 0, 0, 0, 0, 0, 0, 0, 0, 0, 0, 0, 0, 0, 0, 0, 0, 0, 0, 0, 0, 0, 0, 0, 0, 0, 0, 0, 0, 0, 0, 0, 0, 0, 0, 0, 0, 0, 0, 0, 0, 0, 0, 0, 0, 0, 0, 0, 0, 0, 0, 0, 0, 0, 0, 0, 0, 0, 0, 0, 0, 0, 0, 0, 0, 0, 0, 0, 0, 0, 0, 0, 0, 0, 0, 0, 0, 0, 0, 0, 0, 0, 0, 0, 0, 0, 0, 0, 0, 0, 0, 0, 0, 0, 0, 0, 0, 0, 0, 0, 0, 0, 0, 0, 0, 0, 0, 0, 0, 0, 0, 0, 0, 0, 0, 0, 0, 0, 0, 0, 0, 0, 0, 0, 0, 0, 0, 0, 0, 0, 0, 0, 0, 0, 0, 0, 0, 0, 0, 0, 0, 0, 0, 0, 0, 0, 0, 0, 0, 0, 0, 0, 0, 0, 0, 0, 0, 0, 0, 0, 0, 0, 0, 0, 0, 0, 0, 0, 0, 0, 0, 0, 0, 0, 0, 0, 0, 0, 0, 0, 0, 0, 0, 0, 0, 0, 0, 0, 0, 0, 0, 0, 0, 0, 0, 0, 0, 0, 0, 0, 0, 0, 0, 0, 0, 0, 0, 0, 0, 0, 0, 0, 0, 0, 0, 0, 0, 0, 0, 0, 0, 0, 0, 0, 0, 0, 0, 0, 0, 0, 0, 0, 0, 0, 0, 0, 0, 0, 0, 0, 0, 0, 0, 0, 0, 0, 0, 0, 0, 0, 0, 0, 0, 0, 0, 0, 0, 0, 0, 0, 0, 0, 0, 0, 0, 0, 0, 0, 0, 0, 0, 0, 0, 0, 0, 0, 0, 0, 0, 0, 0, 0, 0, 0, 0, 0, 0, 0, 0, 0, 0, 0, 0, 0, 0, 0, 0, 0, 0, 0, 0, 0, 0, 0, 0, 0, 0, 0, 0, 0], labels=[10351, 9067, 10090, 9238, 8133, 7428, 9658, 8718, 8006, 25856, 680, 8804, 10624, 6889, 9019, 7098, 387, 37049, 27487, 376, 739, 7088, 25689, 9306, 37049, 30878, 9086, 6893, 6841, 6893, 10489, 7530, 9169, 29198, 11273, 389, 9873, 6969, 8271, 10137, 11649, 10875, 31046, 10341, 9025, 9019, 7185, 13444, 7172, 376, 681, 8006, 8291, 7283, 19444, 9409, 10165, 26762, 10884, 7788, 25518, 9169, 21879, 10158, 6891, 10138, 10007, 9651, 8006, 25856, 49073, 9133, 19444, 9620, 9036, 9241, 14159, 13479, 14168, 7788, 9169, 12422, 10788, 8073, 8006, 25856, 6841, 6919, 9620, 50944, 7608, 12422, 13479, 13727, 8210, 8006, 25856, 24850, 41775, 16316, 13479, 9036, 9515, 9267, 36662, 9067, 10090, 739, 7350, 26338, 9032, 7728, 8006, 25856, 19561, 7788, 13479, 43003, 6891, 739, 8175, 7899, 6866, 14576, 6824, 9848, 7422, 8006, 25856, 683, 6958, 7182, 7415, 387, 49932, 387, 684, 32555, 19444, 9620, 9135, 8718, 8006, 25856, 9640, 21871, 18457, 13375, 8263, 389, 9769, 10099, 9582, 9271, 7481, 9025, 9126, 7182, 6919, 12428, 11686, 19444, 9620, 9086, 6893, 6841, 6893, 387, 9086, 6893, 6841, 6893, 9256, 8376, 10426, 18855, 38415, 9161, 8165, 8137, 11841, 17606, 9217, 9036, 7285, 24431, 13229, 18154, 6969, 8084, 406, 7965, 7172, 8234, 387, 9067, 11258, 9022, 11271, 9359, 8239, 21404, 9126, 34693, 1, 1, 1, 1, 1, 1, 1, 1, 1, 1, 1, 1, 1, 1, 1, 1, 1, 1, 1, 1, 1, 1, 1, 1, 1, 1, 1, 1, 1, 1, 1, 1, 1, 1, 1, 1, 1, 1, 1, 1, 1, 1, 1, 1, 1, 1, 1, 1, 1, 1, 1, 1, 1, 1, 1, 1, 1, 1, 1, 1, 1, 1, 1, 1, 1, 1, 1, 1, 1, 1, 1, 1, 1, 1, 1, 1, 1, 1, 1, 1, 1, 1, 1, 1, 1, 1, 1, 1, 1, 1, 1, 1, 1, 1, 1, 1, 1, 1, 1, 1, 1, 1, 1, 1, 1, 1, 1, 1, 1, 1, 1, 1, 1, 1, 1, 1, 1, 1, 1, 1, 1, 1, 1, 1, 1, 1, 1, 1, 1, 1, 1, 1, 1, 1, 1, 1, 1, 1, 1, 1, 1, 1, 1, 1, 1, 1, 1, 1, 1, 1, 1, 1, 1, 1, 1, 1, 1, 1, 1, 1, 1, 1, 1, 1, 1, 1, 1, 1, 1, 1, 1, 1, 1, 1, 1, 1, 1, 1, 1, 1, 1, 1, 1, 1, 1, 1, 1, 1, 1, 1, 1, 1, 1, 1, 1, 1])\n",
            "*** Example ***\n",
            "sentence : 실제로도 공주는 잽싸게 집으로 돌아온 다음에, 다시 자신의 우물로 돌아가야 했던 불쌍한 개구리 일랑은 완전히 잊고 말았어요.다음날 공주가 왕과 신하들과 함께 식탁에 앉아 자신의 예쁜 황금 접시에 담긴 음식을 먹고 있는데, 대리석 계단을 오르는 소리가, 첨벙 첨벙, 첨벙 첨벙, 하고서 울리며 다가오는 것이다.그 소리가 계단 꼭대기까지 다다르자, 누군가가 문을 똑똑 노크하며 소리쳤다.“공주, 막내 공주, 저에요, 문을 열어주세요.”누군지 보려고 달려간 공주가 문을 열었을 때 어마나 세상에 문 앞에 어제 그 개구리가 앉아 있지 뭐예요.그래서 공주가 문을 사정없이 닫아버리고는 허둥대며 다시 자리로 와 식사를 계속했지만, 공주도 너무나도 놀란 건 사실이었어요.누가 봐도 공주의 얼굴이 붉으락푸르락한 게 보였어요.그래서 왕이 말했어요.“딸애야, 왜 그러니? 문 앞에서 너를 데려가려는 거인이라도 본 게냐?”“아, 아냐,”라며 공주가 말했어요. “거인이 아니라 구역질나는 개구리 한 마리야.”\n",
            "\n",
            "tokens : ▁실제로 도 ▁공 주는 ▁ 잽 싸 게 ▁집으로 ▁돌아온 ▁다음에 , ▁다시 ▁자신의 ▁우 물로 ▁돌아가 야 ▁했던 ▁불 쌍 한 ▁개구리 ▁일 랑은 ▁완전히 ▁잊 고 ▁말 았 어 요. 다 음 날 ▁공 주가 ▁왕과 ▁신하 들과 ▁함께 ▁식탁 에 ▁앉아 ▁자신의 ▁예쁜 ▁황금 ▁접 시에 ▁담긴 ▁음식을 ▁먹고 ▁있는데, ▁대리석 ▁계 단을 ▁오르는 ▁소리가 , ▁첨 벙 ▁첨 벙 , ▁첨 벙 ▁첨 벙 , ▁하고 서 ▁울 리며 ▁다가 오는 ▁것이다. 그 ▁소리가 ▁계단 ▁꼭대 기까지 ▁다다 르 자, ▁누군 가가 ▁문을 ▁똑 똑 ▁노 크 하며 ▁소리 쳤 다. “ 공 주, ▁막내 ▁공 주, ▁저 에 요, ▁문을 ▁열어 주 세 요.” 누 군 지 ▁보 려고 ▁달려 간 ▁공 주가 ▁문을 ▁열 었을 ▁때 ▁어 마 나 ▁세상에 ▁문 ▁앞에 ▁어제 ▁그 ▁개구 리가 ▁앉아 ▁있지 ▁뭐 예 요. 그래 서 ▁공 주가 ▁문을 ▁사정 없이 ▁닫 아버 리고 는 ▁허 둥 대 며 ▁다시 ▁자리로 ▁와 ▁식사를 ▁계속 했지만, ▁공주 도 ▁너무나 도 ▁놀란 ▁건 ▁사실 이었 어 요. 누가 ▁봐 도 ▁공주의 ▁얼굴이 ▁붉 으 락 푸르 락 한 ▁게 ▁보 였 어 요. 그래 서 ▁왕이 ▁말 했 어 요. “ 딸 애 야, ▁왜 ▁그러 니 ? ▁문 ▁앞에서 ▁너 를 ▁데 려가 려는 ▁거 인 이라도 ▁본 ▁게 냐 ?” “ 아, ▁아 냐 , ” 라며 ▁공 주가 ▁말 했 어 요. ▁“ 거 인이 ▁아니라 ▁구역 질 나는 ▁개구리 ▁한 ▁마리 야 .” \n",
            " </s> </s> </s> </s> </s> </s> </s> </s> </s> </s> </s> </s> </s> </s> </s> </s> </s> </s> </s> </s> </s> </s> </s> </s> </s> </s> </s> </s> </s> </s> </s> </s> </s> </s> </s> </s> </s> </s> </s> </s> </s> </s> </s> </s> </s> </s> </s> </s> </s> </s> </s> </s> </s> </s> </s> </s> </s> </s> </s> </s> </s> </s> </s> </s> </s> </s> </s> </s> </s> </s> </s> </s> </s> </s> </s> </s> </s> </s> </s> </s> </s> </s> </s> </s> </s> </s> </s> </s> </s> </s> </s> </s> </s> </s> </s> </s> </s> </s> </s> </s> </s> </s> </s> </s> </s> </s> </s> </s> </s> </s> </s> </s> </s> </s> </s> </s> </s> </s> </s> </s> </s> </s> </s> </s> </s> </s> </s> </s> </s> </s> </s> </s> </s> </s> </s> </s> </s> </s> </s> </s> </s> </s> </s> </s> </s> </s> </s> </s> </s> </s> </s> </s> </s> </s> </s> </s> </s> </s> </s> </s> </s>\n",
            "features : GenerationFeatures(input_ids=[11834, 7235, 9067, 10090, 739, 8175, 7899, 6866, 19098, 14939, 17247, 387, 9427, 9745, 9132, 10962, 13080, 7991, 13885, 9128, 7907, 8704, 37049, 9043, 20635, 11130, 16346, 6889, 9135, 7978, 8006, 25856, 7182, 8139, 7060, 9067, 11258, 19532, 16994, 9675, 9304, 48277, 8022, 16898, 9745, 41775, 16199, 9703, 9787, 21831, 16285, 15495, 9859, 30826, 9142, 10385, 28479, 18855, 387, 10862, 7629, 10862, 7629, 387, 10862, 7629, 10862, 7629, 387, 9676, 7788, 10489, 18334, 22426, 10296, 15361, 6947, 18855, 24118, 18888, 11010, 25166, 7467, 9775, 31040, 11510, 16012, 14482, 7336, 9153, 8505, 9512, 12867, 8378, 9016, 683, 6900, 15438, 25951, 9067, 15438, 9265, 8022, 13704, 16012, 16670, 8236, 7801, 42329, 7139, 6921, 8263, 9049, 11611, 12476, 6826, 9067, 11258, 16012, 9356, 13333, 9068, 9105, 7487, 7055, 17785, 9089, 12528, 48101, 9022, 19444, 9620, 16898, 11218, 46651, 8046, 25856, 19561, 7788, 9067, 11258, 16012, 20896, 10480, 17732, 11751, 9885, 7162, 9596, 7265, 7198, 7530, 9427, 37476, 10278, 33102, 9716, 13686, 15604, 7235, 25793, 7235, 45330, 9193, 9572, 9661, 8006, 25856, 40098, 29144, 7235, 37247, 31427, 11315, 8133, 7373, 22520, 7373, 8704, 10137, 9049, 8041, 8006, 25856, 19561, 7788, 11828, 9135, 8718, 8006, 25856, 683, 7306, 7982, 42315, 10401, 9198, 7172, 406, 9089, 14248, 10099, 7470, 9280, 15972, 11305, 9122, 8148, 16130, 9269, 10137, 7080, 15825, 683, 18903, 9050, 7080, 387, 684, 32555, 9067, 11258, 9135, 8718, 8006, 25856, 9640, 6853, 9720, 9554, 15143, 8267, 10972, 37049, 9036, 17586, 7991, 12428, 375, 1, 1, 1, 1, 1, 1, 1, 1, 1, 1, 1, 1, 1, 1, 1, 1, 1, 1, 1, 1, 1, 1, 1, 1, 1, 1, 1, 1, 1, 1, 1, 1, 1, 1, 1, 1, 1, 1, 1, 1, 1, 1, 1, 1, 1, 1, 1, 1, 1, 1, 1, 1, 1, 1, 1, 1, 1, 1, 1, 1, 1, 1, 1, 1, 1, 1, 1, 1, 1, 1, 1, 1, 1, 1, 1, 1, 1, 1, 1, 1, 1, 1, 1, 1, 1, 1, 1, 1, 1, 1, 1, 1, 1, 1, 1, 1, 1, 1, 1, 1, 1, 1, 1, 1, 1, 1, 1, 1, 1, 1, 1, 1, 1, 1, 1, 1, 1, 1, 1, 1, 1, 1, 1, 1, 1, 1, 1, 1, 1, 1, 1, 1, 1, 1, 1, 1, 1, 1, 1, 1, 1, 1, 1, 1, 1, 1, 1, 1, 1, 1, 1, 1, 1, 1, 1, 1, 1, 1, 1, 1, 1], attention_mask=[1, 1, 1, 1, 1, 1, 1, 1, 1, 1, 1, 1, 1, 1, 1, 1, 1, 1, 1, 1, 1, 1, 1, 1, 1, 1, 1, 1, 1, 1, 1, 1, 1, 1, 1, 1, 1, 1, 1, 1, 1, 1, 1, 1, 1, 1, 1, 1, 1, 1, 1, 1, 1, 1, 1, 1, 1, 1, 1, 1, 1, 1, 1, 1, 1, 1, 1, 1, 1, 1, 1, 1, 1, 1, 1, 1, 1, 1, 1, 1, 1, 1, 1, 1, 1, 1, 1, 1, 1, 1, 1, 1, 1, 1, 1, 1, 1, 1, 1, 1, 1, 1, 1, 1, 1, 1, 1, 1, 1, 1, 1, 1, 1, 1, 1, 1, 1, 1, 1, 1, 1, 1, 1, 1, 1, 1, 1, 1, 1, 1, 1, 1, 1, 1, 1, 1, 1, 1, 1, 1, 1, 1, 1, 1, 1, 1, 1, 1, 1, 1, 1, 1, 1, 1, 1, 1, 1, 1, 1, 1, 1, 1, 1, 1, 1, 1, 1, 1, 1, 1, 1, 1, 1, 1, 1, 1, 1, 1, 1, 1, 1, 1, 1, 1, 1, 1, 1, 1, 1, 1, 1, 1, 1, 1, 1, 1, 1, 1, 1, 1, 1, 1, 1, 1, 1, 1, 1, 1, 1, 1, 1, 1, 1, 1, 1, 1, 1, 1, 1, 1, 1, 1, 1, 1, 1, 1, 1, 1, 1, 1, 1, 1, 1, 1, 1, 1, 1, 1, 1, 0, 0, 0, 0, 0, 0, 0, 0, 0, 0, 0, 0, 0, 0, 0, 0, 0, 0, 0, 0, 0, 0, 0, 0, 0, 0, 0, 0, 0, 0, 0, 0, 0, 0, 0, 0, 0, 0, 0, 0, 0, 0, 0, 0, 0, 0, 0, 0, 0, 0, 0, 0, 0, 0, 0, 0, 0, 0, 0, 0, 0, 0, 0, 0, 0, 0, 0, 0, 0, 0, 0, 0, 0, 0, 0, 0, 0, 0, 0, 0, 0, 0, 0, 0, 0, 0, 0, 0, 0, 0, 0, 0, 0, 0, 0, 0, 0, 0, 0, 0, 0, 0, 0, 0, 0, 0, 0, 0, 0, 0, 0, 0, 0, 0, 0, 0, 0, 0, 0, 0, 0, 0, 0, 0, 0, 0, 0, 0, 0, 0, 0, 0, 0, 0, 0, 0, 0, 0, 0, 0, 0, 0, 0, 0, 0, 0, 0, 0, 0, 0, 0, 0, 0, 0, 0, 0, 0, 0, 0, 0, 0], token_type_ids=[0, 0, 0, 0, 0, 0, 0, 0, 0, 0, 0, 0, 0, 0, 0, 0, 0, 0, 0, 0, 0, 0, 0, 0, 0, 0, 0, 0, 0, 0, 0, 0, 0, 0, 0, 0, 0, 0, 0, 0, 0, 0, 0, 0, 0, 0, 0, 0, 0, 0, 0, 0, 0, 0, 0, 0, 0, 0, 0, 0, 0, 0, 0, 0, 0, 0, 0, 0, 0, 0, 0, 0, 0, 0, 0, 0, 0, 0, 0, 0, 0, 0, 0, 0, 0, 0, 0, 0, 0, 0, 0, 0, 0, 0, 0, 0, 0, 0, 0, 0, 0, 0, 0, 0, 0, 0, 0, 0, 0, 0, 0, 0, 0, 0, 0, 0, 0, 0, 0, 0, 0, 0, 0, 0, 0, 0, 0, 0, 0, 0, 0, 0, 0, 0, 0, 0, 0, 0, 0, 0, 0, 0, 0, 0, 0, 0, 0, 0, 0, 0, 0, 0, 0, 0, 0, 0, 0, 0, 0, 0, 0, 0, 0, 0, 0, 0, 0, 0, 0, 0, 0, 0, 0, 0, 0, 0, 0, 0, 0, 0, 0, 0, 0, 0, 0, 0, 0, 0, 0, 0, 0, 0, 0, 0, 0, 0, 0, 0, 0, 0, 0, 0, 0, 0, 0, 0, 0, 0, 0, 0, 0, 0, 0, 0, 0, 0, 0, 0, 0, 0, 0, 0, 0, 0, 0, 0, 0, 0, 0, 0, 0, 0, 0, 0, 0, 0, 0, 0, 0, 0, 0, 0, 0, 0, 0, 0, 0, 0, 0, 0, 0, 0, 0, 0, 0, 0, 0, 0, 0, 0, 0, 0, 0, 0, 0, 0, 0, 0, 0, 0, 0, 0, 0, 0, 0, 0, 0, 0, 0, 0, 0, 0, 0, 0, 0, 0, 0, 0, 0, 0, 0, 0, 0, 0, 0, 0, 0, 0, 0, 0, 0, 0, 0, 0, 0, 0, 0, 0, 0, 0, 0, 0, 0, 0, 0, 0, 0, 0, 0, 0, 0, 0, 0, 0, 0, 0, 0, 0, 0, 0, 0, 0, 0, 0, 0, 0, 0, 0, 0, 0, 0, 0, 0, 0, 0, 0, 0, 0, 0, 0, 0, 0, 0, 0, 0, 0, 0, 0, 0, 0, 0, 0, 0, 0, 0, 0, 0, 0, 0, 0, 0, 0, 0, 0, 0, 0, 0, 0, 0, 0, 0, 0, 0, 0, 0, 0, 0, 0, 0, 0, 0, 0, 0, 0, 0, 0, 0, 0, 0, 0], labels=[11834, 7235, 9067, 10090, 739, 8175, 7899, 6866, 19098, 14939, 17247, 387, 9427, 9745, 9132, 10962, 13080, 7991, 13885, 9128, 7907, 8704, 37049, 9043, 20635, 11130, 16346, 6889, 9135, 7978, 8006, 25856, 7182, 8139, 7060, 9067, 11258, 19532, 16994, 9675, 9304, 48277, 8022, 16898, 9745, 41775, 16199, 9703, 9787, 21831, 16285, 15495, 9859, 30826, 9142, 10385, 28479, 18855, 387, 10862, 7629, 10862, 7629, 387, 10862, 7629, 10862, 7629, 387, 9676, 7788, 10489, 18334, 22426, 10296, 15361, 6947, 18855, 24118, 18888, 11010, 25166, 7467, 9775, 31040, 11510, 16012, 14482, 7336, 9153, 8505, 9512, 12867, 8378, 9016, 683, 6900, 15438, 25951, 9067, 15438, 9265, 8022, 13704, 16012, 16670, 8236, 7801, 42329, 7139, 6921, 8263, 9049, 11611, 12476, 6826, 9067, 11258, 16012, 9356, 13333, 9068, 9105, 7487, 7055, 17785, 9089, 12528, 48101, 9022, 19444, 9620, 16898, 11218, 46651, 8046, 25856, 19561, 7788, 9067, 11258, 16012, 20896, 10480, 17732, 11751, 9885, 7162, 9596, 7265, 7198, 7530, 9427, 37476, 10278, 33102, 9716, 13686, 15604, 7235, 25793, 7235, 45330, 9193, 9572, 9661, 8006, 25856, 40098, 29144, 7235, 37247, 31427, 11315, 8133, 7373, 22520, 7373, 8704, 10137, 9049, 8041, 8006, 25856, 19561, 7788, 11828, 9135, 8718, 8006, 25856, 683, 7306, 7982, 42315, 10401, 9198, 7172, 406, 9089, 14248, 10099, 7470, 9280, 15972, 11305, 9122, 8148, 16130, 9269, 10137, 7080, 15825, 683, 18903, 9050, 7080, 387, 684, 32555, 9067, 11258, 9135, 8718, 8006, 25856, 9640, 6853, 9720, 9554, 15143, 8267, 10972, 37049, 9036, 17586, 7991, 12428, 375, 1, 1, 1, 1, 1, 1, 1, 1, 1, 1, 1, 1, 1, 1, 1, 1, 1, 1, 1, 1, 1, 1, 1, 1, 1, 1, 1, 1, 1, 1, 1, 1, 1, 1, 1, 1, 1, 1, 1, 1, 1, 1, 1, 1, 1, 1, 1, 1, 1, 1, 1, 1, 1, 1, 1, 1, 1, 1, 1, 1, 1, 1, 1, 1, 1, 1, 1, 1, 1, 1, 1, 1, 1, 1, 1, 1, 1, 1, 1, 1, 1, 1, 1, 1, 1, 1, 1, 1, 1, 1, 1, 1, 1, 1, 1, 1, 1, 1, 1, 1, 1, 1, 1, 1, 1, 1, 1, 1, 1, 1, 1, 1, 1, 1, 1, 1, 1, 1, 1, 1, 1, 1, 1, 1, 1, 1, 1, 1, 1, 1, 1, 1, 1, 1, 1, 1, 1, 1, 1, 1, 1, 1, 1, 1, 1, 1, 1, 1, 1, 1, 1, 1, 1, 1, 1, 1, 1, 1, 1, 1, 1])\n",
            "*** Example ***\n",
            "sentence : “개구리가 왜 너를 부른단 말이냐?”“아 그게, 아빠, 내가 어제 숲에 있는 우물가에 앉아 공을 만지작거리다 황금 공을 우물 속에 떨어뜨리고 말았거든. 그래서 울고 있는데 개구리가 공을 다시 갖다 주었어. 그러면서 우기길, 자기를 내 친구로 삼아 달라고 약속해달란 거야. 하지만 개구린 물에서 살잖아! 그런데 지금 저렇게 문 앞에 있네, 들여보내 달라며.”그러는 사이에 개구리가 똑똑 하며 두 번째 노크를 하며 소리치고 있었어요.“공주님! 막내공주님!제게 문을 열어주시어요!어제 시원한 분수대 옆 물가에서제게 하신 말씀을 그새 잊으신 건 아니겠죠?공주님, 막내공주님!어서 문을 열어주시어요!”그러자 왕이 말씀하셨어요.\n",
            "\n",
            "tokens : ▁“ 개 구 리가 ▁왜 ▁너 를 ▁부른 단 ▁말이 냐 ?” “ 아 ▁그 게, ▁아 빠 , ▁내가 ▁어제 ▁숲 에 ▁있는 ▁우물 가에 ▁앉아 ▁공을 ▁만 지 작 거리 다 ▁황금 ▁공을 ▁우물 ▁속에 ▁떨어뜨 리고 ▁말 았 거든 . ▁그래서 ▁울 고 ▁있는데 ▁개구 리가 ▁공을 ▁다시 ▁갖 다 ▁주었 어 . ▁그러면서 ▁우 기 길, ▁자기를 ▁내 ▁친 구로 ▁삼아 ▁달라고 ▁약속 해 달 란 ▁거 야 . ▁하지만 ▁개구 린 ▁물에서 ▁살 잖 아 ! ▁그런데 ▁지금 ▁저 렇게 ▁문 ▁앞에 ▁있 네 , ▁들여 보내 ▁달라 며 .” 그러 는 ▁사이에 ▁개구 리가 ▁똑 똑 ▁하며 ▁두 ▁번째 ▁노 크를 ▁하며 ▁소리 치고 ▁있었 어 요. “ 공주 님 ! ▁막내 공주 님 ! 제 게 ▁문을 ▁열어 주 시 어 요 ! 어제 ▁시원한 ▁분 수대 ▁옆 ▁물 가에서 제 게 ▁하 신 ▁말씀 을 ▁그 새 ▁잊 으 신 ▁건 ▁아니 겠 죠 ? 공주 님 , ▁막내 공주 님 ! 어서 ▁문을 ▁열어 주 시 어 요 !” 그러 자 ▁왕이 ▁말씀 하 셨 어요.\n",
            " </s> </s> </s> </s> </s> </s> </s> </s> </s> </s> </s> </s> </s> </s> </s> </s> </s> </s> </s> </s> </s> </s> </s> </s> </s> </s> </s> </s> </s> </s> </s> </s> </s> </s> </s> </s> </s> </s> </s> </s> </s> </s> </s> </s> </s> </s> </s> </s> </s> </s> </s> </s> </s> </s> </s> </s> </s> </s> </s> </s> </s> </s> </s> </s> </s> </s> </s> </s> </s> </s> </s> </s> </s> </s> </s> </s> </s> </s> </s> </s> </s> </s> </s> </s> </s> </s> </s> </s> </s> </s> </s> </s> </s> </s> </s> </s> </s> </s> </s> </s> </s> </s> </s> </s> </s> </s> </s> </s> </s> </s> </s> </s> </s> </s> </s> </s> </s> </s> </s> </s> </s> </s> </s> </s> </s> </s> </s> </s> </s> </s> </s> </s> </s> </s> </s> </s> </s> </s> </s> </s> </s> </s> </s> </s> </s> </s> </s> </s> </s> </s> </s> </s> </s> </s> </s> </s> </s> </s> </s> </s> </s> </s> </s> </s> </s> </s> </s> </s> </s> </s> </s> </s> </s> </s> </s> </s> </s> </s> </s> </s> </s> </s> </s> </s> </s> </s> </s> </s> </s> </s> </s> </s> </s> </s> </s> </s> </s> </s> </s> </s> </s> </s> </s> </s> </s> </s> </s> </s> </s> </s> </s> </s> </s> </s> </s> </s> </s> </s> </s> </s> </s> </s> </s> </s> </s>\n",
            "features : GenerationFeatures(input_ids=[9640, 6841, 6919, 9620, 10401, 10099, 7470, 20286, 7185, 13444, 7080, 15825, 683, 7965, 9022, 32177, 9050, 7703, 387, 17582, 48101, 12671, 8022, 9080, 19851, 11896, 16898, 13479, 9103, 8263, 8160, 12622, 7182, 16199, 13479, 19851, 10671, 21953, 9885, 9135, 7978, 31204, 389, 11403, 10489, 6889, 10771, 19444, 9620, 13479, 9427, 9484, 7182, 45909, 8006, 389, 49366, 9132, 6958, 40777, 23532, 9094, 9728, 12245, 13804, 29266, 13274, 8711, 7187, 7374, 9122, 7991, 389, 10351, 19444, 7480, 49340, 9339, 8162, 7965, 376, 10910, 9782, 9265, 10431, 9089, 12528, 9019, 7098, 387, 15994, 42281, 11936, 7530, 12428, 21319, 7162, 10113, 19444, 9620, 14482, 7336, 11584, 9174, 13079, 9153, 18387, 11584, 12867, 11199, 9414, 8006, 25856, 683, 27000, 7177, 376, 25951, 27000, 7177, 376, 8196, 6866, 16012, 16670, 8236, 7888, 8006, 8084, 376, 46789, 45601, 9129, 23141, 11275, 9169, 17157, 8196, 6866, 9078, 7890, 24117, 8137, 9022, 7769, 16346, 8133, 7890, 9193, 9320, 6872, 8234, 406, 27000, 7177, 387, 25951, 27000, 7177, 376, 10247, 16012, 16670, 8236, 7888, 8006, 8084, 50075, 21319, 8159, 11828, 24117, 8702, 7816, 14782, 1, 1, 1, 1, 1, 1, 1, 1, 1, 1, 1, 1, 1, 1, 1, 1, 1, 1, 1, 1, 1, 1, 1, 1, 1, 1, 1, 1, 1, 1, 1, 1, 1, 1, 1, 1, 1, 1, 1, 1, 1, 1, 1, 1, 1, 1, 1, 1, 1, 1, 1, 1, 1, 1, 1, 1, 1, 1, 1, 1, 1, 1, 1, 1, 1, 1, 1, 1, 1, 1, 1, 1, 1, 1, 1, 1, 1, 1, 1, 1, 1, 1, 1, 1, 1, 1, 1, 1, 1, 1, 1, 1, 1, 1, 1, 1, 1, 1, 1, 1, 1, 1, 1, 1, 1, 1, 1, 1, 1, 1, 1, 1, 1, 1, 1, 1, 1, 1, 1, 1, 1, 1, 1, 1, 1, 1, 1, 1, 1, 1, 1, 1, 1, 1, 1, 1, 1, 1, 1, 1, 1, 1, 1, 1, 1, 1, 1, 1, 1, 1, 1, 1, 1, 1, 1, 1, 1, 1, 1, 1, 1, 1, 1, 1, 1, 1, 1, 1, 1, 1, 1, 1, 1, 1, 1, 1, 1, 1, 1, 1, 1, 1, 1, 1, 1, 1, 1, 1, 1, 1, 1, 1, 1, 1, 1, 1, 1, 1, 1, 1, 1, 1, 1, 1, 1, 1, 1, 1, 1, 1, 1, 1, 1, 1, 1, 1, 1, 1, 1, 1, 1, 1, 1, 1, 1], attention_mask=[1, 1, 1, 1, 1, 1, 1, 1, 1, 1, 1, 1, 1, 1, 1, 1, 1, 1, 1, 1, 1, 1, 1, 1, 1, 1, 1, 1, 1, 1, 1, 1, 1, 1, 1, 1, 1, 1, 1, 1, 1, 1, 1, 1, 1, 1, 1, 1, 1, 1, 1, 1, 1, 1, 1, 1, 1, 1, 1, 1, 1, 1, 1, 1, 1, 1, 1, 1, 1, 1, 1, 1, 1, 1, 1, 1, 1, 1, 1, 1, 1, 1, 1, 1, 1, 1, 1, 1, 1, 1, 1, 1, 1, 1, 1, 1, 1, 1, 1, 1, 1, 1, 1, 1, 1, 1, 1, 1, 1, 1, 1, 1, 1, 1, 1, 1, 1, 1, 1, 1, 1, 1, 1, 1, 1, 1, 1, 1, 1, 1, 1, 1, 1, 1, 1, 1, 1, 1, 1, 1, 1, 1, 1, 1, 1, 1, 1, 1, 1, 1, 1, 1, 1, 1, 1, 1, 1, 1, 1, 1, 1, 1, 1, 1, 1, 1, 1, 1, 1, 1, 1, 1, 1, 1, 1, 0, 0, 0, 0, 0, 0, 0, 0, 0, 0, 0, 0, 0, 0, 0, 0, 0, 0, 0, 0, 0, 0, 0, 0, 0, 0, 0, 0, 0, 0, 0, 0, 0, 0, 0, 0, 0, 0, 0, 0, 0, 0, 0, 0, 0, 0, 0, 0, 0, 0, 0, 0, 0, 0, 0, 0, 0, 0, 0, 0, 0, 0, 0, 0, 0, 0, 0, 0, 0, 0, 0, 0, 0, 0, 0, 0, 0, 0, 0, 0, 0, 0, 0, 0, 0, 0, 0, 0, 0, 0, 0, 0, 0, 0, 0, 0, 0, 0, 0, 0, 0, 0, 0, 0, 0, 0, 0, 0, 0, 0, 0, 0, 0, 0, 0, 0, 0, 0, 0, 0, 0, 0, 0, 0, 0, 0, 0, 0, 0, 0, 0, 0, 0, 0, 0, 0, 0, 0, 0, 0, 0, 0, 0, 0, 0, 0, 0, 0, 0, 0, 0, 0, 0, 0, 0, 0, 0, 0, 0, 0, 0, 0, 0, 0, 0, 0, 0, 0, 0, 0, 0, 0, 0, 0, 0, 0, 0, 0, 0, 0, 0, 0, 0, 0, 0, 0, 0, 0, 0, 0, 0, 0, 0, 0, 0, 0, 0, 0, 0, 0, 0, 0, 0, 0, 0, 0, 0, 0, 0, 0, 0, 0, 0, 0, 0, 0, 0, 0, 0, 0, 0, 0, 0, 0, 0], token_type_ids=[0, 0, 0, 0, 0, 0, 0, 0, 0, 0, 0, 0, 0, 0, 0, 0, 0, 0, 0, 0, 0, 0, 0, 0, 0, 0, 0, 0, 0, 0, 0, 0, 0, 0, 0, 0, 0, 0, 0, 0, 0, 0, 0, 0, 0, 0, 0, 0, 0, 0, 0, 0, 0, 0, 0, 0, 0, 0, 0, 0, 0, 0, 0, 0, 0, 0, 0, 0, 0, 0, 0, 0, 0, 0, 0, 0, 0, 0, 0, 0, 0, 0, 0, 0, 0, 0, 0, 0, 0, 0, 0, 0, 0, 0, 0, 0, 0, 0, 0, 0, 0, 0, 0, 0, 0, 0, 0, 0, 0, 0, 0, 0, 0, 0, 0, 0, 0, 0, 0, 0, 0, 0, 0, 0, 0, 0, 0, 0, 0, 0, 0, 0, 0, 0, 0, 0, 0, 0, 0, 0, 0, 0, 0, 0, 0, 0, 0, 0, 0, 0, 0, 0, 0, 0, 0, 0, 0, 0, 0, 0, 0, 0, 0, 0, 0, 0, 0, 0, 0, 0, 0, 0, 0, 0, 0, 0, 0, 0, 0, 0, 0, 0, 0, 0, 0, 0, 0, 0, 0, 0, 0, 0, 0, 0, 0, 0, 0, 0, 0, 0, 0, 0, 0, 0, 0, 0, 0, 0, 0, 0, 0, 0, 0, 0, 0, 0, 0, 0, 0, 0, 0, 0, 0, 0, 0, 0, 0, 0, 0, 0, 0, 0, 0, 0, 0, 0, 0, 0, 0, 0, 0, 0, 0, 0, 0, 0, 0, 0, 0, 0, 0, 0, 0, 0, 0, 0, 0, 0, 0, 0, 0, 0, 0, 0, 0, 0, 0, 0, 0, 0, 0, 0, 0, 0, 0, 0, 0, 0, 0, 0, 0, 0, 0, 0, 0, 0, 0, 0, 0, 0, 0, 0, 0, 0, 0, 0, 0, 0, 0, 0, 0, 0, 0, 0, 0, 0, 0, 0, 0, 0, 0, 0, 0, 0, 0, 0, 0, 0, 0, 0, 0, 0, 0, 0, 0, 0, 0, 0, 0, 0, 0, 0, 0, 0, 0, 0, 0, 0, 0, 0, 0, 0, 0, 0, 0, 0, 0, 0, 0, 0, 0, 0, 0, 0, 0, 0, 0, 0, 0, 0, 0, 0, 0, 0, 0, 0, 0, 0, 0, 0, 0, 0, 0, 0, 0, 0, 0, 0, 0, 0, 0, 0, 0, 0, 0, 0, 0, 0, 0, 0, 0, 0, 0, 0, 0, 0, 0, 0, 0, 0], labels=[9640, 6841, 6919, 9620, 10401, 10099, 7470, 20286, 7185, 13444, 7080, 15825, 683, 7965, 9022, 32177, 9050, 7703, 387, 17582, 48101, 12671, 8022, 9080, 19851, 11896, 16898, 13479, 9103, 8263, 8160, 12622, 7182, 16199, 13479, 19851, 10671, 21953, 9885, 9135, 7978, 31204, 389, 11403, 10489, 6889, 10771, 19444, 9620, 13479, 9427, 9484, 7182, 45909, 8006, 389, 49366, 9132, 6958, 40777, 23532, 9094, 9728, 12245, 13804, 29266, 13274, 8711, 7187, 7374, 9122, 7991, 389, 10351, 19444, 7480, 49340, 9339, 8162, 7965, 376, 10910, 9782, 9265, 10431, 9089, 12528, 9019, 7098, 387, 15994, 42281, 11936, 7530, 12428, 21319, 7162, 10113, 19444, 9620, 14482, 7336, 11584, 9174, 13079, 9153, 18387, 11584, 12867, 11199, 9414, 8006, 25856, 683, 27000, 7177, 376, 25951, 27000, 7177, 376, 8196, 6866, 16012, 16670, 8236, 7888, 8006, 8084, 376, 46789, 45601, 9129, 23141, 11275, 9169, 17157, 8196, 6866, 9078, 7890, 24117, 8137, 9022, 7769, 16346, 8133, 7890, 9193, 9320, 6872, 8234, 406, 27000, 7177, 387, 25951, 27000, 7177, 376, 10247, 16012, 16670, 8236, 7888, 8006, 8084, 50075, 21319, 8159, 11828, 24117, 8702, 7816, 14782, 1, 1, 1, 1, 1, 1, 1, 1, 1, 1, 1, 1, 1, 1, 1, 1, 1, 1, 1, 1, 1, 1, 1, 1, 1, 1, 1, 1, 1, 1, 1, 1, 1, 1, 1, 1, 1, 1, 1, 1, 1, 1, 1, 1, 1, 1, 1, 1, 1, 1, 1, 1, 1, 1, 1, 1, 1, 1, 1, 1, 1, 1, 1, 1, 1, 1, 1, 1, 1, 1, 1, 1, 1, 1, 1, 1, 1, 1, 1, 1, 1, 1, 1, 1, 1, 1, 1, 1, 1, 1, 1, 1, 1, 1, 1, 1, 1, 1, 1, 1, 1, 1, 1, 1, 1, 1, 1, 1, 1, 1, 1, 1, 1, 1, 1, 1, 1, 1, 1, 1, 1, 1, 1, 1, 1, 1, 1, 1, 1, 1, 1, 1, 1, 1, 1, 1, 1, 1, 1, 1, 1, 1, 1, 1, 1, 1, 1, 1, 1, 1, 1, 1, 1, 1, 1, 1, 1, 1, 1, 1, 1, 1, 1, 1, 1, 1, 1, 1, 1, 1, 1, 1, 1, 1, 1, 1, 1, 1, 1, 1, 1, 1, 1, 1, 1, 1, 1, 1, 1, 1, 1, 1, 1, 1, 1, 1, 1, 1, 1, 1, 1, 1, 1, 1, 1, 1, 1, 1, 1, 1, 1, 1, 1, 1, 1, 1, 1, 1, 1, 1, 1, 1, 1, 1, 1])\n"
          ]
        }
      ]
    },
    {
      "cell_type": "code",
      "source": [
        "a = corpus.data"
      ],
      "metadata": {
        "id": "mKjqRVWERsp9"
      },
      "execution_count": 10,
      "outputs": []
    },
    {
      "cell_type": "code",
      "source": [
        "len(a)"
      ],
      "metadata": {
        "colab": {
          "base_uri": "https://localhost:8080/"
        },
        "id": "OtVhr4yRSx0K",
        "outputId": "1c9a8df5-33aa-4405-a2ea-a0f4d596b962"
      },
      "execution_count": 11,
      "outputs": [
        {
          "output_type": "execute_result",
          "data": {
            "text/plain": [
              "1465"
            ]
          },
          "metadata": {},
          "execution_count": 11
        }
      ]
    },
    {
      "cell_type": "code",
      "source": [
        "c = []\n",
        "for i in a :\n",
        "  c.append(int(len(tokenizer(i)['input_ids'])/10))"
      ],
      "metadata": {
        "id": "9NkWjwvhSUnJ"
      },
      "execution_count": 12,
      "outputs": []
    },
    {
      "cell_type": "code",
      "source": [
        "import seaborn as sns\n",
        "import matplotlib.pyplot as plt\n",
        "\n",
        "plt.figure(figsize=(20,5))\n",
        "sns.countplot(c)"
      ],
      "metadata": {
        "colab": {
          "base_uri": "https://localhost:8080/",
          "height": 394
        },
        "id": "2APa7kUyTDFs",
        "outputId": "f99ddb37-ae29-42ba-809d-1e329e05bae6"
      },
      "execution_count": 13,
      "outputs": [
        {
          "output_type": "stream",
          "name": "stderr",
          "text": [
            "/usr/local/lib/python3.7/dist-packages/seaborn/_decorators.py:43: FutureWarning: Pass the following variable as a keyword arg: x. From version 0.12, the only valid positional argument will be `data`, and passing other arguments without an explicit keyword will result in an error or misinterpretation.\n",
            "  FutureWarning\n"
          ]
        },
        {
          "output_type": "execute_result",
          "data": {
            "text/plain": [
              "<matplotlib.axes._subplots.AxesSubplot at 0x7f44a2481790>"
            ]
          },
          "metadata": {},
          "execution_count": 13
        },
        {
          "output_type": "display_data",
          "data": {
            "text/plain": [
              "<Figure size 1440x360 with 1 Axes>"
            ],
            "image/png": "[encoded data removed]"
          },
          "metadata": {
            "needs_background": "light"
          }
        }
      ]
    },
    {
      "cell_type": "code",
      "source": [
        "# validation data\n",
        "valid = corpus._get_examples('valid')\n",
        "print(valid[0], \"\\n\\n\")\n",
        "valid_features = StoryDataset(valid, args, tokenizer,'valid', _convert_examples_to_generation_features)"
      ],
      "metadata": {
        "colab": {
          "base_uri": "https://localhost:8080/"
        },
        "id": "unYDFpFijgjL",
        "outputId": "d9a463f6-a2e9-4f3f-f1cf-81092e76091e"
      },
      "execution_count": 14,
      "outputs": [
        {
          "output_type": "stream",
          "name": "stdout",
          "text": [
            "GenerationExample(text='한스가 굳이 온힘을 다하지 않고도 두 서너 방 먹였더니 난쟁이가 계단 저 아래로 나가떨어지고 말았거든요.한스가 막 뒤쫓아 가려다 자신의 키가 너무 커 멈칫했지요, 잘못하면 계단에서 굴러떨어지니까요.그 바람에 난쟁이가 다시 일어났을 때엔 도망칠 여유가 생겼답니다.한스는 그럼에도 불구하고 숲 아주 깊숙이까지 난쟁이를 뒤쫓아 갔어요, 그때 난쟁이가 바위 속 구멍 안으로 쏙 미끄러져 들어가는 게 보이지 뭐예요.한스는 이제 집에 돌아왔지요. 하지만 표시를 해두고 오는 걸 잊이 않았답니다.다른 두 사람이 돌아왔을 때 그들은 한스가 멀쩡한 것을 보고 깜짝놀랐어요.무슨 일이 있었나를 한스가 그들에게 말해주었죠. 그래서 그들도 자신들이 당한 사실을 더는 숨기지 않았답니다.한스는 “껄껄걸” 웃으며 말했어요. “당해도 싸다, 그래 고기가 아까웠던 거야? 너희들 같이 이렇게 큰 애들이 그깟 난쟁이하나 당해내지 못해 얻어맞다니.”그런 까닭에 그들이 바구니와 새끼줄을 챙겨서, 난쟁이가 미끄러져 들어갔던 바위 속 구멍으로 가보았지요.그들은 우선 바구니에 한스와 한스의 방망이를 넣고 아래로 내렸어요.\\n') \n",
            "\n",
            "\n",
            "Creating features from valid-examples\n",
            "*** Example ***\n",
            "sentence : 한스가 굳이 온힘을 다하지 않고도 두 서너 방 먹였더니 난쟁이가 계단 저 아래로 나가떨어지고 말았거든요.한스가 막 뒤쫓아 가려다 자신의 키가 너무 커 멈칫했지요, 잘못하면 계단에서 굴러떨어지니까요.그 바람에 난쟁이가 다시 일어났을 때엔 도망칠 여유가 생겼답니다.한스는 그럼에도 불구하고 숲 아주 깊숙이까지 난쟁이를 뒤쫓아 갔어요, 그때 난쟁이가 바위 속 구멍 안으로 쏙 미끄러져 들어가는 게 보이지 뭐예요.한스는 이제 집에 돌아왔지요. 하지만 표시를 해두고 오는 걸 잊이 않았답니다.다른 두 사람이 돌아왔을 때 그들은 한스가 멀쩡한 것을 보고 깜짝놀랐어요.무슨 일이 있었나를 한스가 그들에게 말해주었죠. 그래서 그들도 자신들이 당한 사실을 더는 숨기지 않았답니다.한스는 “껄껄걸” 웃으며 말했어요. “당해도 싸다, 그래 고기가 아까웠던 거야? 너희들 같이 이렇게 큰 애들이 그깟 난쟁이하나 당해내지 못해 얻어맞다니.”그런 까닭에 그들이 바구니와 새끼줄을 챙겨서, 난쟁이가 미끄러져 들어갔던 바위 속 구멍으로 가보았지요.그들은 우선 바구니에 한스와 한스의 방망이를 넣고 아래로 내렸어요.\n",
            "\n",
            "tokens : ▁한 스가 ▁굳이 ▁온 힘 을 ▁다 하지 ▁않고도 ▁두 ▁서 너 ▁방 ▁먹 였 더니 ▁난 쟁 이가 ▁계단 ▁저 ▁아래로 ▁나가 떨 어지고 ▁말 았 거든 요. 한 스가 ▁막 ▁뒤 쫓 아 ▁가려 다 ▁자신의 ▁키가 ▁너무 ▁커 ▁멈 칫 했 지 요, ▁잘못 하면 ▁계 단에서 ▁굴 러 떨 어 지니 까 요. 그 ▁바람에 ▁난 쟁 이가 ▁다시 ▁일어났을 ▁때 엔 ▁도망 칠 ▁여 유가 ▁생겼 답 니다. 한 스는 ▁그럼에도 ▁불구하고 ▁숲 ▁아주 ▁깊숙이 까지 ▁난 쟁 이를 ▁뒤 쫓 아 ▁갔 어 요, ▁그때 ▁난 쟁 이가 ▁바위 ▁속 ▁구멍 ▁안으로 ▁ 쏙 ▁미끄 러져 ▁들어가는 ▁게 ▁보이지 ▁뭐 예 요. 한 스는 ▁이제 ▁집에 ▁돌아왔 지 요. ▁하지만 ▁표시 를 ▁해 두고 ▁오는 ▁걸 ▁잊 이 ▁않았 답 니다. 다른 ▁두 ▁사람이 ▁돌아왔 을 ▁때 ▁그들은 ▁한 스가 ▁멀 쩡 한 ▁것을 ▁보고 ▁깜짝 놀 랐 어 요. 무 슨 ▁일이 ▁있었 나를 ▁한 스가 ▁그들에게 ▁말 해주 었 죠 . ▁그래서 ▁그 들도 ▁자신들이 ▁당한 ▁사실을 ▁더 는 ▁숨 기지 ▁않았 답 니다. 한 스는 ▁“ 껄 껄 걸 ” ▁웃 으며 ▁말 했 어 요. ▁“ 당 해도 ▁싸 다, ▁그래 ▁고 기가 ▁아 까 웠던 ▁거 야 ? ▁너 희 들 ▁같이 ▁이렇게 ▁큰 ▁애 들이 ▁그 <unk> ▁난 쟁이 하나 ▁당해 내지 ▁못해 ▁얻어 맞 다니 .” 그 런 ▁까닭에 ▁그들이 ▁바 구 니와 ▁새끼 줄을 ▁챙 겨 서, ▁난 쟁 이가 ▁미끄 러져 ▁들어갔 던 ▁바위 ▁속 ▁구멍 으로 ▁가보 았 지 요. 그 들은 ▁우선 ▁바 구 니에 ▁한 스와 ▁한 스의 ▁방 망 이를 ▁넣고 ▁아래로 ▁내 렸 어요.\n",
            " </s> </s> </s> </s> </s> </s> </s> </s> </s> </s> </s> </s> </s> </s> </s> </s> </s> </s> </s> </s> </s> </s> </s> </s> </s> </s> </s> </s> </s> </s> </s> </s> </s> </s> </s> </s> </s> </s> </s> </s> </s> </s> </s> </s> </s> </s> </s> </s> </s> </s> </s> </s> </s> </s> </s> </s> </s> </s> </s> </s> </s> </s> </s> </s> </s> </s> </s> </s> </s> </s> </s> </s> </s> </s> </s> </s> </s> </s> </s> </s> </s> </s> </s> </s> </s> </s> </s> </s> </s> </s> </s> </s> </s> </s> </s> </s> </s> </s> </s> </s> </s> </s> </s> </s> </s> </s> </s> </s> </s> </s> </s> </s> </s> </s> </s> </s> </s> </s> </s> </s> </s> </s> </s> </s> </s> </s> </s> </s> </s> </s> </s> </s> </s> </s> </s> </s>\n",
            "features : GenerationFeatures(input_ids=[9036, 11001, 32109, 9586, 8815, 8137, 9054, 9328, 41138, 9174, 9071, 7085, 9127, 9784, 8041, 18952, 9769, 8178, 9760, 24118, 9265, 15270, 12312, 7323, 18905, 9135, 7978, 31204, 25856, 8704, 11001, 9730, 9200, 8311, 7965, 17270, 7182, 9745, 17250, 12371, 10114, 18739, 8427, 8718, 8263, 13704, 12222, 9511, 9142, 18553, 10859, 7397, 7323, 8006, 22627, 6969, 25856, 6947, 17072, 9769, 8178, 9760, 9427, 27612, 9068, 8024, 14576, 8423, 9093, 17264, 16157, 7192, 12521, 8704, 9860, 20250, 12177, 12671, 11445, 31056, 9168, 9769, 8178, 9989, 9200, 8311, 7965, 13243, 8006, 13704, 12858, 9769, 8178, 9760, 14630, 9238, 12381, 18098, 739, 7928, 35745, 20265, 17843, 10137, 14233, 46651, 8046, 25856, 8704, 9860, 12857, 15582, 26309, 8263, 25856, 10351, 11034, 7470, 9098, 16750, 14472, 9539, 16346, 8146, 10171, 7192, 12521, 10995, 9174, 10229, 26309, 8137, 9068, 11791, 9036, 11001, 11781, 8301, 8704, 9290, 10056, 44649, 7122, 7379, 8006, 25856, 7556, 7879, 11334, 9414, 21871, 9036, 11001, 22525, 9135, 15084, 8017, 8234, 389, 11403, 9022, 10852, 26125, 20835, 10687, 9267, 7162, 12154, 16843, 10171, 7192, 12521, 8704, 9860, 9640, 6989, 6989, 6857, 684, 14042, 9248, 9135, 8718, 8006, 25856, 9640, 7194, 12704, 10406, 14364, 10723, 9065, 9495, 9050, 6969, 24847, 9122, 7991, 406, 10099, 8806, 7285, 9779, 10917, 9458, 9831, 9136, 9022, 5, 9769, 13452, 11698, 20215, 28402, 18148, 12330, 7498, 16179, 12428, 6947, 7399, 23489, 14121, 9117, 6919, 19903, 16309, 22414, 42226, 6874, 9469, 9769, 8178, 9760, 35745, 20265, 17545, 7210, 14630, 9238, 12381, 9021, 29462, 7978, 8263, 25856, 6947, 9177, 12201, 9117, 6919, 23776, 9036, 11556, 9036, 9799, 9127, 7497, 9989, 13233, 15270, 9094, 7422, 14782, 1, 1, 1, 1, 1, 1, 1, 1, 1, 1, 1, 1, 1, 1, 1, 1, 1, 1, 1, 1, 1, 1, 1, 1, 1, 1, 1, 1, 1, 1, 1, 1, 1, 1, 1, 1, 1, 1, 1, 1, 1, 1, 1, 1, 1, 1, 1, 1, 1, 1, 1, 1, 1, 1, 1, 1, 1, 1, 1, 1, 1, 1, 1, 1, 1, 1, 1, 1, 1, 1, 1, 1, 1, 1, 1, 1, 1, 1, 1, 1, 1, 1, 1, 1, 1, 1, 1, 1, 1, 1, 1, 1, 1, 1, 1, 1, 1, 1, 1, 1, 1, 1, 1, 1, 1, 1, 1, 1, 1, 1, 1, 1, 1, 1, 1, 1, 1, 1, 1, 1, 1, 1, 1, 1, 1, 1, 1, 1, 1, 1, 1, 1, 1, 1, 1, 1], attention_mask=[1, 1, 1, 1, 1, 1, 1, 1, 1, 1, 1, 1, 1, 1, 1, 1, 1, 1, 1, 1, 1, 1, 1, 1, 1, 1, 1, 1, 1, 1, 1, 1, 1, 1, 1, 1, 1, 1, 1, 1, 1, 1, 1, 1, 1, 1, 1, 1, 1, 1, 1, 1, 1, 1, 1, 1, 1, 1, 1, 1, 1, 1, 1, 1, 1, 1, 1, 1, 1, 1, 1, 1, 1, 1, 1, 1, 1, 1, 1, 1, 1, 1, 1, 1, 1, 1, 1, 1, 1, 1, 1, 1, 1, 1, 1, 1, 1, 1, 1, 1, 1, 1, 1, 1, 1, 1, 1, 1, 1, 1, 1, 1, 1, 1, 1, 1, 1, 1, 1, 1, 1, 1, 1, 1, 1, 1, 1, 1, 1, 1, 1, 1, 1, 1, 1, 1, 1, 1, 1, 1, 1, 1, 1, 1, 1, 1, 1, 1, 1, 1, 1, 1, 1, 1, 1, 1, 1, 1, 1, 1, 1, 1, 1, 1, 1, 1, 1, 1, 1, 1, 1, 1, 1, 1, 1, 1, 1, 1, 1, 1, 1, 1, 1, 1, 1, 1, 1, 1, 1, 1, 1, 1, 1, 1, 1, 1, 1, 1, 1, 1, 1, 1, 1, 1, 1, 1, 1, 1, 1, 1, 1, 1, 1, 1, 1, 1, 1, 1, 1, 1, 1, 1, 1, 1, 1, 1, 1, 1, 1, 1, 1, 1, 1, 1, 1, 1, 1, 1, 1, 1, 1, 1, 1, 1, 1, 1, 1, 1, 1, 1, 1, 1, 1, 1, 1, 1, 1, 1, 1, 1, 1, 1, 1, 1, 0, 0, 0, 0, 0, 0, 0, 0, 0, 0, 0, 0, 0, 0, 0, 0, 0, 0, 0, 0, 0, 0, 0, 0, 0, 0, 0, 0, 0, 0, 0, 0, 0, 0, 0, 0, 0, 0, 0, 0, 0, 0, 0, 0, 0, 0, 0, 0, 0, 0, 0, 0, 0, 0, 0, 0, 0, 0, 0, 0, 0, 0, 0, 0, 0, 0, 0, 0, 0, 0, 0, 0, 0, 0, 0, 0, 0, 0, 0, 0, 0, 0, 0, 0, 0, 0, 0, 0, 0, 0, 0, 0, 0, 0, 0, 0, 0, 0, 0, 0, 0, 0, 0, 0, 0, 0, 0, 0, 0, 0, 0, 0, 0, 0, 0, 0, 0, 0, 0, 0, 0, 0, 0, 0, 0, 0, 0, 0, 0, 0, 0, 0, 0, 0, 0, 0], token_type_ids=[0, 0, 0, 0, 0, 0, 0, 0, 0, 0, 0, 0, 0, 0, 0, 0, 0, 0, 0, 0, 0, 0, 0, 0, 0, 0, 0, 0, 0, 0, 0, 0, 0, 0, 0, 0, 0, 0, 0, 0, 0, 0, 0, 0, 0, 0, 0, 0, 0, 0, 0, 0, 0, 0, 0, 0, 0, 0, 0, 0, 0, 0, 0, 0, 0, 0, 0, 0, 0, 0, 0, 0, 0, 0, 0, 0, 0, 0, 0, 0, 0, 0, 0, 0, 0, 0, 0, 0, 0, 0, 0, 0, 0, 0, 0, 0, 0, 0, 0, 0, 0, 0, 0, 0, 0, 0, 0, 0, 0, 0, 0, 0, 0, 0, 0, 0, 0, 0, 0, 0, 0, 0, 0, 0, 0, 0, 0, 0, 0, 0, 0, 0, 0, 0, 0, 0, 0, 0, 0, 0, 0, 0, 0, 0, 0, 0, 0, 0, 0, 0, 0, 0, 0, 0, 0, 0, 0, 0, 0, 0, 0, 0, 0, 0, 0, 0, 0, 0, 0, 0, 0, 0, 0, 0, 0, 0, 0, 0, 0, 0, 0, 0, 0, 0, 0, 0, 0, 0, 0, 0, 0, 0, 0, 0, 0, 0, 0, 0, 0, 0, 0, 0, 0, 0, 0, 0, 0, 0, 0, 0, 0, 0, 0, 0, 0, 0, 0, 0, 0, 0, 0, 0, 0, 0, 0, 0, 0, 0, 0, 0, 0, 0, 0, 0, 0, 0, 0, 0, 0, 0, 0, 0, 0, 0, 0, 0, 0, 0, 0, 0, 0, 0, 0, 0, 0, 0, 0, 0, 0, 0, 0, 0, 0, 0, 0, 0, 0, 0, 0, 0, 0, 0, 0, 0, 0, 0, 0, 0, 0, 0, 0, 0, 0, 0, 0, 0, 0, 0, 0, 0, 0, 0, 0, 0, 0, 0, 0, 0, 0, 0, 0, 0, 0, 0, 0, 0, 0, 0, 0, 0, 0, 0, 0, 0, 0, 0, 0, 0, 0, 0, 0, 0, 0, 0, 0, 0, 0, 0, 0, 0, 0, 0, 0, 0, 0, 0, 0, 0, 0, 0, 0, 0, 0, 0, 0, 0, 0, 0, 0, 0, 0, 0, 0, 0, 0, 0, 0, 0, 0, 0, 0, 0, 0, 0, 0, 0, 0, 0, 0, 0, 0, 0, 0, 0, 0, 0, 0, 0, 0, 0, 0, 0, 0, 0, 0, 0, 0, 0, 0, 0, 0, 0, 0, 0, 0, 0, 0, 0, 0, 0], labels=[9036, 11001, 32109, 9586, 8815, 8137, 9054, 9328, 41138, 9174, 9071, 7085, 9127, 9784, 8041, 18952, 9769, 8178, 9760, 24118, 9265, 15270, 12312, 7323, 18905, 9135, 7978, 31204, 25856, 8704, 11001, 9730, 9200, 8311, 7965, 17270, 7182, 9745, 17250, 12371, 10114, 18739, 8427, 8718, 8263, 13704, 12222, 9511, 9142, 18553, 10859, 7397, 7323, 8006, 22627, 6969, 25856, 6947, 17072, 9769, 8178, 9760, 9427, 27612, 9068, 8024, 14576, 8423, 9093, 17264, 16157, 7192, 12521, 8704, 9860, 20250, 12177, 12671, 11445, 31056, 9168, 9769, 8178, 9989, 9200, 8311, 7965, 13243, 8006, 13704, 12858, 9769, 8178, 9760, 14630, 9238, 12381, 18098, 739, 7928, 35745, 20265, 17843, 10137, 14233, 46651, 8046, 25856, 8704, 9860, 12857, 15582, 26309, 8263, 25856, 10351, 11034, 7470, 9098, 16750, 14472, 9539, 16346, 8146, 10171, 7192, 12521, 10995, 9174, 10229, 26309, 8137, 9068, 11791, 9036, 11001, 11781, 8301, 8704, 9290, 10056, 44649, 7122, 7379, 8006, 25856, 7556, 7879, 11334, 9414, 21871, 9036, 11001, 22525, 9135, 15084, 8017, 8234, 389, 11403, 9022, 10852, 26125, 20835, 10687, 9267, 7162, 12154, 16843, 10171, 7192, 12521, 8704, 9860, 9640, 6989, 6989, 6857, 684, 14042, 9248, 9135, 8718, 8006, 25856, 9640, 7194, 12704, 10406, 14364, 10723, 9065, 9495, 9050, 6969, 24847, 9122, 7991, 406, 10099, 8806, 7285, 9779, 10917, 9458, 9831, 9136, 9022, 5, 9769, 13452, 11698, 20215, 28402, 18148, 12330, 7498, 16179, 12428, 6947, 7399, 23489, 14121, 9117, 6919, 19903, 16309, 22414, 42226, 6874, 9469, 9769, 8178, 9760, 35745, 20265, 17545, 7210, 14630, 9238, 12381, 9021, 29462, 7978, 8263, 25856, 6947, 9177, 12201, 9117, 6919, 23776, 9036, 11556, 9036, 9799, 9127, 7497, 9989, 13233, 15270, 9094, 7422, 14782, 1, 1, 1, 1, 1, 1, 1, 1, 1, 1, 1, 1, 1, 1, 1, 1, 1, 1, 1, 1, 1, 1, 1, 1, 1, 1, 1, 1, 1, 1, 1, 1, 1, 1, 1, 1, 1, 1, 1, 1, 1, 1, 1, 1, 1, 1, 1, 1, 1, 1, 1, 1, 1, 1, 1, 1, 1, 1, 1, 1, 1, 1, 1, 1, 1, 1, 1, 1, 1, 1, 1, 1, 1, 1, 1, 1, 1, 1, 1, 1, 1, 1, 1, 1, 1, 1, 1, 1, 1, 1, 1, 1, 1, 1, 1, 1, 1, 1, 1, 1, 1, 1, 1, 1, 1, 1, 1, 1, 1, 1, 1, 1, 1, 1, 1, 1, 1, 1, 1, 1, 1, 1, 1, 1, 1, 1, 1, 1, 1, 1, 1, 1, 1, 1, 1, 1])\n",
            "*** Example ***\n",
            "sentence : 한스가 바닥에 도착해보니 문이 하나 나왔는데 그 문을 열고 들어가니 그림만큼이나 사랑스러운 아가씨가 앉아 있지 뭐예요, 정말이지 이루 말로 다 표현할 수 없을 만큼 아리따운 처녀였어요. 바로 그 옆에는 그 난쟁이가 앉아 있다 바다표범 같은 한스를 향해 씩 이빨을 드러내며 웃는 거예요!하지만 아가씨는 쇠사슬에 꽁꽁 묶여 있었고 슬픔을 자아내는 시선으로 한스를 바라봤기에, 한스는 그녀에게 무한 동정심을 느끼고 생각했어요.‘사악한 난쟁이로부터 뭔 수를 쓰서라도 저 아가씨를 구해내야겠다.’그리하여 한스가 자신의 방망이를 한방 세게 휘둘렀고 난쟁이가 죽어 쓰러지고 말았죠.그 즉시 쇠사슬들이 아가씨에게서 흘러내렸어요.한스가 그녀의 미모에 흠뻑 취한 건 말할 필요도 없었지요.그녀가 말했어요.“저는 공주랍니다. 제가 결혼에 동의해주지 않았다는 이유로, 어느 야만스런 백작이 집에 있던 저를 납치해 이 바위 사이에 가두고 이 난쟁이를 시켜 지키게 했지요. 그래서 저는 비참함과 고통을 참아야만 했어요.”이제 한스가 그 아가씨를 바구니에 태워 위에서 끌어올리게 했답니다.바구니가 다시 내려왔아요. 하지만 한스는 두 동료를 신뢰할 수가 없었죠.한스가 생각했어요. ‘저들은 벌써 내게 거짓말을 했어, 난쟁이에 관한 얘기를 내게 안 말했었잖아, 이제와 저들이 내게 어찌 나올지 알고?’\n",
            "\n",
            "tokens : ▁한 스가 ▁바닥에 ▁도착 해보 니 ▁문이 ▁하나 ▁나왔 는데 ▁그 ▁문을 ▁열고 ▁들어가 니 ▁그림 만큼이나 ▁사랑 스러운 ▁아가 씨가 ▁앉아 ▁있지 ▁뭐 예 요, ▁정말 이지 ▁이루 ▁말로 ▁다 ▁표현할 ▁수 ▁없을 ▁만큼 ▁아리 따 운 ▁처녀 였 어 요. ▁바로 ▁그 ▁옆에는 ▁그 ▁난 쟁 이가 ▁앉아 ▁있다 ▁바다 표 범 ▁같은 ▁한 스를 ▁향해 ▁ 씩 ▁이빨 을 ▁드러내 며 ▁웃 는 ▁거 예 요 ! 하지만 ▁아가 씨는 ▁쇠 사슬 에 ▁꽁 꽁 ▁묶여 ▁있었고 ▁슬픔을 ▁자아 내는 ▁시 선으로 ▁한 스를 ▁바라 봤 기에, ▁한 스는 ▁그녀에게 ▁무한 ▁동정 심을 ▁느끼고 ▁생각 했 어 요. ‘ 사 악한 ▁난 쟁이 로부터 ▁ 뭔 ▁수를 ▁쓰 서 라도 ▁저 ▁아가 씨를 ▁구해 내 야 겠 다. ’ 그리 하여 ▁한 스가 ▁자신의 ▁방 망 이를 ▁한방 ▁세 게 ▁휘 둘 렀 고 ▁난 쟁 이가 ▁죽어 ▁쓰러 지고 ▁말 았 죠 . 그 ▁즉시 ▁쇠 사슬 들이 ▁아가 씨 에게서 ▁흘러내 렸 어 요. 한 스가 ▁그녀의 ▁미 모에 ▁흠 뻑 ▁취한 ▁건 ▁말할 ▁필요 도 ▁없었 지 요. 그 녀가 ▁말 했 어 요. “ 저는 ▁공주 랍 니다. ▁제가 ▁결혼 에 ▁동의 해주 지 ▁않았다는 ▁이유 로, ▁어느 ▁야만 스런 ▁백작이 ▁집에 ▁있던 ▁저 를 ▁납치 해 ▁이 ▁바위 ▁사이에 ▁가 두고 ▁이 ▁난 쟁 이를 ▁시켜 ▁지키 게 ▁했 지 요. ▁그래서 ▁저 는 ▁비 참 함과 ▁고통을 ▁참 아야 만 ▁했 어 요.” 이 제 ▁한 스가 ▁그 ▁아가 씨를 ▁바 구 니에 ▁태워 ▁위에서 ▁끌어올 리게 ▁했 답 니다. 바 구 니가 ▁다시 ▁내려 왔 아 요. ▁하지만 ▁한 스는 ▁두 ▁동 료를 ▁신뢰 할 ▁수가 ▁없었 죠 . 한 스가 ▁생각 했 어 요. ▁‘ 저 들은 ▁벌써 ▁내게 ▁거짓 말을 ▁했 어, ▁난 쟁 이에 ▁관한 ▁얘 기를 ▁내게 ▁안 ▁말 했 었 잖 아, ▁이 제와 ▁저 들이 ▁내게 ▁어찌 ▁나올 지 ▁알고 ? ’ \n",
            " </s> </s> </s> </s> </s> </s> </s> </s> </s> </s> </s> </s> </s> </s> </s> </s> </s> </s> </s> </s> </s> </s> </s> </s> </s> </s> </s> </s> </s> </s> </s> </s> </s> </s> </s> </s> </s> </s> </s> </s> </s> </s> </s> </s> </s> </s> </s> </s> </s> </s> </s> </s> </s> </s> </s> </s> </s> </s> </s> </s> </s> </s> </s> </s> </s> </s> </s> </s> </s> </s> </s> </s> </s> </s> </s> </s> </s> </s> </s> </s> </s> </s> </s> </s> </s> </s> </s> </s> </s> </s> </s>\n",
            "features : GenerationFeatures(input_ids=[9036, 11001, 19962, 13176, 29452, 7172, 39046, 9402, 16409, 9668, 9022, 16012, 20759, 10956, 7172, 9832, 45472, 10270, 12512, 16728, 15389, 16898, 11218, 46651, 8046, 13704, 29205, 10415, 9263, 15086, 9054, 26139, 9025, 12974, 11841, 44954, 7303, 8094, 18147, 8041, 8006, 25856, 10021, 9022, 35939, 9022, 9769, 8178, 9760, 16898, 33400, 11099, 8669, 7626, 9239, 9036, 11414, 15003, 739, 7958, 25866, 8137, 22251, 7530, 14042, 7162, 9122, 8046, 8084, 376, 11686, 16728, 16372, 10907, 50249, 8022, 47729, 7007, 39321, 18406, 26976, 17091, 10207, 9039, 13384, 9036, 11414, 13158, 7662, 44236, 9036, 9860, 32410, 17787, 24696, 10204, 24793, 9658, 8718, 8006, 25856, 680, 7756, 20962, 9769, 13452, 9739, 739, 7569, 17617, 9451, 7788, 10348, 9265, 16728, 17122, 24550, 7071, 7991, 6872, 9016, 681, 22506, 9047, 9036, 11001, 9745, 9127, 7497, 9989, 32245, 9088, 6866, 11174, 7261, 7404, 6889, 9769, 8178, 9760, 23842, 30431, 9810, 9135, 7978, 8234, 389, 6947, 16997, 10907, 50249, 9136, 16728, 7957, 14493, 19361, 7422, 8006, 25856, 8704, 11001, 13511, 9121, 21324, 19243, 7723, 23210, 9193, 16732, 9806, 7235, 11106, 8263, 25856, 6947, 25654, 9135, 8718, 8006, 25856, 683, 37767, 15604, 7377, 12521, 45887, 10715, 8022, 14559, 15084, 8263, 29065, 10175, 10034, 10203, 35387, 19912, 47552, 15582, 9816, 9265, 7470, 39261, 8711, 9018, 14630, 10113, 9028, 16750, 9018, 9769, 8178, 9989, 19023, 13209, 6866, 9651, 8263, 25856, 11403, 9265, 7162, 9072, 8340, 14079, 17869, 9338, 18223, 7489, 9651, 8006, 42329, 8146, 8196, 9036, 11001, 9022, 16728, 17122, 9117, 6919, 23776, 36281, 13721, 32486, 12906, 9651, 7192, 12521, 7596, 6919, 13761, 9427, 10396, 8073, 7965, 25856, 10351, 9036, 9860, 9174, 9070, 12367, 16700, 8705, 11250, 11106, 8234, 389, 8704, 11001, 9658, 8718, 8006, 25856, 9172, 8185, 9177, 39207, 45023, 18351, 15413, 9651, 12481, 9769, 8178, 10828, 9378, 31187, 9368, 45023, 9183, 9135, 8718, 8017, 8162, 18903, 9018, 12114, 9265, 9136, 45023, 17585, 24411, 8263, 12487, 406, 681, 375, 1, 1, 1, 1, 1, 1, 1, 1, 1, 1, 1, 1, 1, 1, 1, 1, 1, 1, 1, 1, 1, 1, 1, 1, 1, 1, 1, 1, 1, 1, 1, 1, 1, 1, 1, 1, 1, 1, 1, 1, 1, 1, 1, 1, 1, 1, 1, 1, 1, 1, 1, 1, 1, 1, 1, 1, 1, 1, 1, 1, 1, 1, 1, 1, 1, 1, 1, 1, 1, 1, 1, 1, 1, 1, 1, 1, 1, 1, 1, 1, 1, 1, 1, 1, 1, 1, 1, 1, 1, 1, 1], attention_mask=[1, 1, 1, 1, 1, 1, 1, 1, 1, 1, 1, 1, 1, 1, 1, 1, 1, 1, 1, 1, 1, 1, 1, 1, 1, 1, 1, 1, 1, 1, 1, 1, 1, 1, 1, 1, 1, 1, 1, 1, 1, 1, 1, 1, 1, 1, 1, 1, 1, 1, 1, 1, 1, 1, 1, 1, 1, 1, 1, 1, 1, 1, 1, 1, 1, 1, 1, 1, 1, 1, 1, 1, 1, 1, 1, 1, 1, 1, 1, 1, 1, 1, 1, 1, 1, 1, 1, 1, 1, 1, 1, 1, 1, 1, 1, 1, 1, 1, 1, 1, 1, 1, 1, 1, 1, 1, 1, 1, 1, 1, 1, 1, 1, 1, 1, 1, 1, 1, 1, 1, 1, 1, 1, 1, 1, 1, 1, 1, 1, 1, 1, 1, 1, 1, 1, 1, 1, 1, 1, 1, 1, 1, 1, 1, 1, 1, 1, 1, 1, 1, 1, 1, 1, 1, 1, 1, 1, 1, 1, 1, 1, 1, 1, 1, 1, 1, 1, 1, 1, 1, 1, 1, 1, 1, 1, 1, 1, 1, 1, 1, 1, 1, 1, 1, 1, 1, 1, 1, 1, 1, 1, 1, 1, 1, 1, 1, 1, 1, 1, 1, 1, 1, 1, 1, 1, 1, 1, 1, 1, 1, 1, 1, 1, 1, 1, 1, 1, 1, 1, 1, 1, 1, 1, 1, 1, 1, 1, 1, 1, 1, 1, 1, 1, 1, 1, 1, 1, 1, 1, 1, 1, 1, 1, 1, 1, 1, 1, 1, 1, 1, 1, 1, 1, 1, 1, 1, 1, 1, 1, 1, 1, 1, 1, 1, 1, 1, 1, 1, 1, 1, 1, 1, 1, 1, 1, 1, 1, 1, 1, 1, 1, 1, 1, 1, 1, 1, 1, 1, 1, 1, 1, 1, 1, 1, 1, 1, 1, 1, 1, 1, 1, 1, 1, 1, 1, 1, 1, 1, 1, 0, 0, 0, 0, 0, 0, 0, 0, 0, 0, 0, 0, 0, 0, 0, 0, 0, 0, 0, 0, 0, 0, 0, 0, 0, 0, 0, 0, 0, 0, 0, 0, 0, 0, 0, 0, 0, 0, 0, 0, 0, 0, 0, 0, 0, 0, 0, 0, 0, 0, 0, 0, 0, 0, 0, 0, 0, 0, 0, 0, 0, 0, 0, 0, 0, 0, 0, 0, 0, 0, 0, 0, 0, 0, 0, 0, 0, 0, 0, 0, 0, 0, 0, 0, 0, 0, 0, 0, 0, 0, 0], token_type_ids=[0, 0, 0, 0, 0, 0, 0, 0, 0, 0, 0, 0, 0, 0, 0, 0, 0, 0, 0, 0, 0, 0, 0, 0, 0, 0, 0, 0, 0, 0, 0, 0, 0, 0, 0, 0, 0, 0, 0, 0, 0, 0, 0, 0, 0, 0, 0, 0, 0, 0, 0, 0, 0, 0, 0, 0, 0, 0, 0, 0, 0, 0, 0, 0, 0, 0, 0, 0, 0, 0, 0, 0, 0, 0, 0, 0, 0, 0, 0, 0, 0, 0, 0, 0, 0, 0, 0, 0, 0, 0, 0, 0, 0, 0, 0, 0, 0, 0, 0, 0, 0, 0, 0, 0, 0, 0, 0, 0, 0, 0, 0, 0, 0, 0, 0, 0, 0, 0, 0, 0, 0, 0, 0, 0, 0, 0, 0, 0, 0, 0, 0, 0, 0, 0, 0, 0, 0, 0, 0, 0, 0, 0, 0, 0, 0, 0, 0, 0, 0, 0, 0, 0, 0, 0, 0, 0, 0, 0, 0, 0, 0, 0, 0, 0, 0, 0, 0, 0, 0, 0, 0, 0, 0, 0, 0, 0, 0, 0, 0, 0, 0, 0, 0, 0, 0, 0, 0, 0, 0, 0, 0, 0, 0, 0, 0, 0, 0, 0, 0, 0, 0, 0, 0, 0, 0, 0, 0, 0, 0, 0, 0, 0, 0, 0, 0, 0, 0, 0, 0, 0, 0, 0, 0, 0, 0, 0, 0, 0, 0, 0, 0, 0, 0, 0, 0, 0, 0, 0, 0, 0, 0, 0, 0, 0, 0, 0, 0, 0, 0, 0, 0, 0, 0, 0, 0, 0, 0, 0, 0, 0, 0, 0, 0, 0, 0, 0, 0, 0, 0, 0, 0, 0, 0, 0, 0, 0, 0, 0, 0, 0, 0, 0, 0, 0, 0, 0, 0, 0, 0, 0, 0, 0, 0, 0, 0, 0, 0, 0, 0, 0, 0, 0, 0, 0, 0, 0, 0, 0, 0, 0, 0, 0, 0, 0, 0, 0, 0, 0, 0, 0, 0, 0, 0, 0, 0, 0, 0, 0, 0, 0, 0, 0, 0, 0, 0, 0, 0, 0, 0, 0, 0, 0, 0, 0, 0, 0, 0, 0, 0, 0, 0, 0, 0, 0, 0, 0, 0, 0, 0, 0, 0, 0, 0, 0, 0, 0, 0, 0, 0, 0, 0, 0, 0, 0, 0, 0, 0, 0, 0, 0, 0, 0, 0, 0, 0, 0, 0, 0, 0, 0, 0, 0, 0, 0, 0, 0, 0, 0, 0, 0], labels=[9036, 11001, 19962, 13176, 29452, 7172, 39046, 9402, 16409, 9668, 9022, 16012, 20759, 10956, 7172, 9832, 45472, 10270, 12512, 16728, 15389, 16898, 11218, 46651, 8046, 13704, 29205, 10415, 9263, 15086, 9054, 26139, 9025, 12974, 11841, 44954, 7303, 8094, 18147, 8041, 8006, 25856, 10021, 9022, 35939, 9022, 9769, 8178, 9760, 16898, 33400, 11099, 8669, 7626, 9239, 9036, 11414, 15003, 739, 7958, 25866, 8137, 22251, 7530, 14042, 7162, 9122, 8046, 8084, 376, 11686, 16728, 16372, 10907, 50249, 8022, 47729, 7007, 39321, 18406, 26976, 17091, 10207, 9039, 13384, 9036, 11414, 13158, 7662, 44236, 9036, 9860, 32410, 17787, 24696, 10204, 24793, 9658, 8718, 8006, 25856, 680, 7756, 20962, 9769, 13452, 9739, 739, 7569, 17617, 9451, 7788, 10348, 9265, 16728, 17122, 24550, 7071, 7991, 6872, 9016, 681, 22506, 9047, 9036, 11001, 9745, 9127, 7497, 9989, 32245, 9088, 6866, 11174, 7261, 7404, 6889, 9769, 8178, 9760, 23842, 30431, 9810, 9135, 7978, 8234, 389, 6947, 16997, 10907, 50249, 9136, 16728, 7957, 14493, 19361, 7422, 8006, 25856, 8704, 11001, 13511, 9121, 21324, 19243, 7723, 23210, 9193, 16732, 9806, 7235, 11106, 8263, 25856, 6947, 25654, 9135, 8718, 8006, 25856, 683, 37767, 15604, 7377, 12521, 45887, 10715, 8022, 14559, 15084, 8263, 29065, 10175, 10034, 10203, 35387, 19912, 47552, 15582, 9816, 9265, 7470, 39261, 8711, 9018, 14630, 10113, 9028, 16750, 9018, 9769, 8178, 9989, 19023, 13209, 6866, 9651, 8263, 25856, 11403, 9265, 7162, 9072, 8340, 14079, 17869, 9338, 18223, 7489, 9651, 8006, 42329, 8146, 8196, 9036, 11001, 9022, 16728, 17122, 9117, 6919, 23776, 36281, 13721, 32486, 12906, 9651, 7192, 12521, 7596, 6919, 13761, 9427, 10396, 8073, 7965, 25856, 10351, 9036, 9860, 9174, 9070, 12367, 16700, 8705, 11250, 11106, 8234, 389, 8704, 11001, 9658, 8718, 8006, 25856, 9172, 8185, 9177, 39207, 45023, 18351, 15413, 9651, 12481, 9769, 8178, 10828, 9378, 31187, 9368, 45023, 9183, 9135, 8718, 8017, 8162, 18903, 9018, 12114, 9265, 9136, 45023, 17585, 24411, 8263, 12487, 406, 681, 375, 1, 1, 1, 1, 1, 1, 1, 1, 1, 1, 1, 1, 1, 1, 1, 1, 1, 1, 1, 1, 1, 1, 1, 1, 1, 1, 1, 1, 1, 1, 1, 1, 1, 1, 1, 1, 1, 1, 1, 1, 1, 1, 1, 1, 1, 1, 1, 1, 1, 1, 1, 1, 1, 1, 1, 1, 1, 1, 1, 1, 1, 1, 1, 1, 1, 1, 1, 1, 1, 1, 1, 1, 1, 1, 1, 1, 1, 1, 1, 1, 1, 1, 1, 1, 1, 1, 1, 1, 1, 1, 1])\n",
            "*** Example ***\n",
            "sentence : 그래서 한스는 바구니에 자신의 방망이를 넣었지요, 정말 운이 좋았어요, 왜냐면 바구니가 반쯤 올라갔을 때 뚝하고 다시 떨어졌거든요. 만에 하나 한스가 타고 있었다면 틀림없이 떨어져 죽고 말았을 거예요.하지만 그건 그거고 이건 이거고, 도대체 이 깊은 땅 밑에서 어떻게 다시 지상으로 돌아간단 말인가요, 그래서 그가 돌아서 빠져나갈 틈이라도 있는지 살펴보기로 결심했어요.“정말 최악인데,”라며 그가 혼잣말로 말했어요. “이러다 세월 다 보내겠어.”그가 앞뒤로 걷다, 아가씨가 앉아 있던 그 작은 방으로 다시 들어가 보았더니, 난장이가 손가락에 끼고 있던 반지 하나가 번득이고 있는 게 아니겠어요.그래서 한스가 그걸 빼내 자신의 손가락에 끼운 다음 돌려보았더니, 순간 머리 위에 뭔가가 빙빙 도는 소리가 나는 거예요.그가 올려다보니 허공에 요정들이 맴돌고 있다, “주인님 무슨 분부라고 있으신가요?”라고 말하지 않겠어요.한스는 순간 말문이 막혀 멍하니 있다 곧 “그럼 나를 지상으로 다시 데려다줘.”라고 말했지요.요정들이 즉시 그 말을 따랐고, 한스는 자신이 위로 나는 듯한 느낌을 받았죠.하지만 그가 다시 위로 올라왔을 땐 아무도 없었어요.‘전나무로 새끼 꼬는 자’와 ‘돌 깨부수는 자’가 아름다운 아가씨를 데리고 서둘러 떠나버렸던 거지요.\n",
            "\n",
            "tokens : ▁그래서 ▁한 스는 ▁바 구 니에 ▁자신의 ▁방 망 이를 ▁넣 었 지 요, ▁정말 ▁운 이 ▁좋 았 어 요, ▁왜냐 면 ▁바 구 니가 ▁반쯤 ▁올라 갔 을 ▁때 ▁뚝 하고 ▁다시 ▁떨어 졌 거든 요. ▁만에 ▁하나 ▁한 스가 ▁타고 ▁있었 다면 ▁틀림 없이 ▁떨어져 ▁죽고 ▁말 았을 ▁거 예 요. 하지만 ▁그 건 ▁그 거 고 ▁이건 ▁이 거 고, ▁도 대체 ▁이 ▁깊은 ▁땅 ▁밑에서 ▁어떻게 ▁다시 ▁지 상으로 ▁돌아간 단 ▁말 인가 요, ▁그래서 ▁그가 ▁돌아 서 ▁빠져나 갈 ▁틈 이라도 ▁있는지 ▁살펴 보기 로 ▁결심 했 어 요. “ 정 말 ▁최 악 인데, ” 라며 ▁그가 ▁혼 잣 말로 ▁말 했 어 요. ▁“이 러 다 ▁세월 ▁다 ▁보내 겠 어 .” 그 가 ▁앞뒤로 ▁걷 다, ▁아가 씨가 ▁앉아 ▁있던 ▁그 ▁작은 ▁방으로 ▁다시 ▁들어가 ▁보았 더니, ▁난 장이 가 ▁손가락 에 ▁끼고 ▁있던 ▁반지 ▁하나가 ▁번 득 이고 ▁있는 ▁게 ▁아니 겠 어 요. 그래 서 ▁한 스가 ▁그 걸 ▁빼 내 ▁자신의 ▁손가락 에 ▁끼 운 ▁다음 ▁돌려보 았 더니, ▁순간 ▁머리 ▁위에 ▁ 뭔 가가 ▁빙 빙 ▁도는 ▁소리가 ▁나는 ▁거 예 요. 그 가 ▁올려 다보 니 ▁허 공에 ▁요 정 들이 ▁ 맴 돌 고 ▁있 다, ▁“ 주인 님 ▁무슨 ▁분 부 라고 ▁있 으 신 가 요?” 라고 ▁말하지 ▁않겠 어 요. 한 스는 ▁순간 ▁말 문이 ▁막혀 ▁멍 하니 ▁있다 ▁곧 ▁“그 럼 ▁나를 ▁지 상으로 ▁다시 ▁데려 다 줘 .”라고 ▁말 했 지 요. 요 정 들이 ▁즉시 ▁그 ▁말을 ▁따랐 고, ▁한 스는 ▁자신이 ▁위로 ▁나는 ▁듯한 ▁느낌을 ▁받았 죠 . 하지만 ▁그가 ▁다시 ▁위로 ▁올라 왔을 ▁ 땐 ▁아무도 ▁없었 어 요. ‘ 전 나무로 ▁새끼 ▁꼬 는 ▁자 ’와 ▁‘ 돌 ▁깨 부 수는 ▁자 ’가 ▁아름다운 ▁아가 씨를 ▁데리고 ▁서둘러 ▁떠나 버 렸던 ▁거 지요.\n",
            " </s> </s> </s> </s> </s> </s> </s> </s> </s> </s> </s> </s> </s> </s> </s> </s> </s> </s> </s> </s> </s> </s> </s> </s> </s> </s> </s> </s> </s> </s> </s> </s> </s> </s> </s> </s> </s> </s> </s> </s> </s> </s> </s> </s> </s> </s> </s> </s> </s> </s> </s> </s> </s> </s> </s> </s> </s> </s> </s> </s> </s> </s> </s> </s> </s> </s> </s> </s> </s> </s> </s> </s> </s> </s> </s> </s> </s> </s> </s> </s> </s> </s> </s> </s> </s> </s> </s> </s> </s> </s> </s> </s> </s> </s> </s> </s> </s> </s> </s> </s> </s> </s> </s>\n",
            "features : GenerationFeatures(input_ids=[11403, 9036, 9860, 9117, 6919, 23776, 9745, 9127, 7497, 9989, 10158, 8017, 8263, 13704, 29205, 9273, 8146, 9677, 7978, 8006, 13704, 18592, 7532, 9117, 6919, 13761, 42506, 10788, 6834, 8137, 9068, 28388, 9038, 9427, 11615, 8210, 31204, 25856, 12957, 9402, 9036, 11001, 12814, 9414, 10846, 26970, 10480, 12502, 16787, 9135, 23928, 9122, 8046, 25856, 11686, 9022, 6855, 9022, 6853, 6889, 22891, 9018, 6853, 9075, 9095, 33785, 9018, 11404, 10188, 16206, 11649, 9427, 9027, 10123, 30148, 7185, 9135, 14668, 13704, 11403, 9871, 9754, 7788, 26763, 6828, 16144, 16130, 20289, 11853, 9305, 7426, 20438, 8718, 8006, 25856, 683, 8194, 7492, 9212, 7966, 10681, 684, 32555, 9871, 9749, 8166, 14504, 9135, 8718, 8006, 25856, 22137, 7397, 7182, 18664, 9054, 11219, 6872, 8006, 12428, 6947, 6824, 37619, 17077, 14364, 16728, 15389, 16898, 9816, 9022, 9836, 35286, 9427, 10956, 17828, 36091, 9769, 9711, 6824, 16549, 8022, 18593, 9816, 27510, 15584, 9515, 7282, 9466, 9080, 10137, 9320, 6872, 8006, 25856, 19561, 7788, 9036, 11001, 9022, 6857, 11343, 7071, 9745, 16549, 8022, 10982, 8094, 9536, 33690, 7978, 36091, 18814, 11980, 9985, 739, 7569, 11510, 12711, 7700, 16816, 18855, 12102, 9122, 8046, 25856, 6947, 6824, 12916, 22870, 7172, 9596, 43045, 9242, 8194, 9136, 739, 7505, 7239, 6889, 9019, 14364, 9640, 17653, 7177, 19588, 9129, 7669, 9329, 9019, 8133, 7890, 6824, 49053, 9329, 50521, 41719, 8006, 25856, 8704, 9860, 18814, 9135, 10243, 40463, 27196, 19202, 33400, 9927, 24310, 7401, 24692, 9027, 10123, 9427, 27762, 7182, 8244, 35971, 9135, 8718, 8263, 25856, 8084, 8194, 9136, 16997, 9022, 11271, 30385, 9075, 9036, 9860, 11132, 12422, 12102, 15008, 15384, 10648, 8234, 389, 11686, 9871, 9427, 12422, 10788, 41559, 739, 7314, 25779, 11106, 8006, 25856, 680, 8187, 26915, 16309, 12024, 7162, 9042, 16053, 9172, 7239, 10389, 7669, 10583, 9042, 15316, 12934, 16728, 17122, 18457, 38819, 11941, 7621, 18954, 9122, 18961, 1, 1, 1, 1, 1, 1, 1, 1, 1, 1, 1, 1, 1, 1, 1, 1, 1, 1, 1, 1, 1, 1, 1, 1, 1, 1, 1, 1, 1, 1, 1, 1, 1, 1, 1, 1, 1, 1, 1, 1, 1, 1, 1, 1, 1, 1, 1, 1, 1, 1, 1, 1, 1, 1, 1, 1, 1, 1, 1, 1, 1, 1, 1, 1, 1, 1, 1, 1, 1, 1, 1, 1, 1, 1, 1, 1, 1, 1, 1, 1, 1, 1, 1, 1, 1, 1, 1, 1, 1, 1, 1, 1, 1, 1, 1, 1, 1, 1, 1, 1, 1, 1, 1], attention_mask=[1, 1, 1, 1, 1, 1, 1, 1, 1, 1, 1, 1, 1, 1, 1, 1, 1, 1, 1, 1, 1, 1, 1, 1, 1, 1, 1, 1, 1, 1, 1, 1, 1, 1, 1, 1, 1, 1, 1, 1, 1, 1, 1, 1, 1, 1, 1, 1, 1, 1, 1, 1, 1, 1, 1, 1, 1, 1, 1, 1, 1, 1, 1, 1, 1, 1, 1, 1, 1, 1, 1, 1, 1, 1, 1, 1, 1, 1, 1, 1, 1, 1, 1, 1, 1, 1, 1, 1, 1, 1, 1, 1, 1, 1, 1, 1, 1, 1, 1, 1, 1, 1, 1, 1, 1, 1, 1, 1, 1, 1, 1, 1, 1, 1, 1, 1, 1, 1, 1, 1, 1, 1, 1, 1, 1, 1, 1, 1, 1, 1, 1, 1, 1, 1, 1, 1, 1, 1, 1, 1, 1, 1, 1, 1, 1, 1, 1, 1, 1, 1, 1, 1, 1, 1, 1, 1, 1, 1, 1, 1, 1, 1, 1, 1, 1, 1, 1, 1, 1, 1, 1, 1, 1, 1, 1, 1, 1, 1, 1, 1, 1, 1, 1, 1, 1, 1, 1, 1, 1, 1, 1, 1, 1, 1, 1, 1, 1, 1, 1, 1, 1, 1, 1, 1, 1, 1, 1, 1, 1, 1, 1, 1, 1, 1, 1, 1, 1, 1, 1, 1, 1, 1, 1, 1, 1, 1, 1, 1, 1, 1, 1, 1, 1, 1, 1, 1, 1, 1, 1, 1, 1, 1, 1, 1, 1, 1, 1, 1, 1, 1, 1, 1, 1, 1, 1, 1, 1, 1, 1, 1, 1, 1, 1, 1, 1, 1, 1, 1, 1, 1, 1, 1, 1, 1, 1, 1, 1, 1, 1, 1, 1, 1, 1, 1, 1, 1, 1, 1, 1, 1, 1, 1, 1, 1, 1, 1, 1, 0, 0, 0, 0, 0, 0, 0, 0, 0, 0, 0, 0, 0, 0, 0, 0, 0, 0, 0, 0, 0, 0, 0, 0, 0, 0, 0, 0, 0, 0, 0, 0, 0, 0, 0, 0, 0, 0, 0, 0, 0, 0, 0, 0, 0, 0, 0, 0, 0, 0, 0, 0, 0, 0, 0, 0, 0, 0, 0, 0, 0, 0, 0, 0, 0, 0, 0, 0, 0, 0, 0, 0, 0, 0, 0, 0, 0, 0, 0, 0, 0, 0, 0, 0, 0, 0, 0, 0, 0, 0, 0, 0, 0, 0, 0, 0, 0, 0, 0, 0, 0, 0, 0], token_type_ids=[0, 0, 0, 0, 0, 0, 0, 0, 0, 0, 0, 0, 0, 0, 0, 0, 0, 0, 0, 0, 0, 0, 0, 0, 0, 0, 0, 0, 0, 0, 0, 0, 0, 0, 0, 0, 0, 0, 0, 0, 0, 0, 0, 0, 0, 0, 0, 0, 0, 0, 0, 0, 0, 0, 0, 0, 0, 0, 0, 0, 0, 0, 0, 0, 0, 0, 0, 0, 0, 0, 0, 0, 0, 0, 0, 0, 0, 0, 0, 0, 0, 0, 0, 0, 0, 0, 0, 0, 0, 0, 0, 0, 0, 0, 0, 0, 0, 0, 0, 0, 0, 0, 0, 0, 0, 0, 0, 0, 0, 0, 0, 0, 0, 0, 0, 0, 0, 0, 0, 0, 0, 0, 0, 0, 0, 0, 0, 0, 0, 0, 0, 0, 0, 0, 0, 0, 0, 0, 0, 0, 0, 0, 0, 0, 0, 0, 0, 0, 0, 0, 0, 0, 0, 0, 0, 0, 0, 0, 0, 0, 0, 0, 0, 0, 0, 0, 0, 0, 0, 0, 0, 0, 0, 0, 0, 0, 0, 0, 0, 0, 0, 0, 0, 0, 0, 0, 0, 0, 0, 0, 0, 0, 0, 0, 0, 0, 0, 0, 0, 0, 0, 0, 0, 0, 0, 0, 0, 0, 0, 0, 0, 0, 0, 0, 0, 0, 0, 0, 0, 0, 0, 0, 0, 0, 0, 0, 0, 0, 0, 0, 0, 0, 0, 0, 0, 0, 0, 0, 0, 0, 0, 0, 0, 0, 0, 0, 0, 0, 0, 0, 0, 0, 0, 0, 0, 0, 0, 0, 0, 0, 0, 0, 0, 0, 0, 0, 0, 0, 0, 0, 0, 0, 0, 0, 0, 0, 0, 0, 0, 0, 0, 0, 0, 0, 0, 0, 0, 0, 0, 0, 0, 0, 0, 0, 0, 0, 0, 0, 0, 0, 0, 0, 0, 0, 0, 0, 0, 0, 0, 0, 0, 0, 0, 0, 0, 0, 0, 0, 0, 0, 0, 0, 0, 0, 0, 0, 0, 0, 0, 0, 0, 0, 0, 0, 0, 0, 0, 0, 0, 0, 0, 0, 0, 0, 0, 0, 0, 0, 0, 0, 0, 0, 0, 0, 0, 0, 0, 0, 0, 0, 0, 0, 0, 0, 0, 0, 0, 0, 0, 0, 0, 0, 0, 0, 0, 0, 0, 0, 0, 0, 0, 0, 0, 0, 0, 0, 0, 0, 0, 0, 0, 0, 0, 0, 0, 0, 0, 0, 0, 0], labels=[11403, 9036, 9860, 9117, 6919, 23776, 9745, 9127, 7497, 9989, 10158, 8017, 8263, 13704, 29205, 9273, 8146, 9677, 7978, 8006, 13704, 18592, 7532, 9117, 6919, 13761, 42506, 10788, 6834, 8137, 9068, 28388, 9038, 9427, 11615, 8210, 31204, 25856, 12957, 9402, 9036, 11001, 12814, 9414, 10846, 26970, 10480, 12502, 16787, 9135, 23928, 9122, 8046, 25856, 11686, 9022, 6855, 9022, 6853, 6889, 22891, 9018, 6853, 9075, 9095, 33785, 9018, 11404, 10188, 16206, 11649, 9427, 9027, 10123, 30148, 7185, 9135, 14668, 13704, 11403, 9871, 9754, 7788, 26763, 6828, 16144, 16130, 20289, 11853, 9305, 7426, 20438, 8718, 8006, 25856, 683, 8194, 7492, 9212, 7966, 10681, 684, 32555, 9871, 9749, 8166, 14504, 9135, 8718, 8006, 25856, 22137, 7397, 7182, 18664, 9054, 11219, 6872, 8006, 12428, 6947, 6824, 37619, 17077, 14364, 16728, 15389, 16898, 9816, 9022, 9836, 35286, 9427, 10956, 17828, 36091, 9769, 9711, 6824, 16549, 8022, 18593, 9816, 27510, 15584, 9515, 7282, 9466, 9080, 10137, 9320, 6872, 8006, 25856, 19561, 7788, 9036, 11001, 9022, 6857, 11343, 7071, 9745, 16549, 8022, 10982, 8094, 9536, 33690, 7978, 36091, 18814, 11980, 9985, 739, 7569, 11510, 12711, 7700, 16816, 18855, 12102, 9122, 8046, 25856, 6947, 6824, 12916, 22870, 7172, 9596, 43045, 9242, 8194, 9136, 739, 7505, 7239, 6889, 9019, 14364, 9640, 17653, 7177, 19588, 9129, 7669, 9329, 9019, 8133, 7890, 6824, 49053, 9329, 50521, 41719, 8006, 25856, 8704, 9860, 18814, 9135, 10243, 40463, 27196, 19202, 33400, 9927, 24310, 7401, 24692, 9027, 10123, 9427, 27762, 7182, 8244, 35971, 9135, 8718, 8263, 25856, 8084, 8194, 9136, 16997, 9022, 11271, 30385, 9075, 9036, 9860, 11132, 12422, 12102, 15008, 15384, 10648, 8234, 389, 11686, 9871, 9427, 12422, 10788, 41559, 739, 7314, 25779, 11106, 8006, 25856, 680, 8187, 26915, 16309, 12024, 7162, 9042, 16053, 9172, 7239, 10389, 7669, 10583, 9042, 15316, 12934, 16728, 17122, 18457, 38819, 11941, 7621, 18954, 9122, 18961, 1, 1, 1, 1, 1, 1, 1, 1, 1, 1, 1, 1, 1, 1, 1, 1, 1, 1, 1, 1, 1, 1, 1, 1, 1, 1, 1, 1, 1, 1, 1, 1, 1, 1, 1, 1, 1, 1, 1, 1, 1, 1, 1, 1, 1, 1, 1, 1, 1, 1, 1, 1, 1, 1, 1, 1, 1, 1, 1, 1, 1, 1, 1, 1, 1, 1, 1, 1, 1, 1, 1, 1, 1, 1, 1, 1, 1, 1, 1, 1, 1, 1, 1, 1, 1, 1, 1, 1, 1, 1, 1, 1, 1, 1, 1, 1, 1, 1, 1, 1, 1, 1, 1])\n",
            "*** Example ***\n",
            "sentence : 하지만 한스는 반지를 돌려 그들이 어디로 갔는지 요정들에게 물었어요.  “그들은 바다 위에 있어요.”한스는 한 번도 쉬지 않고 달리고 또 달려 마침내 해안가에 도착했어요.거기서 보니 바다 저 멀리, 멀리에 신의 없는 자신의 동료들이 작은 배에 앉아 있는 게 보였어요.순간 ‘빡이 돈’ 한스가 자신이 무얼 하려는지도 모른 채 성큼 앞으로 내딛다 그만 손에 무거운 방망이를 쥔 채 물 속에 풍덩 빠지고 말아, 헤엄을 치기 시작했지만 50킬로그램짜리 방망이 때문에 점점 물속으로 가라앉아 잘못하다간 물에 빠져 죽게 생겼어요.그 위기일발의 순간에 그가 반지를 돌리는데 성공했어요, 그 즉시 허공에 요정들이 나타나 그를 붙들고서 마치 제비처럼 가볍게 그 배에다 내려다주었어요.한스가 자신의 방망이를 휘둘러 사악한 동료들에게 마땅한 응보를 치르게 하곤 그들을 물속에 처박아버렸어요.그런 다음 그는 아름다운 아가씨와 항해를 했답니다. 물론 아가씨가 무척이나 놀란 상태였긴 했지만요.그는 두 번씩이나 구한 그녀를 그녀의 아빠 엄마가 계신 집으로 데려다주었지요.거기서 그는 그녀와 결혼식을 올렸고, 그래서 모두들 대단히 기뻐하였답니다.\n",
            "\n",
            "tokens : ▁하지만 ▁한 스는 ▁반 지를 ▁돌려 ▁그들이 ▁어디로 ▁갔 는지 ▁요 정 들에게 ▁물 었 어 요. ▁ ▁“그 들은 ▁바다 ▁위에 ▁있어 요.” 한 스는 ▁한 ▁번도 ▁쉬 지 ▁않고 ▁달리고 ▁또 ▁달려 ▁마침내 ▁해안 가에 ▁도착 했 어 요. 거 기서 ▁보니 ▁바다 ▁저 ▁멀 리, ▁멀 리에 ▁신의 ▁없는 ▁자신의 ▁동료 들이 ▁작은 ▁배에 ▁앉아 ▁있는 ▁게 ▁보 였 어 요. 순 간 ▁‘ 빡 이 ▁돈 ’ ▁한 스가 ▁자신이 ▁무 얼 ▁하려는 지도 ▁모른 ▁채 ▁성 큼 ▁앞으로 ▁내 딛 다 ▁그만 ▁손에 ▁무거운 ▁방 망 이를 ▁ 쥔 ▁채 ▁물 ▁속에 ▁풍 덩 ▁빠지고 ▁말 아, ▁헤엄 을 ▁치 기 ▁시작 했지만 ▁50 킬로 그램 짜리 ▁방 망이 ▁때문에 ▁점점 ▁물 속으로 ▁가라앉 아 ▁잘못 하다 간 ▁물에 ▁빠져 ▁죽게 ▁생겼 어 요. 그 ▁위기 일 발의 ▁순 간에 ▁그가 ▁반 지를 ▁돌리는 데 ▁성공 했 어 요, ▁그 ▁즉시 ▁허 공에 ▁요 정 들이 ▁나타나 ▁그를 ▁붙 들고 서 ▁마치 ▁제비 처럼 ▁가볍게 ▁그 ▁배에 다 ▁내려다 주 었 어 요. 한 스가 ▁자신의 ▁방 망 이를 ▁휘 둘 러 ▁사 악한 ▁동료 들에게 ▁마땅 한 ▁응 보를 ▁치 르게 ▁하 곤 ▁그들을 ▁물속에 ▁처 박 아버 렸 어 요. 그 런 ▁다음 ▁그는 ▁아름다운 ▁아가 씨와 ▁항 해를 ▁했 답 니다. ▁물론 ▁아가 씨가 ▁무척 이나 ▁놀란 ▁상태 였 긴 ▁했지만 요. 그는 ▁두 ▁번씩 이나 ▁구한 ▁그녀를 ▁그녀의 ▁아 빠 ▁엄 마가 ▁계 신 ▁집으로 ▁데려 다 주 었 지 요. 거 기서 ▁그는 ▁그녀 와 ▁결혼 식을 ▁올 렸고, ▁그래서 ▁모두 들 ▁대단히 ▁기뻐 하였 답니다.\n",
            " </s> </s> </s> </s> </s> </s> </s> </s> </s> </s> </s> </s> </s> </s> </s> </s> </s> </s> </s> </s> </s> </s> </s> </s> </s> </s> </s> </s> </s> </s> </s> </s> </s> </s> </s> </s> </s> </s> </s> </s> </s> </s> </s> </s> </s> </s> </s> </s> </s> </s> </s> </s> </s> </s> </s> </s> </s> </s> </s> </s> </s> </s> </s> </s> </s> </s> </s> </s> </s> </s> </s> </s> </s> </s> </s> </s> </s> </s> </s> </s> </s> </s> </s> </s> </s> </s> </s> </s> </s> </s> </s> </s> </s> </s> </s> </s> </s> </s> </s> </s> </s> </s> </s> </s> </s> </s> </s> </s> </s> </s> </s> </s> </s> </s> </s> </s> </s> </s> </s> </s> </s> </s> </s> </s> </s> </s> </s> </s> </s> </s> </s> </s> </s> </s> </s> </s> </s> </s> </s> </s> </s> </s> </s> </s>\n",
            "features : GenerationFeatures(input_ids=[10351, 9036, 9860, 9138, 9439, 13562, 14121, 42076, 13243, 15433, 9242, 8194, 9717, 9169, 8017, 8006, 25856, 739, 24310, 9177, 11099, 9985, 9341, 42329, 8704, 9860, 9036, 39749, 12503, 8263, 9801, 33965, 9108, 12476, 12378, 10513, 11896, 13176, 8718, 8006, 25856, 6853, 20881, 17272, 11099, 9265, 11781, 10461, 11781, 9556, 13436, 9712, 9745, 15357, 9136, 9836, 27090, 16898, 9080, 10137, 9049, 8041, 8006, 25856, 7849, 6826, 9172, 7704, 8146, 10855, 681, 9036, 11001, 11132, 9118, 8011, 30645, 10978, 23419, 9395, 9096, 8508, 12634, 9094, 7296, 7182, 16299, 17495, 19449, 9127, 7497, 9989, 739, 8248, 9395, 9169, 10671, 9486, 7217, 40484, 9135, 18903, 38057, 8137, 9407, 6958, 9347, 12357, 10759, 23656, 10952, 25330, 9127, 17416, 9355, 12687, 9169, 21879, 21859, 7965, 12222, 34705, 6826, 12729, 13367, 29275, 16157, 8006, 25856, 6947, 21622, 8149, 28670, 9470, 10476, 9871, 9138, 9439, 47131, 7220, 10363, 8718, 8006, 13704, 9022, 16997, 9596, 43045, 9242, 8194, 9136, 9812, 10644, 9808, 22403, 7788, 12627, 40895, 9582, 28112, 9022, 27090, 7182, 44386, 8236, 8017, 8006, 25856, 8704, 11001, 9745, 9127, 7497, 9989, 11174, 7261, 7397, 9024, 20962, 15357, 9717, 23179, 8704, 10223, 13500, 9407, 11185, 9078, 6891, 16874, 43306, 9288, 7597, 11751, 7422, 8006, 25856, 6947, 7399, 9536, 9258, 12934, 16728, 25671, 9408, 10572, 9651, 7192, 12521, 10769, 16728, 15389, 22118, 9185, 45330, 10008, 8041, 6960, 17102, 25856, 27914, 9174, 25940, 9185, 30641, 20538, 13511, 9050, 7703, 10287, 16686, 9142, 7890, 19098, 27762, 7182, 8236, 8017, 8263, 25856, 6853, 20881, 9258, 10432, 8066, 10715, 9562, 9456, 20484, 11403, 9432, 7285, 19140, 24683, 9057, 19826, 1, 1, 1, 1, 1, 1, 1, 1, 1, 1, 1, 1, 1, 1, 1, 1, 1, 1, 1, 1, 1, 1, 1, 1, 1, 1, 1, 1, 1, 1, 1, 1, 1, 1, 1, 1, 1, 1, 1, 1, 1, 1, 1, 1, 1, 1, 1, 1, 1, 1, 1, 1, 1, 1, 1, 1, 1, 1, 1, 1, 1, 1, 1, 1, 1, 1, 1, 1, 1, 1, 1, 1, 1, 1, 1, 1, 1, 1, 1, 1, 1, 1, 1, 1, 1, 1, 1, 1, 1, 1, 1, 1, 1, 1, 1, 1, 1, 1, 1, 1, 1, 1, 1, 1, 1, 1, 1, 1, 1, 1, 1, 1, 1, 1, 1, 1, 1, 1, 1, 1, 1, 1, 1, 1, 1, 1, 1, 1, 1, 1, 1, 1, 1, 1, 1, 1, 1, 1, 1, 1, 1, 1, 1, 1], attention_mask=[1, 1, 1, 1, 1, 1, 1, 1, 1, 1, 1, 1, 1, 1, 1, 1, 1, 1, 1, 1, 1, 1, 1, 1, 1, 1, 1, 1, 1, 1, 1, 1, 1, 1, 1, 1, 1, 1, 1, 1, 1, 1, 1, 1, 1, 1, 1, 1, 1, 1, 1, 1, 1, 1, 1, 1, 1, 1, 1, 1, 1, 1, 1, 1, 1, 1, 1, 1, 1, 1, 1, 1, 1, 1, 1, 1, 1, 1, 1, 1, 1, 1, 1, 1, 1, 1, 1, 1, 1, 1, 1, 1, 1, 1, 1, 1, 1, 1, 1, 1, 1, 1, 1, 1, 1, 1, 1, 1, 1, 1, 1, 1, 1, 1, 1, 1, 1, 1, 1, 1, 1, 1, 1, 1, 1, 1, 1, 1, 1, 1, 1, 1, 1, 1, 1, 1, 1, 1, 1, 1, 1, 1, 1, 1, 1, 1, 1, 1, 1, 1, 1, 1, 1, 1, 1, 1, 1, 1, 1, 1, 1, 1, 1, 1, 1, 1, 1, 1, 1, 1, 1, 1, 1, 1, 1, 1, 1, 1, 1, 1, 1, 1, 1, 1, 1, 1, 1, 1, 1, 1, 1, 1, 1, 1, 1, 1, 1, 1, 1, 1, 1, 1, 1, 1, 1, 1, 1, 1, 1, 1, 1, 1, 1, 1, 1, 1, 1, 1, 1, 1, 1, 1, 1, 1, 1, 1, 1, 1, 1, 1, 1, 1, 1, 1, 1, 1, 1, 1, 1, 1, 1, 1, 1, 1, 1, 1, 1, 1, 1, 1, 1, 1, 1, 1, 1, 1, 0, 0, 0, 0, 0, 0, 0, 0, 0, 0, 0, 0, 0, 0, 0, 0, 0, 0, 0, 0, 0, 0, 0, 0, 0, 0, 0, 0, 0, 0, 0, 0, 0, 0, 0, 0, 0, 0, 0, 0, 0, 0, 0, 0, 0, 0, 0, 0, 0, 0, 0, 0, 0, 0, 0, 0, 0, 0, 0, 0, 0, 0, 0, 0, 0, 0, 0, 0, 0, 0, 0, 0, 0, 0, 0, 0, 0, 0, 0, 0, 0, 0, 0, 0, 0, 0, 0, 0, 0, 0, 0, 0, 0, 0, 0, 0, 0, 0, 0, 0, 0, 0, 0, 0, 0, 0, 0, 0, 0, 0, 0, 0, 0, 0, 0, 0, 0, 0, 0, 0, 0, 0, 0, 0, 0, 0, 0, 0, 0, 0, 0, 0, 0, 0, 0, 0, 0, 0, 0, 0, 0, 0, 0, 0], token_type_ids=[0, 0, 0, 0, 0, 0, 0, 0, 0, 0, 0, 0, 0, 0, 0, 0, 0, 0, 0, 0, 0, 0, 0, 0, 0, 0, 0, 0, 0, 0, 0, 0, 0, 0, 0, 0, 0, 0, 0, 0, 0, 0, 0, 0, 0, 0, 0, 0, 0, 0, 0, 0, 0, 0, 0, 0, 0, 0, 0, 0, 0, 0, 0, 0, 0, 0, 0, 0, 0, 0, 0, 0, 0, 0, 0, 0, 0, 0, 0, 0, 0, 0, 0, 0, 0, 0, 0, 0, 0, 0, 0, 0, 0, 0, 0, 0, 0, 0, 0, 0, 0, 0, 0, 0, 0, 0, 0, 0, 0, 0, 0, 0, 0, 0, 0, 0, 0, 0, 0, 0, 0, 0, 0, 0, 0, 0, 0, 0, 0, 0, 0, 0, 0, 0, 0, 0, 0, 0, 0, 0, 0, 0, 0, 0, 0, 0, 0, 0, 0, 0, 0, 0, 0, 0, 0, 0, 0, 0, 0, 0, 0, 0, 0, 0, 0, 0, 0, 0, 0, 0, 0, 0, 0, 0, 0, 0, 0, 0, 0, 0, 0, 0, 0, 0, 0, 0, 0, 0, 0, 0, 0, 0, 0, 0, 0, 0, 0, 0, 0, 0, 0, 0, 0, 0, 0, 0, 0, 0, 0, 0, 0, 0, 0, 0, 0, 0, 0, 0, 0, 0, 0, 0, 0, 0, 0, 0, 0, 0, 0, 0, 0, 0, 0, 0, 0, 0, 0, 0, 0, 0, 0, 0, 0, 0, 0, 0, 0, 0, 0, 0, 0, 0, 0, 0, 0, 0, 0, 0, 0, 0, 0, 0, 0, 0, 0, 0, 0, 0, 0, 0, 0, 0, 0, 0, 0, 0, 0, 0, 0, 0, 0, 0, 0, 0, 0, 0, 0, 0, 0, 0, 0, 0, 0, 0, 0, 0, 0, 0, 0, 0, 0, 0, 0, 0, 0, 0, 0, 0, 0, 0, 0, 0, 0, 0, 0, 0, 0, 0, 0, 0, 0, 0, 0, 0, 0, 0, 0, 0, 0, 0, 0, 0, 0, 0, 0, 0, 0, 0, 0, 0, 0, 0, 0, 0, 0, 0, 0, 0, 0, 0, 0, 0, 0, 0, 0, 0, 0, 0, 0, 0, 0, 0, 0, 0, 0, 0, 0, 0, 0, 0, 0, 0, 0, 0, 0, 0, 0, 0, 0, 0, 0, 0, 0, 0, 0, 0, 0, 0, 0, 0, 0, 0, 0, 0, 0, 0, 0, 0, 0, 0], labels=[10351, 9036, 9860, 9138, 9439, 13562, 14121, 42076, 13243, 15433, 9242, 8194, 9717, 9169, 8017, 8006, 25856, 739, 24310, 9177, 11099, 9985, 9341, 42329, 8704, 9860, 9036, 39749, 12503, 8263, 9801, 33965, 9108, 12476, 12378, 10513, 11896, 13176, 8718, 8006, 25856, 6853, 20881, 17272, 11099, 9265, 11781, 10461, 11781, 9556, 13436, 9712, 9745, 15357, 9136, 9836, 27090, 16898, 9080, 10137, 9049, 8041, 8006, 25856, 7849, 6826, 9172, 7704, 8146, 10855, 681, 9036, 11001, 11132, 9118, 8011, 30645, 10978, 23419, 9395, 9096, 8508, 12634, 9094, 7296, 7182, 16299, 17495, 19449, 9127, 7497, 9989, 739, 8248, 9395, 9169, 10671, 9486, 7217, 40484, 9135, 18903, 38057, 8137, 9407, 6958, 9347, 12357, 10759, 23656, 10952, 25330, 9127, 17416, 9355, 12687, 9169, 21879, 21859, 7965, 12222, 34705, 6826, 12729, 13367, 29275, 16157, 8006, 25856, 6947, 21622, 8149, 28670, 9470, 10476, 9871, 9138, 9439, 47131, 7220, 10363, 8718, 8006, 13704, 9022, 16997, 9596, 43045, 9242, 8194, 9136, 9812, 10644, 9808, 22403, 7788, 12627, 40895, 9582, 28112, 9022, 27090, 7182, 44386, 8236, 8017, 8006, 25856, 8704, 11001, 9745, 9127, 7497, 9989, 11174, 7261, 7397, 9024, 20962, 15357, 9717, 23179, 8704, 10223, 13500, 9407, 11185, 9078, 6891, 16874, 43306, 9288, 7597, 11751, 7422, 8006, 25856, 6947, 7399, 9536, 9258, 12934, 16728, 25671, 9408, 10572, 9651, 7192, 12521, 10769, 16728, 15389, 22118, 9185, 45330, 10008, 8041, 6960, 17102, 25856, 27914, 9174, 25940, 9185, 30641, 20538, 13511, 9050, 7703, 10287, 16686, 9142, 7890, 19098, 27762, 7182, 8236, 8017, 8263, 25856, 6853, 20881, 9258, 10432, 8066, 10715, 9562, 9456, 20484, 11403, 9432, 7285, 19140, 24683, 9057, 19826, 1, 1, 1, 1, 1, 1, 1, 1, 1, 1, 1, 1, 1, 1, 1, 1, 1, 1, 1, 1, 1, 1, 1, 1, 1, 1, 1, 1, 1, 1, 1, 1, 1, 1, 1, 1, 1, 1, 1, 1, 1, 1, 1, 1, 1, 1, 1, 1, 1, 1, 1, 1, 1, 1, 1, 1, 1, 1, 1, 1, 1, 1, 1, 1, 1, 1, 1, 1, 1, 1, 1, 1, 1, 1, 1, 1, 1, 1, 1, 1, 1, 1, 1, 1, 1, 1, 1, 1, 1, 1, 1, 1, 1, 1, 1, 1, 1, 1, 1, 1, 1, 1, 1, 1, 1, 1, 1, 1, 1, 1, 1, 1, 1, 1, 1, 1, 1, 1, 1, 1, 1, 1, 1, 1, 1, 1, 1, 1, 1, 1, 1, 1, 1, 1, 1, 1, 1, 1, 1, 1, 1, 1, 1, 1])\n",
            "*** Example ***\n",
            "sentence : 옛날 옛적에 비록 가난하지만 신앙심이 깊던 농부가 죽어, 천국의 문 앞에 도착했어요. 그와 동시에 아주 살찌고 부자였던 ‘영주’ 또한 거기 도착해 천국에 들어가길 소망하고 있었지요.그런 다음 성 베드로께서 열쇠를 가지고 오시더니 문을 열고 그 ‘권세자’를 안으로 들여보내주었어요.하지만 성 베드로께서는 농부는 언뜻 못 보신 듯 문을 그냥 다시 닫아버리셨지요.그리하여 농부가 밖에 서 있는데, 천국 안에서 방금 들어갔던 권세자를 맞이하는 온갖 종류의 환호성들과 음악과 노래 소리가 한가득 들리지 뭐예요.마침내 소란도 다시 잠잠해지자, 성 베드로께서 다시 오시더니 천국의 문을 열고 그 농부도 안으로 들여보내주었어요.자신이 들어갈 때도 아까 그 부자와 마찬가지로 음악과 노래 소리가 있을 거라 기대했던 농부였지만, 막상 들어가 보니 천국 안은 그냥 너무도 차분하고 조용한 거예요.물론 그 농부도 애정이 듬뿍 담긴 마중을 받긴 받았어요, 천사들이 나와 그를 맞이해주었으니까요. 하지만 아무도 노래는 부르지 않았지요.그래서 그 농부가 성 베드로에게 “왜 부자가 들어올 때 해주었듯, 제게도 노래를 불러주시지 않는 건가요? 애정이 치우침은 지상에서나 천국에서나 똑같은 거 같아요.”라고 여쭈었어요.그러자 성 베드로께서 말씀하시길,“아닐세, 자네도 어느 누구 못지않게 우리들이 사랑한다네. 다만 부자가 천국에 오는 경우는 백년에 한 번 있을까 말까 한데 방금 그 부자가 그 경우였다네, 하지만 자네같이 가난한 자가 천국에 오는 경우는 늘 상 있는 일이란 말이지!”\n",
            "\n",
            "tokens : ▁옛날 ▁옛 적에 ▁비록 ▁가난 하지만 ▁신앙 심이 ▁깊 던 ▁농 부가 ▁죽 어, ▁천 국의 ▁문 ▁앞에 ▁도착 했 어 요. ▁그와 ▁동시에 ▁아주 ▁살 찌 고 ▁부 자였던 ▁‘영 주 ’ ▁또한 ▁거기 ▁도착 해 ▁천 국에 ▁들어가 길 ▁소 망 하고 ▁있었 지 요. 그 런 ▁다음 ▁성 ▁베 드로 께서 ▁열쇠 를 ▁가지고 ▁오 시 더니 ▁문을 ▁열고 ▁그 ▁‘ 권 세자 ’를 ▁안으로 ▁들여 보내 주 었 어 요. 하지만 ▁성 ▁베 드로 께서는 ▁농 부는 ▁언 뜻 ▁못 ▁보 신 ▁듯 ▁문을 ▁그냥 ▁다시 ▁닫 아버 리 셨 지 요. 그리 하여 ▁농 부가 ▁밖에 ▁서 ▁있는데, ▁천 국 ▁안에서 ▁방 금 ▁들어갔 던 ▁권 세 자를 ▁맞이 하는 ▁온갖 ▁종류의 ▁환 호 성 들과 ▁음악과 ▁노래 ▁소리가 ▁한가 득 ▁들 리지 ▁뭐 예 요. 마침 내 ▁소 란 도 ▁다시 ▁잠 잠 해지 자, ▁성 ▁베 드로 께서 ▁다시 ▁오 시 더니 ▁천 국의 ▁문을 ▁열고 ▁그 ▁농 부도 ▁안으로 ▁들여 보내 주 었 어 요. 자신이 ▁들어갈 ▁때도 ▁아 까 ▁그 ▁부 자와 ▁마찬가지로 ▁음악과 ▁노래 ▁소리가 ▁있을 ▁거 라 ▁기대 했던 ▁농부 였지만, ▁막 상 ▁들어가 ▁보니 ▁천 국 ▁안은 ▁그냥 ▁너무 도 ▁차 분 하고 ▁조용한 ▁거 예 요. 물 론 ▁그 ▁농 부도 ▁애 정이 ▁ 듬 뿍 ▁담긴 ▁마 중을 ▁받 긴 ▁받았 어 요, ▁천 사들이 ▁나와 ▁그를 ▁맞이 해주 었 으니 까 요. ▁하지만 ▁아무도 ▁노래는 ▁부르 지 ▁않았 지 요. 그래 서 ▁그 ▁농 부가 ▁성 ▁베 드로 에게 ▁“ 왜 ▁부자가 ▁들어올 ▁때 ▁해주 었 듯, ▁제 게도 ▁노래를 ▁불러 주 시 지 ▁않는 ▁건 가 요 ? ▁애 정이 ▁치우 침 은 ▁지 상에서 나 ▁천 국에서 나 ▁똑같은 ▁거 ▁같아 요 .”라고 ▁여 쭈 었 어 요. 그러 자 ▁성 ▁베 드로 께서 ▁말씀 하시 길, “ 아 닐 세, ▁자 네 도 ▁어느 ▁누구 ▁못지않게 ▁우리 들이 ▁사랑 한다 네. ▁다만 ▁부자가 ▁천 국에 ▁오는 ▁경우는 ▁백 년에 ▁한 ▁번 ▁있을 까 ▁말 까 ▁한데 ▁방 금 ▁그 ▁부자가 ▁그 ▁경우 였 다 네 , ▁하지만 ▁자 네 같이 ▁가난한 ▁자가 ▁천 국에 ▁오는 ▁경우는 ▁늘 ▁상 ▁있는 ▁일 이란 ▁말 이지 !” \n",
            " </s> </s> </s> </s> </s> </s> </s> </s> </s> </s> </s> </s> </s> </s> </s> </s> </s> </s> </s> </s> </s> </s> </s> </s> </s> </s> </s> </s> </s> </s> </s> </s> </s> </s> </s> </s> </s> </s> </s> </s> </s> </s> </s> </s> </s> </s> </s>\n",
            "features : GenerationFeatures(input_ids=[12346, 10256, 16871, 12707, 13655, 11686, 11462, 13922, 9958, 7210, 9281, 10233, 9393, 12481, 9345, 9365, 9089, 12528, 13176, 8718, 8006, 25856, 13967, 10408, 11445, 9339, 8326, 6889, 9064, 22094, 33937, 8236, 681, 9322, 41732, 13176, 8711, 9345, 12679, 10956, 6962, 9077, 7497, 9038, 9414, 8263, 25856, 6947, 7399, 9536, 9096, 9538, 12801, 23916, 29806, 7470, 9887, 9114, 7888, 18952, 16012, 20759, 9022, 9172, 6932, 42299, 13439, 18098, 15994, 42281, 8236, 8017, 8006, 25856, 11686, 9096, 9538, 12801, 43057, 9281, 10101, 9527, 7359, 9350, 9049, 7890, 10652, 16012, 25689, 9427, 17732, 11751, 7478, 7816, 8263, 25856, 22506, 9047, 9281, 10233, 11372, 9071, 9859, 9345, 6920, 13938, 9127, 6953, 17545, 7210, 9221, 7801, 9589, 15045, 9033, 18585, 12317, 9523, 8747, 7799, 9675, 29577, 10121, 18855, 19210, 7282, 9625, 11102, 46651, 8046, 25856, 35600, 7071, 9077, 7374, 7235, 9427, 10138, 8164, 12116, 9775, 9096, 9538, 12801, 23916, 9427, 9114, 7888, 18952, 9345, 9365, 16012, 20759, 9022, 9281, 20415, 18098, 15994, 42281, 8236, 8017, 8006, 25856, 47898, 23841, 16327, 9050, 6969, 9022, 9064, 10155, 11966, 29577, 10121, 18855, 9846, 9122, 7372, 13493, 9850, 29014, 27666, 9730, 7767, 10956, 17272, 9345, 6920, 39099, 25689, 12371, 7235, 9214, 7671, 9038, 45568, 9122, 8046, 25856, 7561, 7428, 9022, 9281, 20415, 9831, 10393, 739, 7287, 7742, 21831, 9109, 17049, 9165, 6960, 10648, 8006, 13704, 9345, 28918, 12964, 10644, 15045, 15084, 8017, 13083, 6969, 25856, 10351, 25779, 24471, 10645, 8263, 10171, 8263, 25856, 19561, 7788, 9022, 9281, 10233, 9096, 9538, 12801, 9134, 9640, 8075, 40920, 35813, 9068, 17537, 8017, 50217, 9037, 28398, 16612, 12108, 8236, 7888, 8263, 9944, 9193, 6824, 8084, 406, 9831, 10393, 19103, 8425, 8135, 9027, 13887, 7055, 9345, 16055, 7055, 19628, 9122, 27511, 8084, 35971, 9093, 8316, 8017, 8006, 25856, 21319, 8159, 9096, 9538, 12801, 23916, 24117, 28944, 40777, 683, 7965, 7175, 19192, 9042, 7098, 7235, 10203, 14938, 43825, 9351, 9136, 10270, 10013, 25830, 11717, 40920, 9345, 12679, 14472, 11952, 9358, 9283, 9036, 9515, 9846, 6969, 9135, 6969, 20821, 9127, 6953, 9022, 40920, 9022, 9249, 8041, 7182, 7098, 387, 10351, 9042, 7098, 12790, 17230, 13337, 9345, 12679, 14472, 11952, 10061, 9074, 9080, 9043, 10479, 9135, 10415, 50075, 375, 1, 1, 1, 1, 1, 1, 1, 1, 1, 1, 1, 1, 1, 1, 1, 1, 1, 1, 1, 1, 1, 1, 1, 1, 1, 1, 1, 1, 1, 1, 1, 1, 1, 1, 1, 1, 1, 1, 1, 1, 1, 1, 1, 1, 1, 1, 1], attention_mask=[1, 1, 1, 1, 1, 1, 1, 1, 1, 1, 1, 1, 1, 1, 1, 1, 1, 1, 1, 1, 1, 1, 1, 1, 1, 1, 1, 1, 1, 1, 1, 1, 1, 1, 1, 1, 1, 1, 1, 1, 1, 1, 1, 1, 1, 1, 1, 1, 1, 1, 1, 1, 1, 1, 1, 1, 1, 1, 1, 1, 1, 1, 1, 1, 1, 1, 1, 1, 1, 1, 1, 1, 1, 1, 1, 1, 1, 1, 1, 1, 1, 1, 1, 1, 1, 1, 1, 1, 1, 1, 1, 1, 1, 1, 1, 1, 1, 1, 1, 1, 1, 1, 1, 1, 1, 1, 1, 1, 1, 1, 1, 1, 1, 1, 1, 1, 1, 1, 1, 1, 1, 1, 1, 1, 1, 1, 1, 1, 1, 1, 1, 1, 1, 1, 1, 1, 1, 1, 1, 1, 1, 1, 1, 1, 1, 1, 1, 1, 1, 1, 1, 1, 1, 1, 1, 1, 1, 1, 1, 1, 1, 1, 1, 1, 1, 1, 1, 1, 1, 1, 1, 1, 1, 1, 1, 1, 1, 1, 1, 1, 1, 1, 1, 1, 1, 1, 1, 1, 1, 1, 1, 1, 1, 1, 1, 1, 1, 1, 1, 1, 1, 1, 1, 1, 1, 1, 1, 1, 1, 1, 1, 1, 1, 1, 1, 1, 1, 1, 1, 1, 1, 1, 1, 1, 1, 1, 1, 1, 1, 1, 1, 1, 1, 1, 1, 1, 1, 1, 1, 1, 1, 1, 1, 1, 1, 1, 1, 1, 1, 1, 1, 1, 1, 1, 1, 1, 1, 1, 1, 1, 1, 1, 1, 1, 1, 1, 1, 1, 1, 1, 1, 1, 1, 1, 1, 1, 1, 1, 1, 1, 1, 1, 1, 1, 1, 1, 1, 1, 1, 1, 1, 1, 1, 1, 1, 1, 1, 1, 1, 1, 1, 1, 1, 1, 1, 1, 1, 1, 1, 1, 1, 1, 1, 1, 1, 1, 1, 1, 1, 1, 1, 1, 1, 1, 1, 1, 1, 1, 1, 1, 1, 1, 1, 1, 1, 1, 1, 1, 1, 1, 1, 1, 1, 1, 1, 1, 1, 1, 1, 1, 1, 1, 1, 0, 0, 0, 0, 0, 0, 0, 0, 0, 0, 0, 0, 0, 0, 0, 0, 0, 0, 0, 0, 0, 0, 0, 0, 0, 0, 0, 0, 0, 0, 0, 0, 0, 0, 0, 0, 0, 0, 0, 0, 0, 0, 0, 0, 0, 0, 0], token_type_ids=[0, 0, 0, 0, 0, 0, 0, 0, 0, 0, 0, 0, 0, 0, 0, 0, 0, 0, 0, 0, 0, 0, 0, 0, 0, 0, 0, 0, 0, 0, 0, 0, 0, 0, 0, 0, 0, 0, 0, 0, 0, 0, 0, 0, 0, 0, 0, 0, 0, 0, 0, 0, 0, 0, 0, 0, 0, 0, 0, 0, 0, 0, 0, 0, 0, 0, 0, 0, 0, 0, 0, 0, 0, 0, 0, 0, 0, 0, 0, 0, 0, 0, 0, 0, 0, 0, 0, 0, 0, 0, 0, 0, 0, 0, 0, 0, 0, 0, 0, 0, 0, 0, 0, 0, 0, 0, 0, 0, 0, 0, 0, 0, 0, 0, 0, 0, 0, 0, 0, 0, 0, 0, 0, 0, 0, 0, 0, 0, 0, 0, 0, 0, 0, 0, 0, 0, 0, 0, 0, 0, 0, 0, 0, 0, 0, 0, 0, 0, 0, 0, 0, 0, 0, 0, 0, 0, 0, 0, 0, 0, 0, 0, 0, 0, 0, 0, 0, 0, 0, 0, 0, 0, 0, 0, 0, 0, 0, 0, 0, 0, 0, 0, 0, 0, 0, 0, 0, 0, 0, 0, 0, 0, 0, 0, 0, 0, 0, 0, 0, 0, 0, 0, 0, 0, 0, 0, 0, 0, 0, 0, 0, 0, 0, 0, 0, 0, 0, 0, 0, 0, 0, 0, 0, 0, 0, 0, 0, 0, 0, 0, 0, 0, 0, 0, 0, 0, 0, 0, 0, 0, 0, 0, 0, 0, 0, 0, 0, 0, 0, 0, 0, 0, 0, 0, 0, 0, 0, 0, 0, 0, 0, 0, 0, 0, 0, 0, 0, 0, 0, 0, 0, 0, 0, 0, 0, 0, 0, 0, 0, 0, 0, 0, 0, 0, 0, 0, 0, 0, 0, 0, 0, 0, 0, 0, 0, 0, 0, 0, 0, 0, 0, 0, 0, 0, 0, 0, 0, 0, 0, 0, 0, 0, 0, 0, 0, 0, 0, 0, 0, 0, 0, 0, 0, 0, 0, 0, 0, 0, 0, 0, 0, 0, 0, 0, 0, 0, 0, 0, 0, 0, 0, 0, 0, 0, 0, 0, 0, 0, 0, 0, 0, 0, 0, 0, 0, 0, 0, 0, 0, 0, 0, 0, 0, 0, 0, 0, 0, 0, 0, 0, 0, 0, 0, 0, 0, 0, 0, 0, 0, 0, 0, 0, 0, 0, 0, 0, 0, 0, 0, 0, 0, 0, 0, 0, 0, 0, 0, 0, 0, 0], labels=[12346, 10256, 16871, 12707, 13655, 11686, 11462, 13922, 9958, 7210, 9281, 10233, 9393, 12481, 9345, 9365, 9089, 12528, 13176, 8718, 8006, 25856, 13967, 10408, 11445, 9339, 8326, 6889, 9064, 22094, 33937, 8236, 681, 9322, 41732, 13176, 8711, 9345, 12679, 10956, 6962, 9077, 7497, 9038, 9414, 8263, 25856, 6947, 7399, 9536, 9096, 9538, 12801, 23916, 29806, 7470, 9887, 9114, 7888, 18952, 16012, 20759, 9022, 9172, 6932, 42299, 13439, 18098, 15994, 42281, 8236, 8017, 8006, 25856, 11686, 9096, 9538, 12801, 43057, 9281, 10101, 9527, 7359, 9350, 9049, 7890, 10652, 16012, 25689, 9427, 17732, 11751, 7478, 7816, 8263, 25856, 22506, 9047, 9281, 10233, 11372, 9071, 9859, 9345, 6920, 13938, 9127, 6953, 17545, 7210, 9221, 7801, 9589, 15045, 9033, 18585, 12317, 9523, 8747, 7799, 9675, 29577, 10121, 18855, 19210, 7282, 9625, 11102, 46651, 8046, 25856, 35600, 7071, 9077, 7374, 7235, 9427, 10138, 8164, 12116, 9775, 9096, 9538, 12801, 23916, 9427, 9114, 7888, 18952, 9345, 9365, 16012, 20759, 9022, 9281, 20415, 18098, 15994, 42281, 8236, 8017, 8006, 25856, 47898, 23841, 16327, 9050, 6969, 9022, 9064, 10155, 11966, 29577, 10121, 18855, 9846, 9122, 7372, 13493, 9850, 29014, 27666, 9730, 7767, 10956, 17272, 9345, 6920, 39099, 25689, 12371, 7235, 9214, 7671, 9038, 45568, 9122, 8046, 25856, 7561, 7428, 9022, 9281, 20415, 9831, 10393, 739, 7287, 7742, 21831, 9109, 17049, 9165, 6960, 10648, 8006, 13704, 9345, 28918, 12964, 10644, 15045, 15084, 8017, 13083, 6969, 25856, 10351, 25779, 24471, 10645, 8263, 10171, 8263, 25856, 19561, 7788, 9022, 9281, 10233, 9096, 9538, 12801, 9134, 9640, 8075, 40920, 35813, 9068, 17537, 8017, 50217, 9037, 28398, 16612, 12108, 8236, 7888, 8263, 9944, 9193, 6824, 8084, 406, 9831, 10393, 19103, 8425, 8135, 9027, 13887, 7055, 9345, 16055, 7055, 19628, 9122, 27511, 8084, 35971, 9093, 8316, 8017, 8006, 25856, 21319, 8159, 9096, 9538, 12801, 23916, 24117, 28944, 40777, 683, 7965, 7175, 19192, 9042, 7098, 7235, 10203, 14938, 43825, 9351, 9136, 10270, 10013, 25830, 11717, 40920, 9345, 12679, 14472, 11952, 9358, 9283, 9036, 9515, 9846, 6969, 9135, 6969, 20821, 9127, 6953, 9022, 40920, 9022, 9249, 8041, 7182, 7098, 387, 10351, 9042, 7098, 12790, 17230, 13337, 9345, 12679, 14472, 11952, 10061, 9074, 9080, 9043, 10479, 9135, 10415, 50075, 375, 1, 1, 1, 1, 1, 1, 1, 1, 1, 1, 1, 1, 1, 1, 1, 1, 1, 1, 1, 1, 1, 1, 1, 1, 1, 1, 1, 1, 1, 1, 1, 1, 1, 1, 1, 1, 1, 1, 1, 1, 1, 1, 1, 1, 1, 1, 1])\n"
          ]
        }
      ]
    },
    {
      "cell_type": "code",
      "source": [
        "# DataLoader\n",
        "from torch.utils.data import DataLoader, RandomSampler, SequentialSampler\n",
        "train_dataloader = DataLoader(train_features,\n",
        "                              batch_size = args.batch_size,\n",
        "                              sampler = RandomSampler(train, replacement=False),\n",
        "                              collate_fn = data_collator,\n",
        "                              drop_last = False,\n",
        "                              num_workers = args.cpu_workers,)\n",
        "val_dataloader = DataLoader(valid_features, \n",
        "                            batch_size = args.batch_size,\n",
        "                            sampler = SequentialSampler(valid),\n",
        "                            collate_fn = data_collator,\n",
        "                            drop_last = True,\n",
        "                            num_workers = args.cpu_workers,)"
      ],
      "metadata": {
        "id": "_9-6k15wZIKV"
      },
      "execution_count": 15,
      "outputs": []
    },
    {
      "cell_type": "markdown",
      "source": [
        "### **모델 초기화**"
      ],
      "metadata": {
        "id": "fAa0QPD3P2VT"
      }
    },
    {
      "cell_type": "code",
      "source": [
        "# 모델 준비\n",
        "from transformers import GPT2LMHeadModel\n",
        "model = GPT2LMHeadModel.from_pretrained(\"skt/kogpt2-base-v2\")"
      ],
      "metadata": {
        "id": "LwCxOR3jP3px"
      },
      "execution_count": 16,
      "outputs": []
    },
    {
      "cell_type": "markdown",
      "source": [
        "### **파인 튜닝**"
      ],
      "metadata": {
        "id": "wRlBLOT9P5dq"
      }
    },
    {
      "cell_type": "code",
      "source": [
        "!pip install pytorch-lightning"
      ],
      "metadata": {
        "id": "ZMhYFJQUHpIk",
        "colab": {
          "base_uri": "https://localhost:8080/"
        },
        "outputId": "93a3ecbc-8bbf-42d7-fbda-8c4261229519"
      },
      "execution_count": 17,
      "outputs": [
        {
          "output_type": "stream",
          "name": "stdout",
          "text": [
            "Looking in indexes: https://pypi.org/simple, https://us-python.pkg.dev/colab-wheels/public/simple/\n",
            "Requirement already satisfied: pytorch-lightning in /usr/local/lib/python3.7/dist-packages (1.7.3)\n",
            "Requirement already satisfied: torchmetrics>=0.7.0 in /usr/local/lib/python3.7/dist-packages (from pytorch-lightning) (0.9.3)\n",
            "Requirement already satisfied: packaging>=17.0 in /usr/local/lib/python3.7/dist-packages (from pytorch-lightning) (21.3)\n",
            "Requirement already satisfied: numpy>=1.17.2 in /usr/local/lib/python3.7/dist-packages (from pytorch-lightning) (1.21.6)\n",
            "Requirement already satisfied: tqdm>=4.57.0 in /usr/local/lib/python3.7/dist-packages (from pytorch-lightning) (4.64.0)\n",
            "Requirement already satisfied: PyYAML>=5.4 in /usr/local/lib/python3.7/dist-packages (from pytorch-lightning) (6.0)\n",
            "Requirement already satisfied: torch>=1.9.* in /usr/local/lib/python3.7/dist-packages (from pytorch-lightning) (1.12.1+cu113)\n",
            "Requirement already satisfied: tensorboard>=2.9.1 in /usr/local/lib/python3.7/dist-packages (from pytorch-lightning) (2.10.0)\n",
            "Requirement already satisfied: typing-extensions>=4.0.0 in /usr/local/lib/python3.7/dist-packages (from pytorch-lightning) (4.1.1)\n",
            "Requirement already satisfied: pyDeprecate>=0.3.1 in /usr/local/lib/python3.7/dist-packages (from pytorch-lightning) (0.3.2)\n",
            "Requirement already satisfied: fsspec[http]!=2021.06.0,>=2021.05.0 in /usr/local/lib/python3.7/dist-packages (from pytorch-lightning) (2022.7.1)\n",
            "Requirement already satisfied: aiohttp in /usr/local/lib/python3.7/dist-packages (from fsspec[http]!=2021.06.0,>=2021.05.0->pytorch-lightning) (3.8.1)\n",
            "Requirement already satisfied: requests in /usr/local/lib/python3.7/dist-packages (from fsspec[http]!=2021.06.0,>=2021.05.0->pytorch-lightning) (2.23.0)\n",
            "Requirement already satisfied: pyparsing!=3.0.5,>=2.0.2 in /usr/local/lib/python3.7/dist-packages (from packaging>=17.0->pytorch-lightning) (3.0.9)\n",
            "Requirement already satisfied: protobuf<3.20,>=3.9.2 in /usr/local/lib/python3.7/dist-packages (from tensorboard>=2.9.1->pytorch-lightning) (3.17.3)\n",
            "Requirement already satisfied: tensorboard-data-server<0.7.0,>=0.6.0 in /usr/local/lib/python3.7/dist-packages (from tensorboard>=2.9.1->pytorch-lightning) (0.6.1)\n",
            "Requirement already satisfied: werkzeug>=1.0.1 in /usr/local/lib/python3.7/dist-packages (from tensorboard>=2.9.1->pytorch-lightning) (1.0.1)\n",
            "Requirement already satisfied: markdown>=2.6.8 in /usr/local/lib/python3.7/dist-packages (from tensorboard>=2.9.1->pytorch-lightning) (3.4.1)\n",
            "Requirement already satisfied: absl-py>=0.4 in /usr/local/lib/python3.7/dist-packages (from tensorboard>=2.9.1->pytorch-lightning) (1.2.0)\n",
            "Requirement already satisfied: tensorboard-plugin-wit>=1.6.0 in /usr/local/lib/python3.7/dist-packages (from tensorboard>=2.9.1->pytorch-lightning) (1.8.1)\n",
            "Requirement already satisfied: google-auth-oauthlib<0.5,>=0.4.1 in /usr/local/lib/python3.7/dist-packages (from tensorboard>=2.9.1->pytorch-lightning) (0.4.6)\n",
            "Requirement already satisfied: grpcio>=1.24.3 in /usr/local/lib/python3.7/dist-packages (from tensorboard>=2.9.1->pytorch-lightning) (1.47.0)\n",
            "Requirement already satisfied: wheel>=0.26 in /usr/local/lib/python3.7/dist-packages (from tensorboard>=2.9.1->pytorch-lightning) (0.37.1)\n",
            "Requirement already satisfied: setuptools>=41.0.0 in /usr/local/lib/python3.7/dist-packages (from tensorboard>=2.9.1->pytorch-lightning) (57.4.0)\n",
            "Requirement already satisfied: google-auth<3,>=1.6.3 in /usr/local/lib/python3.7/dist-packages (from tensorboard>=2.9.1->pytorch-lightning) (1.35.0)\n",
            "Requirement already satisfied: pyasn1-modules>=0.2.1 in /usr/local/lib/python3.7/dist-packages (from google-auth<3,>=1.6.3->tensorboard>=2.9.1->pytorch-lightning) (0.2.8)\n",
            "Requirement already satisfied: six>=1.9.0 in /usr/local/lib/python3.7/dist-packages (from google-auth<3,>=1.6.3->tensorboard>=2.9.1->pytorch-lightning) (1.15.0)\n",
            "Requirement already satisfied: cachetools<5.0,>=2.0.0 in /usr/local/lib/python3.7/dist-packages (from google-auth<3,>=1.6.3->tensorboard>=2.9.1->pytorch-lightning) (4.2.4)\n",
            "Requirement already satisfied: rsa<5,>=3.1.4 in /usr/local/lib/python3.7/dist-packages (from google-auth<3,>=1.6.3->tensorboard>=2.9.1->pytorch-lightning) (4.9)\n",
            "Requirement already satisfied: requests-oauthlib>=0.7.0 in /usr/local/lib/python3.7/dist-packages (from google-auth-oauthlib<0.5,>=0.4.1->tensorboard>=2.9.1->pytorch-lightning) (1.3.1)\n",
            "Requirement already satisfied: importlib-metadata>=4.4 in /usr/local/lib/python3.7/dist-packages (from markdown>=2.6.8->tensorboard>=2.9.1->pytorch-lightning) (4.12.0)\n",
            "Requirement already satisfied: zipp>=0.5 in /usr/local/lib/python3.7/dist-packages (from importlib-metadata>=4.4->markdown>=2.6.8->tensorboard>=2.9.1->pytorch-lightning) (3.8.1)\n",
            "Requirement already satisfied: pyasn1<0.5.0,>=0.4.6 in /usr/local/lib/python3.7/dist-packages (from pyasn1-modules>=0.2.1->google-auth<3,>=1.6.3->tensorboard>=2.9.1->pytorch-lightning) (0.4.8)\n",
            "Requirement already satisfied: certifi>=2017.4.17 in /usr/local/lib/python3.7/dist-packages (from requests->fsspec[http]!=2021.06.0,>=2021.05.0->pytorch-lightning) (2022.6.15)\n",
            "Requirement already satisfied: idna<3,>=2.5 in /usr/local/lib/python3.7/dist-packages (from requests->fsspec[http]!=2021.06.0,>=2021.05.0->pytorch-lightning) (2.10)\n",
            "Requirement already satisfied: urllib3!=1.25.0,!=1.25.1,<1.26,>=1.21.1 in /usr/local/lib/python3.7/dist-packages (from requests->fsspec[http]!=2021.06.0,>=2021.05.0->pytorch-lightning) (1.24.3)\n",
            "Requirement already satisfied: chardet<4,>=3.0.2 in /usr/local/lib/python3.7/dist-packages (from requests->fsspec[http]!=2021.06.0,>=2021.05.0->pytorch-lightning) (3.0.4)\n",
            "Requirement already satisfied: oauthlib>=3.0.0 in /usr/local/lib/python3.7/dist-packages (from requests-oauthlib>=0.7.0->google-auth-oauthlib<0.5,>=0.4.1->tensorboard>=2.9.1->pytorch-lightning) (3.2.0)\n",
            "Requirement already satisfied: yarl<2.0,>=1.0 in /usr/local/lib/python3.7/dist-packages (from aiohttp->fsspec[http]!=2021.06.0,>=2021.05.0->pytorch-lightning) (1.8.1)\n",
            "Requirement already satisfied: charset-normalizer<3.0,>=2.0 in /usr/local/lib/python3.7/dist-packages (from aiohttp->fsspec[http]!=2021.06.0,>=2021.05.0->pytorch-lightning) (2.1.1)\n",
            "Requirement already satisfied: asynctest==0.13.0 in /usr/local/lib/python3.7/dist-packages (from aiohttp->fsspec[http]!=2021.06.0,>=2021.05.0->pytorch-lightning) (0.13.0)\n",
            "Requirement already satisfied: aiosignal>=1.1.2 in /usr/local/lib/python3.7/dist-packages (from aiohttp->fsspec[http]!=2021.06.0,>=2021.05.0->pytorch-lightning) (1.2.0)\n",
            "Requirement already satisfied: attrs>=17.3.0 in /usr/local/lib/python3.7/dist-packages (from aiohttp->fsspec[http]!=2021.06.0,>=2021.05.0->pytorch-lightning) (22.1.0)\n",
            "Requirement already satisfied: multidict<7.0,>=4.5 in /usr/local/lib/python3.7/dist-packages (from aiohttp->fsspec[http]!=2021.06.0,>=2021.05.0->pytorch-lightning) (6.0.2)\n",
            "Requirement already satisfied: frozenlist>=1.1.1 in /usr/local/lib/python3.7/dist-packages (from aiohttp->fsspec[http]!=2021.06.0,>=2021.05.0->pytorch-lightning) (1.3.1)\n",
            "Requirement already satisfied: async-timeout<5.0,>=4.0.0a3 in /usr/local/lib/python3.7/dist-packages (from aiohttp->fsspec[http]!=2021.06.0,>=2021.05.0->pytorch-lightning) (4.0.2)\n"
          ]
        }
      ]
    },
    {
      "cell_type": "code",
      "source": [
        "import torch\n",
        "import torch.nn as nn\n",
        "import torch.optim as optim\n",
        "import torch.nn.functional as F\n",
        "import pytorch_lightning as pl\n",
        "from torch.optim.lr_scheduler import ExponentialLR\n",
        "\n",
        "# Define Task Module\n",
        "class StoryGenerator(pl.LightningModule) :\n",
        "  def __init__(self,model, args) :\n",
        "    super().__init__()\n",
        "    self.model = model\n",
        "    self.args = args\n",
        "\n",
        "  def configure_optimizers(self) :\n",
        "    optimizer = optim.Adam(self.parameters(), lr=1e-3)\n",
        "    scheduler = ExponentialLR(optimizer, gamma=0.9)\n",
        "    return {'optimizer' : optimizer,\n",
        "            'scheduler' : scheduler,\n",
        "    }\n",
        "\n",
        "  def training_step(self, inputs, batch_idx) :\n",
        "    outputs = self.model(**inputs)\n",
        "    self.log(\"loss\", outputs.loss, prog_bar=False, logger=True, on_step=True, on_epoch=False)\n",
        "    return outputs.loss\n",
        "\n",
        "  def validation_step(self, inputs, batch_idx) :\n",
        "    outputs = self.model(**inputs)\n",
        "    self.log(\"val_loss\", outputs.loss, prog_bar=True, logger=True, on_step=False, on_epoch=True)\n",
        "    return outputs.loss"
      ],
      "metadata": {
        "id": "c4BzTc13P6nW"
      },
      "execution_count": 18,
      "outputs": []
    },
    {
      "cell_type": "code",
      "source": [
        "from pytorch_lightning import Trainer\n",
        "from pytorch_lightning.callbacks import ModelCheckpoint\n",
        "\n",
        "# Define Trainer function\n",
        "def get_trainer(args,return_trainer_only=True) :\n",
        "  ckpt_path = os.path.abspath(args.downstream_model_dir)\n",
        "  os.makedirs(ckpt_path, exist_ok=True)\n",
        "\n",
        "  # Checkpoint Callback\n",
        "  checkpoint_callback = ModelCheckpoint(\n",
        "      dirpath = ckpt_path, \n",
        "      filename = '{epoch}-{val_loss:.2f}',\n",
        "      save_top_k = args.save_top_k,\n",
        "      mode = args.monitor.split()[0], # \"min\"\n",
        "      monitor = args.monitor.split()[1]  # \"val_loss\"\n",
        "  )\n",
        "\n",
        "  # Trainer\n",
        "  trainer = Trainer(\n",
        "      max_epochs = args.epochs,\n",
        "      fast_dev_run = args.test_mode,\n",
        "      num_sanity_val_steps = None if args.test_mode else 0,\n",
        "      callbacks = [checkpoint_callback],\n",
        "      default_root_dir = ckpt_path,\n",
        "\n",
        "      # For GPU Setup\n",
        "      deterministic=torch.cuda.is_available() and args.seed is not None,\n",
        "      gpus = torch.cuda.device_count() if torch.cuda.is_available() else None,\n",
        "      precision = 16 if args.fp16 else 32,\n",
        "  )\n",
        "\n",
        "  if return_trainer_only :\n",
        "    return trainer\n",
        "  else : \n",
        "    return checkpoint_callback, trainer"
      ],
      "metadata": {
        "id": "2JLaoeJSP7Qs"
      },
      "execution_count": 19,
      "outputs": []
    },
    {
      "cell_type": "code",
      "source": [
        "# Model\n",
        "task = StoryGenerator(model, args)\n",
        "\n",
        "# Fine-tuning\n",
        "trainer = get_trainer(args)\n",
        "trainer.fit(\n",
        "    task,\n",
        "    train_dataloaders = train_dataloader,\n",
        "    val_dataloaders = val_dataloader,\n",
        ")"
      ],
      "metadata": {
        "id": "O20wxxSMP7U5",
        "colab": {
          "base_uri": "https://localhost:8080/",
          "height": 450,
          "referenced_widgets": [
            "a12363675b7c46ceb862cc9c9c576452",
            "7391d08edb6242ac9e30dff81f14489f",
            "82e5f351e25447a9bbd4e0c582cf3430",
            "df4675f8fb754b0daf3a701eb68005ce",
            "7f25b2bc1e9f4ca082924589d5936e8d",
            "40cbc0b6fa0c48a5ac23bcf7adc41527",
            "97351512bccf428ab000c1e50f74536b",
            "e54b0f5d0db64c54b824a574c5cc6066",
            "207a4b677112422b9751456266e60f9f",
            "8fcea1f0474c4ec7a65a2020a92dfa84",
            "f4170b5fbb9a4f74b22103454b1803d6",
            "88d45b7fed544e9a88f3c9b0856718c9",
            "7ac235dd1d8642d89e5a019544070ee4",
            "dc390dbf6429414f9760e795516062e1",
            "1e9f69597c634271946077114d8233d2",
            "776b8335264949c680adaf5898af5aaf",
            "e6d19445ba0a45a4b1246e924919fc3d",
            "864cfc6f1dcc4f0d8972b7197f126567",
            "480e012bd5894926ae7ba9c6ede23d46",
            "a27b6f6164da4f259894af15383f4f74",
            "540e89ac007f4e879eb16c5a9e1c7cff",
            "8cef372b2bac42dfb9650014a3988c7b",
            "077225d178214173bb6d2986f86bed1e",
            "0d52a6b12e58472e8b48e293533f0ca3",
            "ca3d821a6dc24998b209d9ed19fb1224",
            "a548717ebaf54ea7989831ca28d87990",
            "4d7a4387b9874974979ca071b5f7f990",
            "1c90f247441e474d8d84b6bdf9a102a2",
            "58b3d2fb87b64f0cbacc43569d2d0dbf",
            "54fcc15a08bb42eca4922c07535356ef",
            "837ad9d7540c436fa5d9cf937e935040",
            "8229b4bc88e74c9485acd5afb713dab0",
            "2c96d6a485484d5eab953a006e5142e6",
            "7bd62d9bd167472a9ccccaffb27e751b",
            "c5398be0c89e4e8a928d3816869b43f9",
            "ab39f34e74ef4855bc176a45b421c937",
            "20bc83bcfc40415f99d7ff208efe4b59",
            "3692a92450e84e05993f88c94fa85862",
            "e1ea762e11ec4755874641070ca63166",
            "ab07028a01754b0bbf6db6bb785a5d8a",
            "7a1fe4d32ab24198886b705090c04039",
            "eeba242814064864820d714ce00c1ef7",
            "598bfc1b637d4b509ea4e4c4ec1c6f71",
            "a32ce05c42d240989a8686dabf784aa5"
          ]
        },
        "outputId": "0f2f3ed7-5d9c-430b-e2a7-cd252cb7c868"
      },
      "execution_count": 20,
      "outputs": [
        {
          "output_type": "stream",
          "name": "stderr",
          "text": [
            "/usr/local/lib/python3.7/dist-packages/pytorch_lightning/trainer/connectors/accelerator_connector.py:447: LightningDeprecationWarning: Setting `Trainer(gpus=1)` is deprecated in v1.7 and will be removed in v2.0. Please use `Trainer(accelerator='gpu', devices=1)` instead.\n",
            "  f\"Setting `Trainer(gpus={gpus!r})` is deprecated in v1.7 and will be removed\"\n",
            "INFO:pytorch_lightning.utilities.rank_zero:GPU available: True (cuda), used: True\n",
            "INFO:pytorch_lightning.utilities.rank_zero:TPU available: False, using: 0 TPU cores\n",
            "INFO:pytorch_lightning.utilities.rank_zero:IPU available: False, using: 0 IPUs\n",
            "INFO:pytorch_lightning.utilities.rank_zero:HPU available: False, using: 0 HPUs\n",
            "/usr/local/lib/python3.7/dist-packages/pytorch_lightning/callbacks/model_checkpoint.py:616: UserWarning: Checkpoint directory /content/drive/MyDrive/Do-it-자연어처리/checkpoint-story exists and is not empty.\n",
            "  rank_zero_warn(f\"Checkpoint directory {dirpath} exists and is not empty.\")\n",
            "INFO:pytorch_lightning.accelerators.cuda:LOCAL_RANK: 0 - CUDA_VISIBLE_DEVICES: [0]\n",
            "/usr/local/lib/python3.7/dist-packages/pytorch_lightning/core/optimizer.py:382: RuntimeWarning: Found unsupported keys in the optimizer configuration: {'scheduler'}\n",
            "  f\"Found unsupported keys in the optimizer configuration: {set(extra_keys)}\", category=RuntimeWarning\n",
            "INFO:pytorch_lightning.callbacks.model_summary:\n",
            "  | Name  | Type            | Params\n",
            "------------------------------------------\n",
            "0 | model | GPT2LMHeadModel | 125 M \n",
            "------------------------------------------\n",
            "125 M     Trainable params\n",
            "0         Non-trainable params\n",
            "125 M     Total params\n",
            "500.656   Total estimated model params size (MB)\n"
          ]
        },
        {
          "output_type": "display_data",
          "data": {
            "text/plain": [
              "Training: 0it [00:00, ?it/s]"
            ],
            "application/vnd.jupyter.widget-view+json": {
              "version_major": 2,
              "version_minor": 0,
              "model_id": "a12363675b7c46ceb862cc9c9c576452"
            }
          },
          "metadata": {}
        },
        {
          "output_type": "display_data",
          "data": {
            "text/plain": [
              "Validation: 0it [00:00, ?it/s]"
            ],
            "application/vnd.jupyter.widget-view+json": {
              "version_major": 2,
              "version_minor": 0,
              "model_id": "88d45b7fed544e9a88f3c9b0856718c9"
            }
          },
          "metadata": {}
        },
        {
          "output_type": "display_data",
          "data": {
            "text/plain": [
              "Validation: 0it [00:00, ?it/s]"
            ],
            "application/vnd.jupyter.widget-view+json": {
              "version_major": 2,
              "version_minor": 0,
              "model_id": "077225d178214173bb6d2986f86bed1e"
            }
          },
          "metadata": {}
        },
        {
          "output_type": "display_data",
          "data": {
            "text/plain": [
              "Validation: 0it [00:00, ?it/s]"
            ],
            "application/vnd.jupyter.widget-view+json": {
              "version_major": 2,
              "version_minor": 0,
              "model_id": "7bd62d9bd167472a9ccccaffb27e751b"
            }
          },
          "metadata": {}
        },
        {
          "output_type": "stream",
          "name": "stderr",
          "text": [
            "INFO:pytorch_lightning.utilities.rank_zero:`Trainer.fit` stopped: `max_epochs=3` reached.\n"
          ]
        }
      ]
    },
    {
      "cell_type": "markdown",
      "source": [
        "### **인퍼런스**"
      ],
      "metadata": {
        "id": "hq2hTMRbXjeV"
      }
    },
    {
      "cell_type": "code",
      "source": [
        "text = '울창한 숲에 자신의 아내와 두 아이와 함께 힘들게 사는 어느 가난한 나무꾼이 있었어요'\n",
        "input_ids = tokenizer.encode(text, return_tensors='pt')\n",
        "gen_ids = model.generate(input_ids,\n",
        "                           max_length=256,\n",
        "                           repetition_penalty=3.0,\n",
        "                           pad_token_id=tokenizer.pad_token_id,\n",
        "                           eos_token_id=tokenizer.eos_token_id,\n",
        "                           bos_token_id=tokenizer.bos_token_id,\n",
        "                           use_cache=True)\n",
        "generated = tokenizer.decode(gen_ids[0])\n",
        "print(generated)"
      ],
      "metadata": {
        "colab": {
          "base_uri": "https://localhost:8080/"
        },
        "id": "XrxNzynjq6ms",
        "outputId": "23b9bf5c-6c58-4d4c-fe48-cdfe77907220"
      },
      "execution_count": 21,
      "outputs": [
        {
          "output_type": "stream",
          "name": "stdout",
          "text": [
            "울창한 숲에 자신의 아내와 두 아이와 함께 힘들게 사는 어느 가난한 나무꾼이 있었어요? 그걸도 없었지요.그가 말했답니다.“오, 이건 네는 거예요, “여운 남자가 대답하세요.”그래서 그가 소리쳤습니다.하지만 그는 다시 데려다음날 아침은 그녀가 물었죠. 하지만 아빠, 저를 한 번 더 넌 내가 그를 데리고 갔어요.\n",
            "</s>\n"
          ]
        }
      ]
    },
    {
      "cell_type": "code",
      "source": [
        "text = '고양이 두 마리가 물고기를 사냥하고 있다.'\n",
        "input_ids = tokenizer.encode(text, return_tensors='pt')\n",
        "gen_ids = model.generate(input_ids,\n",
        "                         do_sample=True,\n",
        "                         max_length=128,\n",
        "                         min_length=10,\n",
        "                         top_p = 0.92,\n",
        "                         repetition_penalty=1.5)\n",
        "generated = tokenizer.decode(gen_ids[0])\n",
        "print(generated)"
      ],
      "metadata": {
        "colab": {
          "base_uri": "https://localhost:8080/"
        },
        "id": "hTfXhGw_lDNe",
        "outputId": "7c4efac7-7dd7-4b51-f203-01dcf5016e20"
      },
      "execution_count": 22,
      "outputs": [
        {
          "output_type": "stream",
          "name": "stdout",
          "text": [
            "고양이 두 마리가 물고기를 사냥하고 있다. 그 바람에 자신의 마리를 내려서 문을 열어졌어요.그녀들은 한 쪽 산에 나왔더니, 나무 위로 나오셨다 했는지 보따름꾼은 너무에도 난 그녀는 말했지 않잖아음날 그가 말을 보고,”그러더니 엄마님이 그를 다시 숲으로 갔죠. 그리고 큰 식탁이제게 되었답니다. 그래서 거예요!”그래도 물었어요.\n",
            "</s>\n"
          ]
        }
      ]
    }
  ]
}