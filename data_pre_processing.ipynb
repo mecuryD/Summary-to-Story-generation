{
  "nbformat": 4,
  "nbformat_minor": 0,
  "metadata": {
    "colab": {
      "name": "data pre-processing.ipynb",
      "provenance": [],
      "collapsed_sections": [],
      "mount_file_id": "13-Jpk3phvjnqCRuyHNlaE8VJZdDkbGV4",
      "authorship_tag": "ABX9TyN2Y+Pg80M/UziAMXG0e048"
    },
    "kernelspec": {
      "name": "python3",
      "display_name": "Python 3"
    },
    "language_info": {
      "name": "python"
    }
  },
  "cells": [
    {
      "cell_type": "code",
      "execution_count": null,
      "metadata": {
        "id": "Gy-Ob481TP_n"
      },
      "outputs": [],
      "source": [
        "import re\n",
        "import os\n",
        "\n",
        "# 그림 형제 동화 데이터셋 전처리 함수 # 문장 단위\n",
        "def fairy_tale_process() : \n",
        "    # open file\n",
        "    f_path = \"/content/drive/MyDrive/Do-it-자연어처리/data/grimm/fairy_tale_original.txt\"\n",
        "    with open(f_path, \"r\", encoding=\"utf-8\") as f :\n",
        "        text = f.read()\n",
        "\n",
        "    # processing\n",
        "    processed = re.sub(\"([A-Za-z\\s,”“.;’][A-Za-z]+[^\\n]+|(\\([^\\(\\)]+\\)))\", \"\", text)\n",
        "\n",
        "    # save file\n",
        "    f_path = \"/content/drive/MyDrive/Do-it-자연어처리/data/grimm/fairy_tale_clear.txt\"\n",
        "    with open(f_path, \"w\", encoding=\"utf-8\") as f :\n",
        "        f.write(processed)\n",
        "\n",
        "fairy_tale_process()"
      ]
    },
    {
      "cell_type": "code",
      "source": [
        "# 그림 형제 동화 데이터셋 전처리 함수 # 문단 단위\n",
        "def sentence_to_paragraph() :\n",
        "\n",
        "  # open file\n",
        "  f_path = \"/content/drive/MyDrive/Do-it-자연어처리/data/grimm/fairy_tale_clear.txt\"\n",
        "  with open(f_path, \"r\", encoding=\"utf-8\") as f :\n",
        "    lines = f.readlines()\n",
        "\n",
        "  # remove '\\n'\n",
        "  lines = [line.strip() for line in lines]\n",
        "\n",
        "  # sentence to paragraph\n",
        "  paragraphs = []\n",
        "  for i in range(0,14840,10) :\n",
        "    line = \"\"\n",
        "    for j in range(10) : # 10줄씩 묶어준다\n",
        "      try :\n",
        "        line += lines[i+j]\n",
        "      except IndexError :\n",
        "        pass\n",
        "    line += '\\n'\n",
        "    paragraphs.append(line)\n",
        "\n",
        "  # save file\n",
        "  f_path = \"/content/drive/MyDrive/Do-it-자연어처리/data/grimm/fairy_tale_paragraph.txt\"\n",
        "  with open(f_path, \"w\", encoding=\"utf-8\") as f :\n",
        "    for paragraph in paragraphs :\n",
        "      f.write(paragraph)\n",
        "\n",
        "  return paragraphs\n",
        "\n",
        "paragraphs = sentence_to_paragraph()\n",
        "paragraphs[0]"
      ],
      "metadata": {
        "id": "We_A4BdHtQZo",
        "colab": {
          "base_uri": "https://localhost:8080/",
          "height": 90
        },
        "outputId": "763788cb-8196-4542-dfa7-62d9b3ee41fd"
      },
      "execution_count": 21,
      "outputs": [
        {
          "output_type": "execute_result",
          "data": {
            "text/plain": [
              "'옛날 옛적에 소망을 이루어 주는 힘이 여전히 통했던 때에, 딸들이 모두 예쁜 왕이 한 분 살고 계셨어요.특히나 막내공주님이 아주 예뻤는데요, 어찌나 아름다운지, 해도 그녀의 얼굴에 햇볕을 비출 때마다 감탄을 하곤 하였더랬죠.왕의 성은 울창한 숲에 둘러싸여 있었어요.숲에 있는 나이 많은 라임 나무 아래에 우물이 하나 있었어요.화창한 날에, 막내공주님께서 숲으로 놀러 나와 시원한 분수 옆에 앉았어요.그녀는 따분할 땐 황금 공을 가져와 높이 던졌다가 다시 잡곤 했지요.황금 공놀이는 그녀가 가장 좋아하는 놀이었어요.그러다 우연히 공주의 작은 손으로 떠받치고 있던 황금 공이 바닥으로 떨어져 곧장 우물 속으로 굴러 들어갔지 뭐예요.공주님이 다급히 눈으론 공을 쫓았지만 허사였어요.우물은 꽤 깊었어요. 바닥이 보이지 않을 정도로요.\\n'"
            ],
            "application/vnd.google.colaboratory.intrinsic+json": {
              "type": "string"
            }
          },
          "metadata": {},
          "execution_count": 21
        }
      ]
    }
  ]
}