{
  "nbformat": 4,
  "nbformat_minor": 0,
  "metadata": {
    "colab": {
      "name": "story-generator.ipynb",
      "provenance": [],
      "collapsed_sections": [],
      "authorship_tag": "ABX9TyPzTMPKfYDD1qhMrqxC0I3V",
      "include_colab_link": true
    },
    "kernelspec": {
      "name": "python3",
      "display_name": "Python 3"
    },
    "language_info": {
      "name": "python"
    },
    "accelerator": "GPU",
    "gpuClass": "standard",
    "widgets": {
      "application/vnd.jupyter.widget-state+json": {
        "d68012d2e509445db1154a9bece042f6": {
          "model_module": "@jupyter-widgets/controls",
          "model_name": "HBoxModel",
          "model_module_version": "1.5.0",
          "state": {
            "_dom_classes": [],
            "_model_module": "@jupyter-widgets/controls",
            "_model_module_version": "1.5.0",
            "_model_name": "HBoxModel",
            "_view_count": null,
            "_view_module": "@jupyter-widgets/controls",
            "_view_module_version": "1.5.0",
            "_view_name": "HBoxView",
            "box_style": "",
            "children": [
              "IPY_MODEL_73b61a9a9627410ab2da79707bf1d5c2",
              "IPY_MODEL_a42469da84c64159b768b7421324bad4",
              "IPY_MODEL_1a880ee22e19471286ded9eab6b376df"
            ],
            "layout": "IPY_MODEL_8c19784eed7b45b3adb3af3ebd7768cf"
          }
        },
        "73b61a9a9627410ab2da79707bf1d5c2": {
          "model_module": "@jupyter-widgets/controls",
          "model_name": "HTMLModel",
          "model_module_version": "1.5.0",
          "state": {
            "_dom_classes": [],
            "_model_module": "@jupyter-widgets/controls",
            "_model_module_version": "1.5.0",
            "_model_name": "HTMLModel",
            "_view_count": null,
            "_view_module": "@jupyter-widgets/controls",
            "_view_module_version": "1.5.0",
            "_view_name": "HTMLView",
            "description": "",
            "description_tooltip": null,
            "layout": "IPY_MODEL_85c9313921c94fe1b240e80321b46459",
            "placeholder": "​",
            "style": "IPY_MODEL_58db924ae50e4535904db527ec05ed0a",
            "value": "Downloading tokenizer.json: 100%"
          }
        },
        "a42469da84c64159b768b7421324bad4": {
          "model_module": "@jupyter-widgets/controls",
          "model_name": "FloatProgressModel",
          "model_module_version": "1.5.0",
          "state": {
            "_dom_classes": [],
            "_model_module": "@jupyter-widgets/controls",
            "_model_module_version": "1.5.0",
            "_model_name": "FloatProgressModel",
            "_view_count": null,
            "_view_module": "@jupyter-widgets/controls",
            "_view_module_version": "1.5.0",
            "_view_name": "ProgressView",
            "bar_style": "success",
            "description": "",
            "description_tooltip": null,
            "layout": "IPY_MODEL_55d811ae787346ec9e70b77b0cc57f5b",
            "max": 2825034,
            "min": 0,
            "orientation": "horizontal",
            "style": "IPY_MODEL_3557a4fd0f694e0abde54bdb98a52ece",
            "value": 2825034
          }
        },
        "1a880ee22e19471286ded9eab6b376df": {
          "model_module": "@jupyter-widgets/controls",
          "model_name": "HTMLModel",
          "model_module_version": "1.5.0",
          "state": {
            "_dom_classes": [],
            "_model_module": "@jupyter-widgets/controls",
            "_model_module_version": "1.5.0",
            "_model_name": "HTMLModel",
            "_view_count": null,
            "_view_module": "@jupyter-widgets/controls",
            "_view_module_version": "1.5.0",
            "_view_name": "HTMLView",
            "description": "",
            "description_tooltip": null,
            "layout": "IPY_MODEL_e94c61bf370047aab4dfd59dcbb6ccd8",
            "placeholder": "​",
            "style": "IPY_MODEL_a48484ca3ff041f5bb824c215634f7cf",
            "value": " 2.69M/2.69M [00:00&lt;00:00, 21.2MB/s]"
          }
        },
        "8c19784eed7b45b3adb3af3ebd7768cf": {
          "model_module": "@jupyter-widgets/base",
          "model_name": "LayoutModel",
          "model_module_version": "1.2.0",
          "state": {
            "_model_module": "@jupyter-widgets/base",
            "_model_module_version": "1.2.0",
            "_model_name": "LayoutModel",
            "_view_count": null,
            "_view_module": "@jupyter-widgets/base",
            "_view_module_version": "1.2.0",
            "_view_name": "LayoutView",
            "align_content": null,
            "align_items": null,
            "align_self": null,
            "border": null,
            "bottom": null,
            "display": null,
            "flex": null,
            "flex_flow": null,
            "grid_area": null,
            "grid_auto_columns": null,
            "grid_auto_flow": null,
            "grid_auto_rows": null,
            "grid_column": null,
            "grid_gap": null,
            "grid_row": null,
            "grid_template_areas": null,
            "grid_template_columns": null,
            "grid_template_rows": null,
            "height": null,
            "justify_content": null,
            "justify_items": null,
            "left": null,
            "margin": null,
            "max_height": null,
            "max_width": null,
            "min_height": null,
            "min_width": null,
            "object_fit": null,
            "object_position": null,
            "order": null,
            "overflow": null,
            "overflow_x": null,
            "overflow_y": null,
            "padding": null,
            "right": null,
            "top": null,
            "visibility": null,
            "width": null
          }
        },
        "85c9313921c94fe1b240e80321b46459": {
          "model_module": "@jupyter-widgets/base",
          "model_name": "LayoutModel",
          "model_module_version": "1.2.0",
          "state": {
            "_model_module": "@jupyter-widgets/base",
            "_model_module_version": "1.2.0",
            "_model_name": "LayoutModel",
            "_view_count": null,
            "_view_module": "@jupyter-widgets/base",
            "_view_module_version": "1.2.0",
            "_view_name": "LayoutView",
            "align_content": null,
            "align_items": null,
            "align_self": null,
            "border": null,
            "bottom": null,
            "display": null,
            "flex": null,
            "flex_flow": null,
            "grid_area": null,
            "grid_auto_columns": null,
            "grid_auto_flow": null,
            "grid_auto_rows": null,
            "grid_column": null,
            "grid_gap": null,
            "grid_row": null,
            "grid_template_areas": null,
            "grid_template_columns": null,
            "grid_template_rows": null,
            "height": null,
            "justify_content": null,
            "justify_items": null,
            "left": null,
            "margin": null,
            "max_height": null,
            "max_width": null,
            "min_height": null,
            "min_width": null,
            "object_fit": null,
            "object_position": null,
            "order": null,
            "overflow": null,
            "overflow_x": null,
            "overflow_y": null,
            "padding": null,
            "right": null,
            "top": null,
            "visibility": null,
            "width": null
          }
        },
        "58db924ae50e4535904db527ec05ed0a": {
          "model_module": "@jupyter-widgets/controls",
          "model_name": "DescriptionStyleModel",
          "model_module_version": "1.5.0",
          "state": {
            "_model_module": "@jupyter-widgets/controls",
            "_model_module_version": "1.5.0",
            "_model_name": "DescriptionStyleModel",
            "_view_count": null,
            "_view_module": "@jupyter-widgets/base",
            "_view_module_version": "1.2.0",
            "_view_name": "StyleView",
            "description_width": ""
          }
        },
        "55d811ae787346ec9e70b77b0cc57f5b": {
          "model_module": "@jupyter-widgets/base",
          "model_name": "LayoutModel",
          "model_module_version": "1.2.0",
          "state": {
            "_model_module": "@jupyter-widgets/base",
            "_model_module_version": "1.2.0",
            "_model_name": "LayoutModel",
            "_view_count": null,
            "_view_module": "@jupyter-widgets/base",
            "_view_module_version": "1.2.0",
            "_view_name": "LayoutView",
            "align_content": null,
            "align_items": null,
            "align_self": null,
            "border": null,
            "bottom": null,
            "display": null,
            "flex": null,
            "flex_flow": null,
            "grid_area": null,
            "grid_auto_columns": null,
            "grid_auto_flow": null,
            "grid_auto_rows": null,
            "grid_column": null,
            "grid_gap": null,
            "grid_row": null,
            "grid_template_areas": null,
            "grid_template_columns": null,
            "grid_template_rows": null,
            "height": null,
            "justify_content": null,
            "justify_items": null,
            "left": null,
            "margin": null,
            "max_height": null,
            "max_width": null,
            "min_height": null,
            "min_width": null,
            "object_fit": null,
            "object_position": null,
            "order": null,
            "overflow": null,
            "overflow_x": null,
            "overflow_y": null,
            "padding": null,
            "right": null,
            "top": null,
            "visibility": null,
            "width": null
          }
        },
        "3557a4fd0f694e0abde54bdb98a52ece": {
          "model_module": "@jupyter-widgets/controls",
          "model_name": "ProgressStyleModel",
          "model_module_version": "1.5.0",
          "state": {
            "_model_module": "@jupyter-widgets/controls",
            "_model_module_version": "1.5.0",
            "_model_name": "ProgressStyleModel",
            "_view_count": null,
            "_view_module": "@jupyter-widgets/base",
            "_view_module_version": "1.2.0",
            "_view_name": "StyleView",
            "bar_color": null,
            "description_width": ""
          }
        },
        "e94c61bf370047aab4dfd59dcbb6ccd8": {
          "model_module": "@jupyter-widgets/base",
          "model_name": "LayoutModel",
          "model_module_version": "1.2.0",
          "state": {
            "_model_module": "@jupyter-widgets/base",
            "_model_module_version": "1.2.0",
            "_model_name": "LayoutModel",
            "_view_count": null,
            "_view_module": "@jupyter-widgets/base",
            "_view_module_version": "1.2.0",
            "_view_name": "LayoutView",
            "align_content": null,
            "align_items": null,
            "align_self": null,
            "border": null,
            "bottom": null,
            "display": null,
            "flex": null,
            "flex_flow": null,
            "grid_area": null,
            "grid_auto_columns": null,
            "grid_auto_flow": null,
            "grid_auto_rows": null,
            "grid_column": null,
            "grid_gap": null,
            "grid_row": null,
            "grid_template_areas": null,
            "grid_template_columns": null,
            "grid_template_rows": null,
            "height": null,
            "justify_content": null,
            "justify_items": null,
            "left": null,
            "margin": null,
            "max_height": null,
            "max_width": null,
            "min_height": null,
            "min_width": null,
            "object_fit": null,
            "object_position": null,
            "order": null,
            "overflow": null,
            "overflow_x": null,
            "overflow_y": null,
            "padding": null,
            "right": null,
            "top": null,
            "visibility": null,
            "width": null
          }
        },
        "a48484ca3ff041f5bb824c215634f7cf": {
          "model_module": "@jupyter-widgets/controls",
          "model_name": "DescriptionStyleModel",
          "model_module_version": "1.5.0",
          "state": {
            "_model_module": "@jupyter-widgets/controls",
            "_model_module_version": "1.5.0",
            "_model_name": "DescriptionStyleModel",
            "_view_count": null,
            "_view_module": "@jupyter-widgets/base",
            "_view_module_version": "1.2.0",
            "_view_name": "StyleView",
            "description_width": ""
          }
        },
        "c71eb786615641d2ac9620e599df8482": {
          "model_module": "@jupyter-widgets/controls",
          "model_name": "HBoxModel",
          "model_module_version": "1.5.0",
          "state": {
            "_dom_classes": [],
            "_model_module": "@jupyter-widgets/controls",
            "_model_module_version": "1.5.0",
            "_model_name": "HBoxModel",
            "_view_count": null,
            "_view_module": "@jupyter-widgets/controls",
            "_view_module_version": "1.5.0",
            "_view_name": "HBoxView",
            "box_style": "",
            "children": [
              "IPY_MODEL_2d4e603994454f18b62179c93cb5b71d",
              "IPY_MODEL_11d925b7e65247d0a8217a4f8b25a03d",
              "IPY_MODEL_66ded2b611fa4682b55f8b161c561b30"
            ],
            "layout": "IPY_MODEL_e0114bd046e648dc9dff34875d68b9c2"
          }
        },
        "2d4e603994454f18b62179c93cb5b71d": {
          "model_module": "@jupyter-widgets/controls",
          "model_name": "HTMLModel",
          "model_module_version": "1.5.0",
          "state": {
            "_dom_classes": [],
            "_model_module": "@jupyter-widgets/controls",
            "_model_module_version": "1.5.0",
            "_model_name": "HTMLModel",
            "_view_count": null,
            "_view_module": "@jupyter-widgets/controls",
            "_view_module_version": "1.5.0",
            "_view_name": "HTMLView",
            "description": "",
            "description_tooltip": null,
            "layout": "IPY_MODEL_fcb2cd1ca80e4d82b262c5c0d3e0333f",
            "placeholder": "​",
            "style": "IPY_MODEL_59a580dcf43a4a84994b61ac363315dd",
            "value": "Downloading config.json: 100%"
          }
        },
        "11d925b7e65247d0a8217a4f8b25a03d": {
          "model_module": "@jupyter-widgets/controls",
          "model_name": "FloatProgressModel",
          "model_module_version": "1.5.0",
          "state": {
            "_dom_classes": [],
            "_model_module": "@jupyter-widgets/controls",
            "_model_module_version": "1.5.0",
            "_model_name": "FloatProgressModel",
            "_view_count": null,
            "_view_module": "@jupyter-widgets/controls",
            "_view_module_version": "1.5.0",
            "_view_name": "ProgressView",
            "bar_style": "success",
            "description": "",
            "description_tooltip": null,
            "layout": "IPY_MODEL_c1ee6ee02e0e4874b3c3c1fb9e5a8b4a",
            "max": 1000,
            "min": 0,
            "orientation": "horizontal",
            "style": "IPY_MODEL_1c306e1ab07348a395046471ba531372",
            "value": 1000
          }
        },
        "66ded2b611fa4682b55f8b161c561b30": {
          "model_module": "@jupyter-widgets/controls",
          "model_name": "HTMLModel",
          "model_module_version": "1.5.0",
          "state": {
            "_dom_classes": [],
            "_model_module": "@jupyter-widgets/controls",
            "_model_module_version": "1.5.0",
            "_model_name": "HTMLModel",
            "_view_count": null,
            "_view_module": "@jupyter-widgets/controls",
            "_view_module_version": "1.5.0",
            "_view_name": "HTMLView",
            "description": "",
            "description_tooltip": null,
            "layout": "IPY_MODEL_8f19b39ff75e4172af82593c27ff85cf",
            "placeholder": "​",
            "style": "IPY_MODEL_3628a93badcf465f8ec9404434e478db",
            "value": " 0.98k/0.98k [00:00&lt;00:00, 29.3kB/s]"
          }
        },
        "e0114bd046e648dc9dff34875d68b9c2": {
          "model_module": "@jupyter-widgets/base",
          "model_name": "LayoutModel",
          "model_module_version": "1.2.0",
          "state": {
            "_model_module": "@jupyter-widgets/base",
            "_model_module_version": "1.2.0",
            "_model_name": "LayoutModel",
            "_view_count": null,
            "_view_module": "@jupyter-widgets/base",
            "_view_module_version": "1.2.0",
            "_view_name": "LayoutView",
            "align_content": null,
            "align_items": null,
            "align_self": null,
            "border": null,
            "bottom": null,
            "display": null,
            "flex": null,
            "flex_flow": null,
            "grid_area": null,
            "grid_auto_columns": null,
            "grid_auto_flow": null,
            "grid_auto_rows": null,
            "grid_column": null,
            "grid_gap": null,
            "grid_row": null,
            "grid_template_areas": null,
            "grid_template_columns": null,
            "grid_template_rows": null,
            "height": null,
            "justify_content": null,
            "justify_items": null,
            "left": null,
            "margin": null,
            "max_height": null,
            "max_width": null,
            "min_height": null,
            "min_width": null,
            "object_fit": null,
            "object_position": null,
            "order": null,
            "overflow": null,
            "overflow_x": null,
            "overflow_y": null,
            "padding": null,
            "right": null,
            "top": null,
            "visibility": null,
            "width": null
          }
        },
        "fcb2cd1ca80e4d82b262c5c0d3e0333f": {
          "model_module": "@jupyter-widgets/base",
          "model_name": "LayoutModel",
          "model_module_version": "1.2.0",
          "state": {
            "_model_module": "@jupyter-widgets/base",
            "_model_module_version": "1.2.0",
            "_model_name": "LayoutModel",
            "_view_count": null,
            "_view_module": "@jupyter-widgets/base",
            "_view_module_version": "1.2.0",
            "_view_name": "LayoutView",
            "align_content": null,
            "align_items": null,
            "align_self": null,
            "border": null,
            "bottom": null,
            "display": null,
            "flex": null,
            "flex_flow": null,
            "grid_area": null,
            "grid_auto_columns": null,
            "grid_auto_flow": null,
            "grid_auto_rows": null,
            "grid_column": null,
            "grid_gap": null,
            "grid_row": null,
            "grid_template_areas": null,
            "grid_template_columns": null,
            "grid_template_rows": null,
            "height": null,
            "justify_content": null,
            "justify_items": null,
            "left": null,
            "margin": null,
            "max_height": null,
            "max_width": null,
            "min_height": null,
            "min_width": null,
            "object_fit": null,
            "object_position": null,
            "order": null,
            "overflow": null,
            "overflow_x": null,
            "overflow_y": null,
            "padding": null,
            "right": null,
            "top": null,
            "visibility": null,
            "width": null
          }
        },
        "59a580dcf43a4a84994b61ac363315dd": {
          "model_module": "@jupyter-widgets/controls",
          "model_name": "DescriptionStyleModel",
          "model_module_version": "1.5.0",
          "state": {
            "_model_module": "@jupyter-widgets/controls",
            "_model_module_version": "1.5.0",
            "_model_name": "DescriptionStyleModel",
            "_view_count": null,
            "_view_module": "@jupyter-widgets/base",
            "_view_module_version": "1.2.0",
            "_view_name": "StyleView",
            "description_width": ""
          }
        },
        "c1ee6ee02e0e4874b3c3c1fb9e5a8b4a": {
          "model_module": "@jupyter-widgets/base",
          "model_name": "LayoutModel",
          "model_module_version": "1.2.0",
          "state": {
            "_model_module": "@jupyter-widgets/base",
            "_model_module_version": "1.2.0",
            "_model_name": "LayoutModel",
            "_view_count": null,
            "_view_module": "@jupyter-widgets/base",
            "_view_module_version": "1.2.0",
            "_view_name": "LayoutView",
            "align_content": null,
            "align_items": null,
            "align_self": null,
            "border": null,
            "bottom": null,
            "display": null,
            "flex": null,
            "flex_flow": null,
            "grid_area": null,
            "grid_auto_columns": null,
            "grid_auto_flow": null,
            "grid_auto_rows": null,
            "grid_column": null,
            "grid_gap": null,
            "grid_row": null,
            "grid_template_areas": null,
            "grid_template_columns": null,
            "grid_template_rows": null,
            "height": null,
            "justify_content": null,
            "justify_items": null,
            "left": null,
            "margin": null,
            "max_height": null,
            "max_width": null,
            "min_height": null,
            "min_width": null,
            "object_fit": null,
            "object_position": null,
            "order": null,
            "overflow": null,
            "overflow_x": null,
            "overflow_y": null,
            "padding": null,
            "right": null,
            "top": null,
            "visibility": null,
            "width": null
          }
        },
        "1c306e1ab07348a395046471ba531372": {
          "model_module": "@jupyter-widgets/controls",
          "model_name": "ProgressStyleModel",
          "model_module_version": "1.5.0",
          "state": {
            "_model_module": "@jupyter-widgets/controls",
            "_model_module_version": "1.5.0",
            "_model_name": "ProgressStyleModel",
            "_view_count": null,
            "_view_module": "@jupyter-widgets/base",
            "_view_module_version": "1.2.0",
            "_view_name": "StyleView",
            "bar_color": null,
            "description_width": ""
          }
        },
        "8f19b39ff75e4172af82593c27ff85cf": {
          "model_module": "@jupyter-widgets/base",
          "model_name": "LayoutModel",
          "model_module_version": "1.2.0",
          "state": {
            "_model_module": "@jupyter-widgets/base",
            "_model_module_version": "1.2.0",
            "_model_name": "LayoutModel",
            "_view_count": null,
            "_view_module": "@jupyter-widgets/base",
            "_view_module_version": "1.2.0",
            "_view_name": "LayoutView",
            "align_content": null,
            "align_items": null,
            "align_self": null,
            "border": null,
            "bottom": null,
            "display": null,
            "flex": null,
            "flex_flow": null,
            "grid_area": null,
            "grid_auto_columns": null,
            "grid_auto_flow": null,
            "grid_auto_rows": null,
            "grid_column": null,
            "grid_gap": null,
            "grid_row": null,
            "grid_template_areas": null,
            "grid_template_columns": null,
            "grid_template_rows": null,
            "height": null,
            "justify_content": null,
            "justify_items": null,
            "left": null,
            "margin": null,
            "max_height": null,
            "max_width": null,
            "min_height": null,
            "min_width": null,
            "object_fit": null,
            "object_position": null,
            "order": null,
            "overflow": null,
            "overflow_x": null,
            "overflow_y": null,
            "padding": null,
            "right": null,
            "top": null,
            "visibility": null,
            "width": null
          }
        },
        "3628a93badcf465f8ec9404434e478db": {
          "model_module": "@jupyter-widgets/controls",
          "model_name": "DescriptionStyleModel",
          "model_module_version": "1.5.0",
          "state": {
            "_model_module": "@jupyter-widgets/controls",
            "_model_module_version": "1.5.0",
            "_model_name": "DescriptionStyleModel",
            "_view_count": null,
            "_view_module": "@jupyter-widgets/base",
            "_view_module_version": "1.2.0",
            "_view_name": "StyleView",
            "description_width": ""
          }
        }
      }
    }
  },
  "cells": [
    {
      "cell_type": "markdown",
      "metadata": {
        "id": "view-in-github",
        "colab_type": "text"
      },
      "source": [
        "<a href=\"https://colab.research.google.com/github/mecuryD/story-generator/blob/main/story_generator.ipynb\" target=\"_parent\"><img src=\"https://colab.research.google.com/assets/colab-badge.svg\" alt=\"Open In Colab\"/></a>"
      ]
    },
    {
      "cell_type": "markdown",
      "source": [
        "**각종 설정하기**"
      ],
      "metadata": {
        "id": "SLAH5VL7Mt4L"
      }
    },
    {
      "cell_type": "code",
      "source": [
        "# 의존성 패키지 설치\n",
        "!pip install transformers"
      ],
      "metadata": {
        "colab": {
          "base_uri": "https://localhost:8080/"
        },
        "id": "MPB-NFqLM3_W",
        "outputId": "54465791-cca5-4147-9b9d-49a7881b1c42"
      },
      "execution_count": 10,
      "outputs": [
        {
          "output_type": "stream",
          "name": "stdout",
          "text": [
            "Looking in indexes: https://pypi.org/simple, https://us-python.pkg.dev/colab-wheels/public/simple/\n",
            "Collecting transformers\n",
            "  Downloading transformers-4.21.2-py3-none-any.whl (4.7 MB)\n",
            "\u001b[K     |████████████████████████████████| 4.7 MB 34.6 MB/s \n",
            "\u001b[?25hRequirement already satisfied: tqdm>=4.27 in /usr/local/lib/python3.7/dist-packages (from transformers) (4.64.0)\n",
            "Requirement already satisfied: requests in /usr/local/lib/python3.7/dist-packages (from transformers) (2.23.0)\n",
            "Requirement already satisfied: filelock in /usr/local/lib/python3.7/dist-packages (from transformers) (3.8.0)\n",
            "Requirement already satisfied: pyyaml>=5.1 in /usr/local/lib/python3.7/dist-packages (from transformers) (6.0)\n",
            "Requirement already satisfied: regex!=2019.12.17 in /usr/local/lib/python3.7/dist-packages (from transformers) (2022.6.2)\n",
            "Requirement already satisfied: numpy>=1.17 in /usr/local/lib/python3.7/dist-packages (from transformers) (1.21.6)\n",
            "Collecting huggingface-hub<1.0,>=0.1.0\n",
            "  Downloading huggingface_hub-0.9.1-py3-none-any.whl (120 kB)\n",
            "\u001b[K     |████████████████████████████████| 120 kB 66.8 MB/s \n",
            "\u001b[?25hCollecting tokenizers!=0.11.3,<0.13,>=0.11.1\n",
            "  Downloading tokenizers-0.12.1-cp37-cp37m-manylinux_2_12_x86_64.manylinux2010_x86_64.whl (6.6 MB)\n",
            "\u001b[K     |████████████████████████████████| 6.6 MB 50.7 MB/s \n",
            "\u001b[?25hRequirement already satisfied: importlib-metadata in /usr/local/lib/python3.7/dist-packages (from transformers) (4.12.0)\n",
            "Requirement already satisfied: packaging>=20.0 in /usr/local/lib/python3.7/dist-packages (from transformers) (21.3)\n",
            "Requirement already satisfied: typing-extensions>=3.7.4.3 in /usr/local/lib/python3.7/dist-packages (from huggingface-hub<1.0,>=0.1.0->transformers) (4.1.1)\n",
            "Requirement already satisfied: pyparsing!=3.0.5,>=2.0.2 in /usr/local/lib/python3.7/dist-packages (from packaging>=20.0->transformers) (3.0.9)\n",
            "Requirement already satisfied: zipp>=0.5 in /usr/local/lib/python3.7/dist-packages (from importlib-metadata->transformers) (3.8.1)\n",
            "Requirement already satisfied: chardet<4,>=3.0.2 in /usr/local/lib/python3.7/dist-packages (from requests->transformers) (3.0.4)\n",
            "Requirement already satisfied: idna<3,>=2.5 in /usr/local/lib/python3.7/dist-packages (from requests->transformers) (2.10)\n",
            "Requirement already satisfied: certifi>=2017.4.17 in /usr/local/lib/python3.7/dist-packages (from requests->transformers) (2022.6.15)\n",
            "Requirement already satisfied: urllib3!=1.25.0,!=1.25.1,<1.26,>=1.21.1 in /usr/local/lib/python3.7/dist-packages (from requests->transformers) (1.24.3)\n",
            "Installing collected packages: tokenizers, huggingface-hub, transformers\n",
            "Successfully installed huggingface-hub-0.9.1 tokenizers-0.12.1 transformers-4.21.2\n"
          ]
        }
      ]
    },
    {
      "cell_type": "code",
      "source": [
        "# 구글 드라이브 연결\n",
        "from google.colab import drive\n",
        "drive.mount('/content/drive/', force_remount = True)"
      ],
      "metadata": {
        "colab": {
          "base_uri": "https://localhost:8080/"
        },
        "id": "XxTOfAiXM-o6",
        "outputId": "3a32286c-39f9-497f-fffd-e8c079590bbe"
      },
      "execution_count": 11,
      "outputs": [
        {
          "output_type": "stream",
          "name": "stdout",
          "text": [
            "Mounted at /content/drive/\n"
          ]
        }
      ]
    },
    {
      "cell_type": "code",
      "source": [
        "# 모델 환경 설정\n",
        "import os\n",
        "import torch\n",
        "from glob import glob\n",
        "from dataclasses import dataclass, field\n",
        "\n",
        "@dataclass\n",
        "class TrainArguments :\n",
        "    pretrained_model_name: str = field(default=\"skt/kogpt2-base-v2\")\n",
        "    downstream_task_name: str = field(default=\"sentence-generation\")\n",
        "    downstream_model_dir: str = field(default=\"/content/drive/MyDrive/Do-it-자연어처리/checkpoint-story\")\n",
        "    max_seq_length: int = field(default=32)\n",
        "    save_top_k: int = field(default=1)\n",
        "    monitor: str = field(default=\"min val_loss\")\n",
        "    epochs: int = field(default=3)\n",
        "    batch_size: int = field(default=96)\n",
        "    learning_rate: float = field(default=5e-5)\n",
        "    seed: int = field(default=None, metadata={\"help\": \"random seed.\"})\n",
        "    overwrite_cache: bool = field(default=False, metadata={\"help\": \"Overwrite the cached training and evaluation sets\"})\n",
        "    force_download: bool = field(default=False,metadata={\"help\": \"force to download downstream data and pretrained models.\"})\n",
        "    test_mode: bool = field(default=False,metadata={\"help\": \"Test Mode enables `fast_dev_run`\"})\n",
        "    cpu_workers: int = field(default=os.cpu_count(),metadata={\"help\": \"number of CPU workers\"})\n",
        "    fp16: bool = field(default=False,metadata={\"help\": \"Enable train on FP16\"})"
      ],
      "metadata": {
        "id": "zFDjTnfPNENY"
      },
      "execution_count": 12,
      "outputs": []
    },
    {
      "cell_type": "code",
      "source": [
        "args = TrainArguments(\n",
        "    max_seq_length = 32,\n",
        "    batch_size = 32 if torch.cuda.is_available() else 4,\n",
        "    learning_rate = 5e-5,\n",
        "    epochs=3,\n",
        "    seed=7,\n",
        ")"
      ],
      "metadata": {
        "id": "oFLRJnlGYUgJ"
      },
      "execution_count": 14,
      "outputs": []
    },
    {
      "cell_type": "markdown",
      "source": [
        "**토크나이저 준비하기**"
      ],
      "metadata": {
        "id": "W7iavMocMv_o"
      }
    },
    {
      "cell_type": "code",
      "source": [
        "# 토크나이저 선언\n",
        "from transformers import PreTrainedTokenizerFast\n",
        "tokenizer = PreTrainedTokenizerFast.from_pretrained(\"skt/kogpt2-base-v2\",\n",
        "                                                    bos_token='</s>', eos_token='</s>', unk_token='<unk>', \n",
        "                                                    pad_token='<pad>', mask_token='<mask>')\n",
        "\n",
        "print(tokenizer.tokenize(\"안녕하세요. 한국어 GPT-2 입니다.😤:)l^o\"))"
      ],
      "metadata": {
        "colab": {
          "base_uri": "https://localhost:8080/",
          "height": 154,
          "referenced_widgets": [
            "d68012d2e509445db1154a9bece042f6",
            "73b61a9a9627410ab2da79707bf1d5c2",
            "a42469da84c64159b768b7421324bad4",
            "1a880ee22e19471286ded9eab6b376df",
            "8c19784eed7b45b3adb3af3ebd7768cf",
            "85c9313921c94fe1b240e80321b46459",
            "58db924ae50e4535904db527ec05ed0a",
            "55d811ae787346ec9e70b77b0cc57f5b",
            "3557a4fd0f694e0abde54bdb98a52ece",
            "e94c61bf370047aab4dfd59dcbb6ccd8",
            "a48484ca3ff041f5bb824c215634f7cf",
            "c71eb786615641d2ac9620e599df8482",
            "2d4e603994454f18b62179c93cb5b71d",
            "11d925b7e65247d0a8217a4f8b25a03d",
            "66ded2b611fa4682b55f8b161c561b30",
            "e0114bd046e648dc9dff34875d68b9c2",
            "fcb2cd1ca80e4d82b262c5c0d3e0333f",
            "59a580dcf43a4a84994b61ac363315dd",
            "c1ee6ee02e0e4874b3c3c1fb9e5a8b4a",
            "1c306e1ab07348a395046471ba531372",
            "8f19b39ff75e4172af82593c27ff85cf",
            "3628a93badcf465f8ec9404434e478db"
          ]
        },
        "id": "fxQq8dacM0Va",
        "outputId": "c23599d2-cab7-4cf2-aa6f-a0f8ffa99819"
      },
      "execution_count": null,
      "outputs": [
        {
          "output_type": "display_data",
          "data": {
            "text/plain": [
              "Downloading tokenizer.json:   0%|          | 0.00/2.69M [00:00<?, ?B/s]"
            ],
            "application/vnd.jupyter.widget-view+json": {
              "version_major": 2,
              "version_minor": 0,
              "model_id": "d68012d2e509445db1154a9bece042f6"
            }
          },
          "metadata": {}
        },
        {
          "output_type": "display_data",
          "data": {
            "text/plain": [
              "Downloading config.json:   0%|          | 0.00/0.98k [00:00<?, ?B/s]"
            ],
            "application/vnd.jupyter.widget-view+json": {
              "version_major": 2,
              "version_minor": 0,
              "model_id": "c71eb786615641d2ac9620e599df8482"
            }
          },
          "metadata": {}
        },
        {
          "output_type": "stream",
          "name": "stderr",
          "text": [
            "The tokenizer class you load from this checkpoint is not the same type as the class this function is called from. It may result in unexpected tokenization. \n",
            "The tokenizer class you load from this checkpoint is 'GPT2Tokenizer'. \n",
            "The class this function is called from is 'PreTrainedTokenizerFast'.\n"
          ]
        },
        {
          "output_type": "stream",
          "name": "stdout",
          "text": [
            "['▁안녕', '하', '세', '요.', '▁한국어', '▁G', 'P', 'T', '-2', '▁입', '니다.', '😤', ':)', 'l^o']\n"
          ]
        }
      ]
    },
    {
      "cell_type": "markdown",
      "source": [
        "**데이터 불러오기 / 전처리**"
      ],
      "metadata": {
        "id": "4rVGiHwwQK3d"
      }
    },
    {
      "cell_type": "code",
      "execution_count": null,
      "metadata": {
        "colab": {
          "base_uri": "https://localhost:8080/"
        },
        "id": "NA8NAvfMMp6c",
        "outputId": "357cfd95-5980-478e-d5e4-9ad3026976aa"
      },
      "outputs": [
        {
          "output_type": "execute_result",
          "data": {
            "text/plain": [
              "['옛날 옛적에 소망을 이루어 주는 힘이 여전히 통했던 때에, 딸들이 모두 예쁜 왕이 한 분 살고 계셨어요.\\n',\n",
              " '특히나 막내공주님이 아주 예뻤는데요, 어찌나 아름다운지, 해도 그녀의 얼굴에 햇볕을 비출 때마다 감탄을 하곤 하였더랬죠.\\n',\n",
              " '왕의 성은 울창한 숲에 둘러싸여 있었어요.\\n',\n",
              " '숲에 있는 나이 많은 라임 나무 아래에 우물이 하나 있었어요.\\n',\n",
              " '화창한 날에, 막내공주님께서 숲으로 놀러 나와 시원한 분수 옆에 앉았어요.\\n',\n",
              " '그녀는 따분할 땐 황금 공을 가져와 높이 던졌다가 다시 잡곤 했지요.\\n',\n",
              " '황금 공놀이는 그녀가 가장 좋아하는 놀이었어요.\\xa0\\n',\n",
              " '그러다 우연히 공주의 작은 손으로 떠받치고 있던 황금 공이 바닥으로 떨어져 곧장 우물 속으로 굴러 들어갔지 뭐예요.\\n',\n",
              " '공주님이 다급히 눈으론 공을 쫓았지만 허사였어요.\\n',\n",
              " '우물은 꽤 깊었어요. 바닥이 보이지 않을 정도로요.\\n']"
            ]
          },
          "metadata": {},
          "execution_count": 8
        }
      ],
      "source": [
        "# 데이터 로드\n",
        "f_path = \"/content/drive/MyDrive/Do-it-자연어처리/data/grimm/fairy_tale_clear.txt\"\n",
        "\n",
        "with open(f_path, \"r\", encoding=\"utf-8\") as f :\n",
        "    train = f.readlines()\n",
        "\n",
        "train[0:10]"
      ]
    },
    {
      "cell_type": "code",
      "source": [
        "# 데이터셋 함수\n",
        "class StoryDataset(Dataset) : \n",
        "    def __init__(self) :\n",
        "        self.features = \n",
        "    def __len__(self) :\n",
        "        return dd\n",
        "    def __getitem__(self, index) :\n",
        "        return self.lines[index]\n",
        "\n",
        "# Data split\n",
        "val_dataset()"
      ],
      "metadata": {
        "id": "_MrpDxR3SptD"
      },
      "execution_count": null,
      "outputs": []
    },
    {
      "cell_type": "code",
      "source": [
        "# DataLoader\n",
        "from torch.utils.data import DataLoader, RandomSampler, SequentialSampler\n",
        "train_dataloader = DataLoader(train_dataset,\n",
        "                              batch_size = args.batch_size,\n",
        "                              sampler = RandomSampler(train_dataset, replacement=False),\n",
        "                              drop_last = True,\n",
        "                              num_workers = args.cpu_workers,)\n",
        "val_dataloader = DataLoader(val_dataset,\n",
        "                            batch_size = args.batch_size,\n",
        "                            sampler = SequentialSampler(val_dataset, replacement=False),\n",
        "                            drop_last = True,\n",
        "                            num_workers = args.cpu_workers,)"
      ],
      "metadata": {
        "id": "_9-6k15wZIKV"
      },
      "execution_count": null,
      "outputs": []
    },
    {
      "cell_type": "markdown",
      "source": [
        "**모델 초기화**"
      ],
      "metadata": {
        "id": "fAa0QPD3P2VT"
      }
    },
    {
      "cell_type": "code",
      "source": [
        "# 모델 준비\n",
        "from transformers import GPT2LMHeadModel\n",
        "model = GPT2LMHeadModel.from_pretrained(\"skt/kogpt2-base-v2\")"
      ],
      "metadata": {
        "id": "LwCxOR3jP3px"
      },
      "execution_count": null,
      "outputs": []
    },
    {
      "cell_type": "markdown",
      "source": [
        "**파인 튜닝**"
      ],
      "metadata": {
        "id": "wRlBLOT9P5dq"
      }
    },
    {
      "cell_type": "code",
      "source": [
        "!pip install pytorch-lightning"
      ],
      "metadata": {
        "id": "ZMhYFJQUHpIk"
      },
      "execution_count": null,
      "outputs": []
    },
    {
      "cell_type": "code",
      "source": [
        "import torch\n",
        "import torch.nn as nn\n",
        "import torch.optim as optim\n",
        "import torch.nn.functional as F\n",
        "import pytorch_lightning as pl\n",
        "from torch.optim.lr_scheduler import ExponentialLR\n",
        "\n",
        "# Define Task Module\n",
        "class StoryGenerator(pl.LightningModule) :\n",
        "  def __init__(self,model, args) :\n",
        "    super().__init__()\n",
        "    self.model = model\n",
        "    self.args = args\n",
        "\n",
        "  def configure_optimizers(self) :\n",
        "    optimizer = optim.Adam(self.parameters(), lr=1e-3)\n",
        "    scheduler = ExponentialLR(optimizer, gamma=0.9)\n",
        "    return {'optimizer' : optimizer,\n",
        "            'scheduler' : scheduler,\n",
        "    }\n",
        "\n",
        "  def training_step(self, inputs, batch_idx) :\n",
        "    outputs = self.model(**inputs)\n",
        "    self.log(\"loss\", outputs.loss, prog_bar=False, logger=True, on_step=True, on_epoch=False)\n",
        "    return outputs.loss\n",
        "\n",
        "  def validation_step(self, inputs, batch_idx) :\n",
        "    outputs = self.model(**inputs)\n",
        "    self.log(\"val_loss\", outputs.loss, prog_bar=True, logger=True, on_step=False, on_epoch=True)\n",
        "    return outputs.loss"
      ],
      "metadata": {
        "id": "c4BzTc13P6nW"
      },
      "execution_count": 9,
      "outputs": []
    },
    {
      "cell_type": "code",
      "source": [
        "from pytorch_lightning import Trainer\n",
        "from pytorch_lightning import ModelCheckpoint\n",
        "\n",
        "# Define Trainer function\n",
        "def get_trainer(args,return_trainer_only=True) :\n",
        "  ckpt_path = os.path.abspath(args.downstream_model_dir)\n",
        "  os.makedirs(ckpt_path, exist_ok=True)\n",
        "\n",
        "  # Checkpoint Callback\n",
        "  checkpoint_callback = ModelCheckpoint(\n",
        "      dirpath = ckpt_path, \n",
        "      filename = '{epoch}-{val_loss:.2f}',\n",
        "      save_top_k = args.save_top_k,\n",
        "      mode = args.monitor.split()[0]\n",
        "      monitor = args.monitor.split()[1] \n",
        "  )\n",
        "\n",
        "  # Trainer\n",
        "  trainer = Trainer(\n",
        "      max_pochs = args.epochs,\n",
        "      fast_dev_run = args.test_mode,\n",
        "      num_sanity_val_steps = None if args.test_mode else 0,\n",
        "      callbacks = [checkpoint_callback],\n",
        "      default_root_dir = ckpt_path,\n",
        "\n",
        "      # For GPU Setup\n",
        "      deterministic=torch.cuda.is_available() and args.seed is not None,\n",
        "      gpus = torch.cuda.device_count() if torch.cuda.is_available() else None,\n",
        "      precisio = 16 if args.fp16 else 32,\n",
        "  )\n",
        "\n",
        "  if return_trainer_only :\n",
        "    return trainer\n",
        "  else : \n",
        "    return checkpoint_callback, trainer"
      ],
      "metadata": {
        "id": "2JLaoeJSP7Qs"
      },
      "execution_count": null,
      "outputs": []
    },
    {
      "cell_type": "code",
      "source": [
        "# Model\n",
        "task = StoryGenerator(model, args)\n",
        "\n",
        "# Fine-tuning\n",
        "trainer = get_trainer(args)\n",
        "trainer.fit(\n",
        "    task,\n",
        "    train_dataloaders = train_dataloader,\n",
        "    val_dataloaders = val_dataloader,\n",
        ")"
      ],
      "metadata": {
        "id": "O20wxxSMP7U5"
      },
      "execution_count": null,
      "outputs": []
    }
  ]
}